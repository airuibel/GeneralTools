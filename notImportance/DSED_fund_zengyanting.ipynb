{
 "cells": [
  {
   "cell_type": "code",
   "execution_count": 2,
   "metadata": {},
   "outputs": [],
   "source": [
    "##############################################网银模型##############################################################################\n",
    "from scorecard_functions import *\n",
    "from util import *\n",
    "import pandas as pd\n",
    "import numpy as np\n",
    "import xgboost as xgb\n",
    "import lightgbm as lgb\n",
    "from sklearn.model_selection import StratifiedKFold\n",
    "import gc\n",
    "import math\n",
    "\n",
    "\n",
    "import pandas as pd\n",
    "import re\n",
    "import time\n",
    "import datetime\n",
    "from dateutil.relativedelta import relativedelta\n",
    "from sklearn.model_selection import train_test_split\n",
    "import matplotlib.pyplot as plt\n",
    "import seaborn as sns\n",
    "from statsmodels.stats.outliers_influence import variance_inflation_factor\n",
    "from sklearn.linear_model import LogisticRegressionCV\n",
    "import statsmodels.api as sm\n",
    "from sklearn.ensemble import RandomForestClassifier\n",
    "#import requests,urllib,json,datetime,pymysql,uuid\n",
    "from tqdm import tqdm\n",
    "\n",
    " \n",
    "# from sklearn.model_selection import GridSearchCV\n",
    "# from sklearn.cross_validation import cross_val_score\n",
    "from sklearn import preprocessing\n",
    "from sklearn.linear_model import Lasso,LassoCV   # Lasso回归,LassoCV交叉验证实现alpha的选取，LassoLarsCV基于最小角回归交叉验证实现alpha的选取"
   ]
  },
  {
   "cell_type": "code",
   "execution_count": 58,
   "metadata": {},
   "outputs": [
    {
     "data": {
      "text/html": [
       "<div>\n",
       "<table border=\"1\" class=\"dataframe\">\n",
       "  <thead>\n",
       "    <tr style=\"text-align: right;\">\n",
       "      <th></th>\n",
       "      <th>query_times</th>\n",
       "      <th>org_count</th>\n",
       "      <th>avg_query_times</th>\n",
       "      <th>nearest_pass_org</th>\n",
       "      <th>nearest_unpass_org</th>\n",
       "      <th>avg_loan_days</th>\n",
       "      <th>avg_loan_success_days</th>\n",
       "      <th>avg_install_days</th>\n",
       "      <th>loan_ratio</th>\n",
       "      <th>loan_success_ratio</th>\n",
       "      <th>...</th>\n",
       "      <th>other_size</th>\n",
       "      <th>frequency_size</th>\n",
       "      <th>calls_percent</th>\n",
       "      <th>linkman_count</th>\n",
       "      <th>phone_long_rate</th>\n",
       "      <th>phone_long_count</th>\n",
       "      <th>phone_short_rate</th>\n",
       "      <th>phone_short_count</th>\n",
       "      <th>zm_score</th>\n",
       "      <th>target</th>\n",
       "    </tr>\n",
       "  </thead>\n",
       "  <tbody>\n",
       "    <tr>\n",
       "      <th>0</th>\n",
       "      <td>2.0</td>\n",
       "      <td>2.0</td>\n",
       "      <td>0.0</td>\n",
       "      <td>NaN</td>\n",
       "      <td>NaN</td>\n",
       "      <td>NaN</td>\n",
       "      <td>NaN</td>\n",
       "      <td>NaN</td>\n",
       "      <td>NaN</td>\n",
       "      <td>NaN</td>\n",
       "      <td>...</td>\n",
       "      <td>0</td>\n",
       "      <td>0</td>\n",
       "      <td>0.779</td>\n",
       "      <td>103</td>\n",
       "      <td>1</td>\n",
       "      <td>103</td>\n",
       "      <td>0</td>\n",
       "      <td>0</td>\n",
       "      <td>608</td>\n",
       "      <td>0</td>\n",
       "    </tr>\n",
       "    <tr>\n",
       "      <th>1</th>\n",
       "      <td>20.0</td>\n",
       "      <td>11.0</td>\n",
       "      <td>0.0</td>\n",
       "      <td>103.0</td>\n",
       "      <td>103.0</td>\n",
       "      <td>11.0</td>\n",
       "      <td>4.0</td>\n",
       "      <td>1.0</td>\n",
       "      <td>0.64</td>\n",
       "      <td>0.41</td>\n",
       "      <td>...</td>\n",
       "      <td>0</td>\n",
       "      <td>0</td>\n",
       "      <td>0.349</td>\n",
       "      <td>306</td>\n",
       "      <td>1</td>\n",
       "      <td>432</td>\n",
       "      <td>0</td>\n",
       "      <td>0</td>\n",
       "      <td>415</td>\n",
       "      <td>0</td>\n",
       "    </tr>\n",
       "    <tr>\n",
       "      <th>3</th>\n",
       "      <td>15.0</td>\n",
       "      <td>12.0</td>\n",
       "      <td>0.0</td>\n",
       "      <td>NaN</td>\n",
       "      <td>230.0</td>\n",
       "      <td>4.0</td>\n",
       "      <td>0.0</td>\n",
       "      <td>0.0</td>\n",
       "      <td>0.75</td>\n",
       "      <td>0.00</td>\n",
       "      <td>...</td>\n",
       "      <td>0</td>\n",
       "      <td>0</td>\n",
       "      <td>0.687</td>\n",
       "      <td>122</td>\n",
       "      <td>1</td>\n",
       "      <td>122</td>\n",
       "      <td>0</td>\n",
       "      <td>0</td>\n",
       "      <td>608</td>\n",
       "      <td>0</td>\n",
       "    </tr>\n",
       "    <tr>\n",
       "      <th>4</th>\n",
       "      <td>24.0</td>\n",
       "      <td>14.0</td>\n",
       "      <td>0.0</td>\n",
       "      <td>218.0</td>\n",
       "      <td>368.0</td>\n",
       "      <td>5.0</td>\n",
       "      <td>3.0</td>\n",
       "      <td>0.0</td>\n",
       "      <td>0.71</td>\n",
       "      <td>0.53</td>\n",
       "      <td>...</td>\n",
       "      <td>0</td>\n",
       "      <td>0</td>\n",
       "      <td>0.864</td>\n",
       "      <td>401</td>\n",
       "      <td>1</td>\n",
       "      <td>410</td>\n",
       "      <td>0</td>\n",
       "      <td>0</td>\n",
       "      <td>625</td>\n",
       "      <td>0</td>\n",
       "    </tr>\n",
       "    <tr>\n",
       "      <th>5</th>\n",
       "      <td>3.0</td>\n",
       "      <td>3.0</td>\n",
       "      <td>0.0</td>\n",
       "      <td>NaN</td>\n",
       "      <td>251.0</td>\n",
       "      <td>0.0</td>\n",
       "      <td>0.0</td>\n",
       "      <td>0.0</td>\n",
       "      <td>1.00</td>\n",
       "      <td>0.00</td>\n",
       "      <td>...</td>\n",
       "      <td>0</td>\n",
       "      <td>0</td>\n",
       "      <td>0.535</td>\n",
       "      <td>36</td>\n",
       "      <td>1</td>\n",
       "      <td>37</td>\n",
       "      <td>0</td>\n",
       "      <td>0</td>\n",
       "      <td>560</td>\n",
       "      <td>0</td>\n",
       "    </tr>\n",
       "  </tbody>\n",
       "</table>\n",
       "<p>5 rows × 455 columns</p>\n",
       "</div>"
      ],
      "text/plain": [
       "   query_times  org_count  avg_query_times  nearest_pass_org  \\\n",
       "0          2.0        2.0              0.0               NaN   \n",
       "1         20.0       11.0              0.0             103.0   \n",
       "3         15.0       12.0              0.0               NaN   \n",
       "4         24.0       14.0              0.0             218.0   \n",
       "5          3.0        3.0              0.0               NaN   \n",
       "\n",
       "   nearest_unpass_org  avg_loan_days  avg_loan_success_days  avg_install_days  \\\n",
       "0                 NaN            NaN                    NaN               NaN   \n",
       "1               103.0           11.0                    4.0               1.0   \n",
       "3               230.0            4.0                    0.0               0.0   \n",
       "4               368.0            5.0                    3.0               0.0   \n",
       "5               251.0            0.0                    0.0               0.0   \n",
       "\n",
       "   loan_ratio  loan_success_ratio   ...    other_size  frequency_size  \\\n",
       "0         NaN                 NaN   ...             0               0   \n",
       "1        0.64                0.41   ...             0               0   \n",
       "3        0.75                0.00   ...             0               0   \n",
       "4        0.71                0.53   ...             0               0   \n",
       "5        1.00                0.00   ...             0               0   \n",
       "\n",
       "   calls_percent  linkman_count  phone_long_rate  phone_long_count  \\\n",
       "0          0.779            103                1               103   \n",
       "1          0.349            306                1               432   \n",
       "3          0.687            122                1               122   \n",
       "4          0.864            401                1               410   \n",
       "5          0.535             36                1                37   \n",
       "\n",
       "   phone_short_rate  phone_short_count  zm_score  target  \n",
       "0                 0                  0       608       0  \n",
       "1                 0                  0       415       0  \n",
       "3                 0                  0       608       0  \n",
       "4                 0                  0       625       0  \n",
       "5                 0                  0       560       0  \n",
       "\n",
       "[5 rows x 455 columns]"
      ]
     },
     "execution_count": 58,
     "metadata": {},
     "output_type": "execute_result"
    }
   ],
   "source": [
    "'''\n",
    "一、读入数据\n",
    "1、如果数据集是整个样本的话，直接运行这一段\n",
    "'''\n",
    "mydata=pd.read_csv(\"F:/onbank_model/myPython/onbank_xzd.csv\")##encoding='gbk'  ,自己导出来的数据需要加这个，金莲导出来的不需要\n",
    "mydata=mydata.drop_duplicates([\"consumer_no\"])\n",
    "##目标变量\n",
    "mydata['target']=mydata['max_overdue_day'].apply(lambda x: 0 if x==0 else 2 if x<7 else 1)\n",
    "mydata=mydata[mydata['target']!=2]\n",
    "mydata=mydata.drop([\"consumer_no\",\"max_overdue_day\",\"nearest_query_time\",\"farthest_query_time\",\"nearest_pass_time\",\"nearest_unpass_time\"],axis=1)\n",
    "mydata.head()"
   ]
  },
  {
   "cell_type": "code",
   "execution_count": 3,
   "metadata": {},
   "outputs": [
    {
     "name": "stderr",
     "output_type": "stream",
     "text": [
      "E:\\360Downloads\\Python\\lib\\site-packages\\IPython\\core\\interactiveshell.py:2717: DtypeWarning: Columns (31,32,221,222,225,232,233,234,235,236,237,238,239,240,241,242,243,244,245,246,247,248,249,250,252,253,254,255,256,260) have mixed types. Specify dtype option on import or set low_memory=False.\n",
      "  interactivity=interactivity, compiler=compiler, result=result)\n"
     ]
    },
    {
     "name": "stdout",
     "output_type": "stream",
     "text": [
      "(5387, 462)\n",
      "(4786, 456)\n"
     ]
    }
   ],
   "source": [
    "'''\n",
    "2、如果数据集是按照 好、坏样本分别存储的话先跑这一段，然后注释掉\n",
    "'''\n",
    "# bad=pd.read_csv(\"F:/onbank_model/myPython/bad.csv\",encoding='gbk')\n",
    "# good=pd.read_csv(\"F:/onbank_model/myPython/good.csv\",encoding='gbk')\n",
    "# bad['target']=1\n",
    "# good['target']=0\n",
    "# mydata=pd.concat([good,bad])\n",
    "# print(mydata.shape)\n",
    "# ##去重\n",
    "# mydata1=mydata.drop_duplicates([\"consumer_no\"])\n",
    "# mydata1=mydata1.drop([\"consumer_no\",\"max_overdue_day\",\"nearest_query_time\",\"farthest_query_time\",\"nearest_pass_time\",\"nearest_unpass_time\"],axis=1)\n",
    "# mydata1.to_csv('F:/onbank_model/myPython/mydata.csv',index=False, sep=\",\")\n",
    "# print(mydata1.shape)\n",
    "\n",
    "#读取存储的数据集\n",
    "mydata=pd.read_csv(\"F:/onbank_model/myPython/mydata.csv\",encoding='gbk')\n",
    "#mydata=mydata.sort_values('add_time')  ##按add_time升序排列\n",
    "del mydata['add_time']"
   ]
  },
  {
   "cell_type": "code",
   "execution_count": 59,
   "metadata": {},
   "outputs": [
    {
     "name": "stdout",
     "output_type": "stream",
     "text": [
      "(13415, 374)\n"
     ]
    },
    {
     "data": {
      "text/html": [
       "<div>\n",
       "<table border=\"1\" class=\"dataframe\">\n",
       "  <thead>\n",
       "    <tr style=\"text-align: right;\">\n",
       "      <th></th>\n",
       "      <th>query_times</th>\n",
       "      <th>org_count</th>\n",
       "      <th>avg_query_times</th>\n",
       "      <th>nearest_unpass_org</th>\n",
       "      <th>avg_loan_days</th>\n",
       "      <th>avg_loan_success_days</th>\n",
       "      <th>avg_install_days</th>\n",
       "      <th>loan_ratio</th>\n",
       "      <th>loan_success_ratio</th>\n",
       "      <th>nearest_loan</th>\n",
       "      <th>...</th>\n",
       "      <th>other_size</th>\n",
       "      <th>frequency_size</th>\n",
       "      <th>calls_percent</th>\n",
       "      <th>linkman_count</th>\n",
       "      <th>phone_long_rate</th>\n",
       "      <th>phone_long_count</th>\n",
       "      <th>phone_short_rate</th>\n",
       "      <th>phone_short_count</th>\n",
       "      <th>zm_score</th>\n",
       "      <th>target</th>\n",
       "    </tr>\n",
       "  </thead>\n",
       "  <tbody>\n",
       "    <tr>\n",
       "      <th>0</th>\n",
       "      <td>2.0</td>\n",
       "      <td>2.0</td>\n",
       "      <td>0.0</td>\n",
       "      <td>NaN</td>\n",
       "      <td>NaN</td>\n",
       "      <td>NaN</td>\n",
       "      <td>NaN</td>\n",
       "      <td>NaN</td>\n",
       "      <td>NaN</td>\n",
       "      <td>NaN</td>\n",
       "      <td>...</td>\n",
       "      <td>0</td>\n",
       "      <td>0</td>\n",
       "      <td>0.779</td>\n",
       "      <td>103</td>\n",
       "      <td>1</td>\n",
       "      <td>103</td>\n",
       "      <td>0</td>\n",
       "      <td>0</td>\n",
       "      <td>608</td>\n",
       "      <td>0</td>\n",
       "    </tr>\n",
       "    <tr>\n",
       "      <th>1</th>\n",
       "      <td>20.0</td>\n",
       "      <td>11.0</td>\n",
       "      <td>0.0</td>\n",
       "      <td>103.0</td>\n",
       "      <td>11.0</td>\n",
       "      <td>4.0</td>\n",
       "      <td>1.0</td>\n",
       "      <td>0.64</td>\n",
       "      <td>0.41</td>\n",
       "      <td>7500.0</td>\n",
       "      <td>...</td>\n",
       "      <td>0</td>\n",
       "      <td>0</td>\n",
       "      <td>0.349</td>\n",
       "      <td>306</td>\n",
       "      <td>1</td>\n",
       "      <td>432</td>\n",
       "      <td>0</td>\n",
       "      <td>0</td>\n",
       "      <td>415</td>\n",
       "      <td>0</td>\n",
       "    </tr>\n",
       "    <tr>\n",
       "      <th>3</th>\n",
       "      <td>15.0</td>\n",
       "      <td>12.0</td>\n",
       "      <td>0.0</td>\n",
       "      <td>230.0</td>\n",
       "      <td>4.0</td>\n",
       "      <td>0.0</td>\n",
       "      <td>0.0</td>\n",
       "      <td>0.75</td>\n",
       "      <td>0.00</td>\n",
       "      <td>7500.0</td>\n",
       "      <td>...</td>\n",
       "      <td>0</td>\n",
       "      <td>0</td>\n",
       "      <td>0.687</td>\n",
       "      <td>122</td>\n",
       "      <td>1</td>\n",
       "      <td>122</td>\n",
       "      <td>0</td>\n",
       "      <td>0</td>\n",
       "      <td>608</td>\n",
       "      <td>0</td>\n",
       "    </tr>\n",
       "    <tr>\n",
       "      <th>4</th>\n",
       "      <td>24.0</td>\n",
       "      <td>14.0</td>\n",
       "      <td>0.0</td>\n",
       "      <td>368.0</td>\n",
       "      <td>5.0</td>\n",
       "      <td>3.0</td>\n",
       "      <td>0.0</td>\n",
       "      <td>0.71</td>\n",
       "      <td>0.53</td>\n",
       "      <td>3000.0</td>\n",
       "      <td>...</td>\n",
       "      <td>0</td>\n",
       "      <td>0</td>\n",
       "      <td>0.864</td>\n",
       "      <td>401</td>\n",
       "      <td>1</td>\n",
       "      <td>410</td>\n",
       "      <td>0</td>\n",
       "      <td>0</td>\n",
       "      <td>625</td>\n",
       "      <td>0</td>\n",
       "    </tr>\n",
       "    <tr>\n",
       "      <th>5</th>\n",
       "      <td>3.0</td>\n",
       "      <td>3.0</td>\n",
       "      <td>0.0</td>\n",
       "      <td>251.0</td>\n",
       "      <td>0.0</td>\n",
       "      <td>0.0</td>\n",
       "      <td>0.0</td>\n",
       "      <td>1.00</td>\n",
       "      <td>0.00</td>\n",
       "      <td>500.0</td>\n",
       "      <td>...</td>\n",
       "      <td>0</td>\n",
       "      <td>0</td>\n",
       "      <td>0.535</td>\n",
       "      <td>36</td>\n",
       "      <td>1</td>\n",
       "      <td>37</td>\n",
       "      <td>0</td>\n",
       "      <td>0</td>\n",
       "      <td>560</td>\n",
       "      <td>0</td>\n",
       "    </tr>\n",
       "  </tbody>\n",
       "</table>\n",
       "<p>5 rows × 374 columns</p>\n",
       "</div>"
      ],
      "text/plain": [
       "   query_times  org_count  avg_query_times  nearest_unpass_org  avg_loan_days  \\\n",
       "0          2.0        2.0              0.0                 NaN            NaN   \n",
       "1         20.0       11.0              0.0               103.0           11.0   \n",
       "3         15.0       12.0              0.0               230.0            4.0   \n",
       "4         24.0       14.0              0.0               368.0            5.0   \n",
       "5          3.0        3.0              0.0               251.0            0.0   \n",
       "\n",
       "   avg_loan_success_days  avg_install_days  loan_ratio  loan_success_ratio  \\\n",
       "0                    NaN               NaN         NaN                 NaN   \n",
       "1                    4.0               1.0        0.64                0.41   \n",
       "3                    0.0               0.0        0.75                0.00   \n",
       "4                    3.0               0.0        0.71                0.53   \n",
       "5                    0.0               0.0        1.00                0.00   \n",
       "\n",
       "   nearest_loan   ...    other_size  frequency_size  calls_percent  \\\n",
       "0           NaN   ...             0               0          0.779   \n",
       "1        7500.0   ...             0               0          0.349   \n",
       "3        7500.0   ...             0               0          0.687   \n",
       "4        3000.0   ...             0               0          0.864   \n",
       "5         500.0   ...             0               0          0.535   \n",
       "\n",
       "   linkman_count  phone_long_rate  phone_long_count  phone_short_rate  \\\n",
       "0            103                1               103                 0   \n",
       "1            306                1               432                 0   \n",
       "3            122                1               122                 0   \n",
       "4            401                1               410                 0   \n",
       "5             36                1                37                 0   \n",
       "\n",
       "   phone_short_count  zm_score  target  \n",
       "0                  0       608       0  \n",
       "1                  0       415       0  \n",
       "3                  0       608       0  \n",
       "4                  0       625       0  \n",
       "5                  0       560       0  \n",
       "\n",
       "[5 rows x 374 columns]"
      ]
     },
     "execution_count": 59,
     "metadata": {},
     "output_type": "execute_result"
    }
   ],
   "source": [
    "'''\n",
    "二、数据预处理\n",
    "\n",
    "1、删除缺失值比重> 30% 的变量\n",
    "'''\n",
    "miss_to_drop = []\n",
    "for col in mydata.columns:\n",
    "    if mydata[mydata[col].isnull().values==True].iloc[:,0].size/mydata.shape[0]>0.3:\n",
    "        miss_to_drop.append(col)\n",
    "        \n",
    "mydata.drop(miss_to_drop,axis=1,inplace=True)\n",
    "print(mydata.shape)\n",
    "mydata.head()"
   ]
  },
  {
   "cell_type": "code",
   "execution_count": 60,
   "metadata": {},
   "outputs": [
    {
     "data": {
      "text/html": [
       "<div>\n",
       "<table border=\"1\" class=\"dataframe\">\n",
       "  <thead>\n",
       "    <tr style=\"text-align: right;\">\n",
       "      <th></th>\n",
       "      <th>query_times</th>\n",
       "      <th>org_count</th>\n",
       "      <th>nearest_unpass_org</th>\n",
       "      <th>avg_loan_days</th>\n",
       "      <th>avg_loan_success_days</th>\n",
       "      <th>avg_install_days</th>\n",
       "      <th>loan_ratio</th>\n",
       "      <th>loan_success_ratio</th>\n",
       "      <th>nearest_loan</th>\n",
       "      <th>nearest_loan_success</th>\n",
       "      <th>...</th>\n",
       "      <th>fake_size</th>\n",
       "      <th>family_size</th>\n",
       "      <th>code_size</th>\n",
       "      <th>fake_percent</th>\n",
       "      <th>invalid_percent</th>\n",
       "      <th>calls_percent</th>\n",
       "      <th>linkman_count</th>\n",
       "      <th>phone_long_count</th>\n",
       "      <th>zm_score</th>\n",
       "      <th>target</th>\n",
       "    </tr>\n",
       "  </thead>\n",
       "  <tbody>\n",
       "    <tr>\n",
       "      <th>0</th>\n",
       "      <td>2.0</td>\n",
       "      <td>2.0</td>\n",
       "      <td>NaN</td>\n",
       "      <td>NaN</td>\n",
       "      <td>NaN</td>\n",
       "      <td>NaN</td>\n",
       "      <td>NaN</td>\n",
       "      <td>NaN</td>\n",
       "      <td>NaN</td>\n",
       "      <td>NaN</td>\n",
       "      <td>...</td>\n",
       "      <td>1</td>\n",
       "      <td>11</td>\n",
       "      <td>31</td>\n",
       "      <td>0.010</td>\n",
       "      <td>0.000</td>\n",
       "      <td>0.779</td>\n",
       "      <td>103</td>\n",
       "      <td>103</td>\n",
       "      <td>608</td>\n",
       "      <td>0</td>\n",
       "    </tr>\n",
       "    <tr>\n",
       "      <th>1</th>\n",
       "      <td>20.0</td>\n",
       "      <td>11.0</td>\n",
       "      <td>103.0</td>\n",
       "      <td>11.0</td>\n",
       "      <td>4.0</td>\n",
       "      <td>1.0</td>\n",
       "      <td>0.64</td>\n",
       "      <td>0.41</td>\n",
       "      <td>7500.0</td>\n",
       "      <td>3000.0</td>\n",
       "      <td>...</td>\n",
       "      <td>1</td>\n",
       "      <td>32</td>\n",
       "      <td>28</td>\n",
       "      <td>0.003</td>\n",
       "      <td>0.000</td>\n",
       "      <td>0.349</td>\n",
       "      <td>306</td>\n",
       "      <td>432</td>\n",
       "      <td>415</td>\n",
       "      <td>0</td>\n",
       "    </tr>\n",
       "    <tr>\n",
       "      <th>3</th>\n",
       "      <td>15.0</td>\n",
       "      <td>12.0</td>\n",
       "      <td>230.0</td>\n",
       "      <td>4.0</td>\n",
       "      <td>0.0</td>\n",
       "      <td>0.0</td>\n",
       "      <td>0.75</td>\n",
       "      <td>0.00</td>\n",
       "      <td>7500.0</td>\n",
       "      <td>0.0</td>\n",
       "      <td>...</td>\n",
       "      <td>0</td>\n",
       "      <td>7</td>\n",
       "      <td>23</td>\n",
       "      <td>0.000</td>\n",
       "      <td>0.000</td>\n",
       "      <td>0.687</td>\n",
       "      <td>122</td>\n",
       "      <td>122</td>\n",
       "      <td>608</td>\n",
       "      <td>0</td>\n",
       "    </tr>\n",
       "    <tr>\n",
       "      <th>4</th>\n",
       "      <td>24.0</td>\n",
       "      <td>14.0</td>\n",
       "      <td>368.0</td>\n",
       "      <td>5.0</td>\n",
       "      <td>3.0</td>\n",
       "      <td>0.0</td>\n",
       "      <td>0.71</td>\n",
       "      <td>0.53</td>\n",
       "      <td>3000.0</td>\n",
       "      <td>3000.0</td>\n",
       "      <td>...</td>\n",
       "      <td>9</td>\n",
       "      <td>51</td>\n",
       "      <td>35</td>\n",
       "      <td>0.022</td>\n",
       "      <td>0.020</td>\n",
       "      <td>0.864</td>\n",
       "      <td>401</td>\n",
       "      <td>410</td>\n",
       "      <td>625</td>\n",
       "      <td>0</td>\n",
       "    </tr>\n",
       "    <tr>\n",
       "      <th>5</th>\n",
       "      <td>3.0</td>\n",
       "      <td>3.0</td>\n",
       "      <td>251.0</td>\n",
       "      <td>0.0</td>\n",
       "      <td>0.0</td>\n",
       "      <td>0.0</td>\n",
       "      <td>1.00</td>\n",
       "      <td>0.00</td>\n",
       "      <td>500.0</td>\n",
       "      <td>0.0</td>\n",
       "      <td>...</td>\n",
       "      <td>2</td>\n",
       "      <td>6</td>\n",
       "      <td>16</td>\n",
       "      <td>0.038</td>\n",
       "      <td>0.321</td>\n",
       "      <td>0.535</td>\n",
       "      <td>36</td>\n",
       "      <td>37</td>\n",
       "      <td>560</td>\n",
       "      <td>0</td>\n",
       "    </tr>\n",
       "  </tbody>\n",
       "</table>\n",
       "<p>5 rows × 307 columns</p>\n",
       "</div>"
      ],
      "text/plain": [
       "   query_times  org_count  nearest_unpass_org  avg_loan_days  \\\n",
       "0          2.0        2.0                 NaN            NaN   \n",
       "1         20.0       11.0               103.0           11.0   \n",
       "3         15.0       12.0               230.0            4.0   \n",
       "4         24.0       14.0               368.0            5.0   \n",
       "5          3.0        3.0               251.0            0.0   \n",
       "\n",
       "   avg_loan_success_days  avg_install_days  loan_ratio  loan_success_ratio  \\\n",
       "0                    NaN               NaN         NaN                 NaN   \n",
       "1                    4.0               1.0        0.64                0.41   \n",
       "3                    0.0               0.0        0.75                0.00   \n",
       "4                    3.0               0.0        0.71                0.53   \n",
       "5                    0.0               0.0        1.00                0.00   \n",
       "\n",
       "   nearest_loan  nearest_loan_success   ...    fake_size  family_size  \\\n",
       "0           NaN                   NaN   ...            1           11   \n",
       "1        7500.0                3000.0   ...            1           32   \n",
       "3        7500.0                   0.0   ...            0            7   \n",
       "4        3000.0                3000.0   ...            9           51   \n",
       "5         500.0                   0.0   ...            2            6   \n",
       "\n",
       "   code_size  fake_percent  invalid_percent calls_percent  linkman_count  \\\n",
       "0         31         0.010            0.000         0.779            103   \n",
       "1         28         0.003            0.000         0.349            306   \n",
       "3         23         0.000            0.000         0.687            122   \n",
       "4         35         0.022            0.020         0.864            401   \n",
       "5         16         0.038            0.321         0.535             36   \n",
       "\n",
       "   phone_long_count zm_score  target  \n",
       "0               103      608       0  \n",
       "1               432      415       0  \n",
       "3               122      608       0  \n",
       "4               410      625       0  \n",
       "5                37      560       0  \n",
       "\n",
       "[5 rows x 307 columns]"
      ]
     },
     "execution_count": 60,
     "metadata": {},
     "output_type": "execute_result"
    }
   ],
   "source": [
    "'''\n",
    "2、删除重复值比重>=80% 的变量\n",
    "'''\n",
    "repeat_to_drop = []\n",
    "for name in mydata.columns.values:\n",
    "    if mydata[name].value_counts().iloc[0] / mydata.shape[0] >=0.8:\n",
    "        repeat_to_drop.append(name)\n",
    "\n",
    "if 'target' in repeat_to_drop:\n",
    "    repeat_to_drop.remove('target')\n",
    "    \n",
    "mydata.drop(repeat_to_drop,axis = 1, inplace = True)\n",
    "mydata.head()     "
   ]
  },
  {
   "cell_type": "code",
   "execution_count": 65,
   "metadata": {
    "scrolled": true
   },
   "outputs": [
    {
     "name": "stdout",
     "output_type": "stream",
     "text": [
      "query_times 44\n",
      "org_count 44\n",
      "nearest_unpass_org 2080\n",
      "avg_loan_days 1177\n",
      "avg_loan_success_days 1177\n",
      "avg_install_days 1177\n",
      "loan_ratio 1177\n",
      "loan_success_ratio 1177\n",
      "nearest_loan 1177\n",
      "nearest_loan_success 1177\n",
      "avg_loan_amount 1177\n",
      "avg_loan_success_amount 1177\n",
      "max_loan_amount 1177\n",
      "max_loan_success_amount 1177\n",
      "his_overdue_times 1177\n",
      "os_type 2\n",
      "final_dicision 2\n",
      "apply_1m 619\n",
      "apply_3m 68\n",
      "apply_7d 3926\n",
      "loan_12m 2687\n",
      "loan_18m 2429\n",
      "loan_24m 2356\n",
      "loan_60m 2332\n",
      "debitcard_max_continue_consume_month_3 2835\n",
      "debitcard_max_continue_consume_month_6 2686\n",
      "debitcard_max_continue_consume_month_12 2579\n",
      "score 99\n",
      "blacklist_contacts_cnt 99\n",
      "contacts_cnt 99\n",
      "blacklist_routers_cnt 99\n",
      "blacklist_routers_pct 99\n",
      "blacklist_indirect_contacts_cnt 99\n",
      "proportion3 101\n",
      "call_match_num_thirty 95\n",
      "called_match_num_thirty 95\n",
      "calling_match_num_thirty 95\n",
      "call_match_num_ninety 95\n",
      "called_match_num_ninety 95\n",
      "calling_match_num_ninety 95\n",
      "call_match_num_one_eighty 95\n",
      "called_match_num_one_eighty 95\n",
      "calling_match_num_one_eighty 95\n",
      "calls_percent 451\n",
      "类别型变量： os_type\n",
      "类别型变量： final_dicision\n"
     ]
    }
   ],
   "source": [
    "'''\n",
    "3、缺失值填充\n",
    "'''\n",
    "miss_col=[]\n",
    "for col in mydata.columns:\n",
    "    num=mydata[mydata[col].isnull().values==True].iloc[:,0].size\n",
    "    if num >0:\n",
    "        print(col,num)\n",
    "        miss_col.append(col)\n",
    "        \n",
    "##缺失值变量中识别 类别型变量\n",
    "for colname in miss_col:\n",
    "    if type(mydata[colname][0])==type('str'):\n",
    "        print('类别型变量：',colname)"
   ]
  },
  {
   "cell_type": "code",
   "execution_count": 66,
   "metadata": {},
   "outputs": [
    {
     "data": {
      "text/plain": [
       "建议拒绝    7935\n",
       "建议审核    5365\n",
       "建议通过     113\n",
       "Name: final_dicision, dtype: int64"
      ]
     },
     "execution_count": 66,
     "metadata": {},
     "output_type": "execute_result"
    }
   ],
   "source": [
    "mydata['final_dicision'].value_counts()"
   ]
  },
  {
   "cell_type": "code",
   "execution_count": 68,
   "metadata": {},
   "outputs": [],
   "source": [
    "'''\n",
    "1）类比型变量填补\n",
    "'''\n",
    "\n",
    "mydata['final_dicision']=mydata['final_dicision'].fillna('null')\n",
    "mydata['os_type']=mydata['os_type'].fillna('null')\n",
    "'''\n",
    "2) 特殊型变量填补\n",
    "''' \n",
    "mydata['apply_1m']=mydata['apply_1m'].fillna(0)\n",
    "mydata['apply_3m']=mydata['apply_3m'].fillna(0)\n",
    "miss_col.remove('final_dicision')\n",
    "miss_col.remove('os_type')\n",
    "miss_col.remove('apply_1m')\n",
    "miss_col.remove('apply_3m')\n",
    "'''\n",
    "3）其他用均值填补\n",
    "'''\n",
    "for name in miss_col:\n",
    "    mydata[name]=mydata[name].fillna(mydata[name].mean())\n",
    "\n",
    "# ###再一次删除重复值\n",
    "# move_again=[]\n",
    "# for name in mydata.columns.values:\n",
    "#     if mydata[name].value_counts().iloc[0] / mydata.shape[0] >=0.8:\n",
    "#         move_again.append(name)\n",
    "        \n",
    "# move_again  #只有目标变量的话就不用删除了"
   ]
  },
  {
   "cell_type": "code",
   "execution_count": 71,
   "metadata": {},
   "outputs": [
    {
     "name": "stdout",
     "output_type": "stream",
     "text": [
      "(10732, 306)\n",
      "(2683, 306)\n"
     ]
    }
   ],
   "source": [
    "'''\n",
    "三、划分训练集与测试集\n",
    "'''\n",
    "col=list(mydata.columns.values)\n",
    "col.remove('target')\n",
    "X_train, X_valid, y_train, y_valid = train_test_split(\n",
    "    mydata[col], mydata['target'], train_size=0.8)\n",
    "print(X_train.shape)\n",
    "print(X_valid.shape)"
   ]
  },
  {
   "cell_type": "code",
   "execution_count": 293,
   "metadata": {},
   "outputs": [
    {
     "name": "stdout",
     "output_type": "stream",
     "text": [
      "训练集好坏样本结构比： 0.2024402390438247\n",
      "测试集好坏样本结构比： 0.22323462414578588\n"
     ]
    }
   ],
   "source": [
    "mydata1=pd.concat([X_train,y_train],axis=1)##训练集\n",
    "train=mydata1\n",
    "test=pd.concat([X_valid,y_valid],axis=1)##测试集\n",
    "print('训练集好坏样本结构比：',mydata1[mydata1['target']==1].shape[0]/mydata1[mydata1['target']==0].shape[0])\n",
    "print('测试集好坏样本结构比：',test[test['target']==1].shape[0]/test[test['target']==0].shape[0])"
   ]
  },
  {
   "cell_type": "code",
   "execution_count": 294,
   "metadata": {},
   "outputs": [],
   "source": [
    "train.to_csv('F:/onbank_model/myPython/result1/train.csv',sep=\",\")\n",
    "test.to_csv('F:/onbank_model/myPython/result1/test.csv',sep=\",\")"
   ]
  },
  {
   "cell_type": "code",
   "execution_count": 74,
   "metadata": {},
   "outputs": [
    {
     "data": {
      "text/plain": [
       "['os_type',\n",
       " 'final_dicision',\n",
       " 'real_valid',\n",
       " 'idcard_valid',\n",
       " 'phone_valid',\n",
       " 'is_address_match_attribution_1m',\n",
       " 'is_address_match_attribution_3m',\n",
       " 'call_cnt_more_1m',\n",
       " 'call_cnt_more_3m']"
      ]
     },
     "execution_count": 74,
     "metadata": {},
     "output_type": "execute_result"
    }
   ],
   "source": [
    "##确认类别型变量、连续变量\n",
    "cat_features=[]\n",
    "for colname in mydata1.columns:\n",
    "    if type(mydata1[colname][0])==type('str'):\n",
    "        cat_features.append(colname)\n",
    "print(cat_features)\n",
    "\n",
    "not_feature = ['target']\n",
    "##连续型变量\n",
    "num_features = list(set(mydata1.columns.values) - set(cat_features) - set(not_feature))\n",
    "##处理后的变量\n",
    "feature = list(mydata1.columns.values)\n",
    "feature.remove(\"target\")#去掉目标变量"
   ]
  },
  {
   "cell_type": "code",
   "execution_count": 76,
   "metadata": {},
   "outputs": [],
   "source": [
    "'''\n",
    "四、变量筛选\n",
    "\n",
    "1、IV值筛选变量\n",
    "\n",
    "分箱，采用ChiMerge,要求分箱完之后：\n",
    "（1）不超过5箱\n",
    "（2）Bad Rate单调\n",
    "（3）每箱同时包含好坏样本\n",
    "（4）特殊值如－1，单独成一箱\n",
    "\n",
    "连续型变量可直接分箱\n",
    "类别型变量：\n",
    "（a）当取值较多时，先用bad rate编码，再用连续型分箱的方式进行分箱\n",
    "（b）当取值较少时：\n",
    "    （b1）如果每种类别同时包含好坏样本，无需分箱\n",
    "    （b2）如果有类别只包含好坏样本的一种，需要合并\n",
    "'''\n",
    "more_value_features = []\n",
    "less_value_features = []\n",
    "\n",
    "#检查类别型变量，哪些变量取值超过5\n",
    "for var in cat_features:\n",
    "    #if var in mydata1.columns:\n",
    "    valueCounts=len(set(mydata1[var]))\n",
    "        #print(valueCounts)\n",
    "    if valueCounts>5:\n",
    "        more_value_features.append(var) #取值超过5的变量，需要badrate 编码，在用卡房分想法进行分箱\n",
    "    else:\n",
    "        less_value_features.append(var)"
   ]
  },
  {
   "cell_type": "code",
   "execution_count": 77,
   "metadata": {},
   "outputs": [
    {
     "name": "stdout",
     "output_type": "stream",
     "text": [
      "final_dicision need to be combined due to 0 bad rate\n"
     ]
    }
   ],
   "source": [
    "#########################################处理离散型变量##################################################################################\n",
    "#当取值<5时：如果每种类别同时包含好坏样本，无需分箱；如果有类别只包含好坏样本中的一种，需要合并\n",
    "trainData = mydata1[feature]\n",
    "trainData['y'] = mydata1['target']\n",
    "\n",
    "merge_bin_dict={} #存放需要合并的变量及合并方法\n",
    "var_bin_list=[]#由于取值没有好或者坏样本而需要合并的变量\n",
    "for col in less_value_features:\n",
    "    binBadRate = BinBadRate(trainData, col, 'y')[0]\n",
    "    if min(binBadRate.values()) == 0 :  #由于某个取值没有坏样本而进行合并\n",
    "        print ('{} need to be combined due to 0 bad rate'.format(col))\n",
    "        combine_bin = MergeBad0(trainData, col, 'y')\n",
    "        merge_bin_dict[col] = combine_bin\n",
    "        newVar = col + '_Bin'\n",
    "        trainData[newVar] = trainData[col].map(combine_bin)\n",
    "        var_bin_list.append(newVar)\n",
    "    if max(binBadRate.values()) == 1:    #由于某个取值没有好样本而进行合并\n",
    "        print ('{} need to be combined due to 0 good rate'.format(col))\n",
    "        combine_bin = MergeBad0(trainData, col, 'y',direction = 'good')\n",
    "        merge_bin_dict[col] = combine_bin\n",
    "        newVar = col + '_Bin'\n",
    "        trainData[newVar] = trainData[col].map(combine_bin)\n",
    "        var_bin_list.append(newVar)\n",
    "#less_value_features里剩下不需要合并的变量\n",
    "less_value_features = [i for i in less_value_features if i + '_Bin' not in var_bin_list]\n",
    "\n",
    "# （ii）当取值>5时：用bad rate进行编码，放入连续型变量里\n",
    "br_encoding_dict = {}   #记录按照bad rate进行编码的变量，及编码方式\n",
    "for col in more_value_features:\n",
    "    br_encoding = BadRateEncoding(trainData, col, 'y')\n",
    "    trainData[col+'_br_encoding'] = br_encoding['encoding']\n",
    "    br_encoding_dict[col] = br_encoding['bad_rate']\n",
    "    num_features.append(col+'_br_encoding')"
   ]
  },
  {
   "cell_type": "code",
   "execution_count": 78,
   "metadata": {},
   "outputs": [
    {
     "name": "stderr",
     "output_type": "stream",
     "text": [
      "\r",
      "  0%|                                                                                          | 0/297 [00:00<?, ?it/s]"
     ]
    },
    {
     "name": "stdout",
     "output_type": "stream",
     "text": [
      "salary_income_month_num_12 is in processing\n"
     ]
    },
    {
     "name": "stderr",
     "output_type": "stream",
     "text": [
      "\r",
      "  0%|▎                                                                                 | 1/297 [00:00<03:26,  1.43it/s]"
     ]
    },
    {
     "name": "stdout",
     "output_type": "stream",
     "text": [
      "debitcard_withdraw_count_6 is in processing\n"
     ]
    },
    {
     "name": "stderr",
     "output_type": "stream",
     "text": [
      "\r",
      "  1%|▌                                                                                 | 2/297 [00:02<06:59,  1.42s/it]"
     ]
    },
    {
     "name": "stdout",
     "output_type": "stream",
     "text": [
      "called_duration_ninety is in processing\n"
     ]
    },
    {
     "name": "stderr",
     "output_type": "stream",
     "text": [
      "\r",
      "  1%|▊                                                                                 | 3/297 [00:26<42:44,  8.72s/it]"
     ]
    },
    {
     "name": "stdout",
     "output_type": "stream",
     "text": [
      "repany_loan_mon_num_6 is in processing\n"
     ]
    },
    {
     "name": "stderr",
     "output_type": "stream",
     "text": [
      "\r",
      "  1%|█                                                                                 | 4/297 [00:26<32:44,  6.70s/it]"
     ]
    },
    {
     "name": "stdout",
     "output_type": "stream",
     "text": [
      "max_power_on_day_1m is in processing\n"
     ]
    },
    {
     "name": "stderr",
     "output_type": "stream",
     "text": [
      "\r",
      "  2%|█▍                                                                                | 5/297 [00:28<28:05,  5.77s/it]"
     ]
    },
    {
     "name": "stdout",
     "output_type": "stream",
     "text": [
      "debitcard_consume_amount_12_avg is in processing\n"
     ]
    },
    {
     "name": "stderr",
     "output_type": "stream",
     "text": [
      "\r",
      "  2%|█▋                                                                                | 6/297 [00:43<35:02,  7.22s/it]"
     ]
    },
    {
     "name": "stdout",
     "output_type": "stream",
     "text": [
      "calling_count_ninety is in processing\n"
     ]
    },
    {
     "name": "stderr",
     "output_type": "stream",
     "text": [
      "\r",
      "  2%|█▉                                                                                | 7/297 [01:06<45:46,  9.47s/it]"
     ]
    },
    {
     "name": "stdout",
     "output_type": "stream",
     "text": [
      "count_div_ninety is in processing\n"
     ]
    },
    {
     "name": "stderr",
     "output_type": "stream",
     "text": [
      "\r",
      "  3%|██▏                                                                               | 8/297 [01:26<52:08, 10.83s/it]"
     ]
    },
    {
     "name": "stdout",
     "output_type": "stream",
     "text": [
      "nearest_loan_success is in processing\n"
     ]
    },
    {
     "name": "stderr",
     "output_type": "stream",
     "text": [
      "\r",
      "  3%|██▍                                                                               | 9/297 [01:27<46:28,  9.68s/it]"
     ]
    },
    {
     "name": "stdout",
     "output_type": "stream",
     "text": [
      "income_amt_1y is in processing\n"
     ]
    },
    {
     "name": "stderr",
     "output_type": "stream",
     "text": [
      "\r",
      "  3%|██▋                                                                              | 10/297 [01:37<46:45,  9.78s/it]"
     ]
    },
    {
     "name": "stdout",
     "output_type": "stream",
     "text": [
      "age is in processing\n"
     ]
    },
    {
     "name": "stderr",
     "output_type": "stream",
     "text": [
      "\r",
      "  4%|███                                                                              | 11/297 [01:39<43:16,  9.08s/it]"
     ]
    },
    {
     "name": "stdout",
     "output_type": "stream",
     "text": [
      "avg_loan_success_days is in processing\n"
     ]
    },
    {
     "name": "stderr",
     "output_type": "stream",
     "text": [
      "\r",
      "  4%|███▎                                                                             | 12/297 [01:47<42:25,  8.93s/it]"
     ]
    },
    {
     "name": "stdout",
     "output_type": "stream",
     "text": [
      "debitcard_income_12_avg is in processing\n"
     ]
    },
    {
     "name": "stderr",
     "output_type": "stream",
     "text": [
      "\r",
      "  4%|███▌                                                                             | 13/297 [01:59<43:25,  9.17s/it]"
     ]
    },
    {
     "name": "stdout",
     "output_type": "stream",
     "text": [
      "debitcard_recently_balance_3 is in processing\n"
     ]
    },
    {
     "name": "stderr",
     "output_type": "stream",
     "text": [
      "\r",
      "  5%|███▊                                                                             | 14/297 [02:11<44:10,  9.37s/it]"
     ]
    },
    {
     "name": "stdout",
     "output_type": "stream",
     "text": [
      "blacklist_routers_cnt is in processing\n"
     ]
    },
    {
     "name": "stderr",
     "output_type": "stream",
     "text": [
      "\r",
      "  5%|████                                                                             | 15/297 [02:26<46:02,  9.80s/it]"
     ]
    },
    {
     "name": "stdout",
     "output_type": "stream",
     "text": [
      "calls_percent is in processing\n"
     ]
    },
    {
     "name": "stderr",
     "output_type": "stream",
     "text": [
      "\r",
      "  5%|████▎                                                                            | 16/297 [02:47<48:59, 10.46s/it]"
     ]
    },
    {
     "name": "stdout",
     "output_type": "stream",
     "text": [
      "total_fee_1m is in processing\n"
     ]
    },
    {
     "name": "stderr",
     "output_type": "stream",
     "text": [
      "\r",
      "  6%|████▋                                                                            | 17/297 [03:04<50:35, 10.84s/it]"
     ]
    },
    {
     "name": "stdout",
     "output_type": "stream",
     "text": [
      "calling_num_thirty is in processing\n"
     ]
    },
    {
     "name": "stderr",
     "output_type": "stream",
     "text": [
      "\r",
      "  6%|████▉                                                                            | 18/297 [03:17<51:07, 11.00s/it]"
     ]
    },
    {
     "name": "stdout",
     "output_type": "stream",
     "text": [
      "avg_loan_days is in processing\n"
     ]
    },
    {
     "name": "stderr",
     "output_type": "stream",
     "text": [
      "\r",
      "  6%|█████▏                                                                           | 19/297 [03:20<48:55, 10.56s/it]"
     ]
    },
    {
     "name": "stdout",
     "output_type": "stream",
     "text": [
      "calling_count_one_eighty is in processing\n"
     ]
    },
    {
     "name": "stderr",
     "output_type": "stream",
     "text": [
      "\r",
      "  7%|█████▍                                                                           | 20/297 [03:38<50:21, 10.91s/it]"
     ]
    },
    {
     "name": "stdout",
     "output_type": "stream",
     "text": [
      "org_cnt is in processing\n"
     ]
    },
    {
     "name": "stderr",
     "output_type": "stream",
     "text": [
      "\r",
      "  7%|█████▋                                                                           | 21/297 [03:58<52:15, 11.36s/it]"
     ]
    },
    {
     "name": "stdout",
     "output_type": "stream",
     "text": [
      "debitcard_consume_count_12_avg is in processing\n"
     ]
    },
    {
     "name": "stderr",
     "output_type": "stream",
     "text": [
      "\r",
      "  7%|██████                                                                           | 22/297 [04:10<52:17, 11.41s/it]"
     ]
    },
    {
     "name": "stdout",
     "output_type": "stream",
     "text": [
      "his_overdue_times is in processing\n"
     ]
    },
    {
     "name": "stderr",
     "output_type": "stream",
     "text": [
      "\r",
      "  8%|██████▎                                                                          | 23/297 [04:12<50:09, 10.98s/it]"
     ]
    },
    {
     "name": "stdout",
     "output_type": "stream",
     "text": [
      "vas_fee_1m is in processing\n"
     ]
    },
    {
     "name": "stderr",
     "output_type": "stream",
     "text": [
      "\r",
      "  8%|██████▌                                                                          | 24/297 [04:14<48:11, 10.59s/it]"
     ]
    },
    {
     "name": "stdout",
     "output_type": "stream",
     "text": [
      "debitcard_max_balance_12 is in processing\n"
     ]
    },
    {
     "name": "stderr",
     "output_type": "stream",
     "text": [
      "\r",
      "  8%|██████▊                                                                          | 25/297 [04:39<50:37, 11.17s/it]"
     ]
    },
    {
     "name": "stdout",
     "output_type": "stream",
     "text": [
      "debitcard_recently_balance_6 is in processing\n"
     ]
    },
    {
     "name": "stderr",
     "output_type": "stream",
     "text": [
      "\r",
      "  9%|███████                                                                          | 26/297 [04:50<50:28, 11.18s/it]"
     ]
    },
    {
     "name": "stdout",
     "output_type": "stream",
     "text": [
      "call_match_num_thirty is in processing\n"
     ]
    },
    {
     "name": "stderr",
     "output_type": "stream",
     "text": [
      "\r",
      "  9%|███████▎                                                                         | 27/297 [04:58<49:42, 11.04s/it]"
     ]
    },
    {
     "name": "stdout",
     "output_type": "stream",
     "text": [
      "blacklist_routers_pct is in processing\n"
     ]
    },
    {
     "name": "stderr",
     "output_type": "stream",
     "text": [
      "\r",
      "  9%|███████▋                                                                         | 28/297 [05:03<48:36, 10.84s/it]"
     ]
    },
    {
     "name": "stdout",
     "output_type": "stream",
     "text": [
      "fake_percent is in processing\n"
     ]
    },
    {
     "name": "stderr",
     "output_type": "stream",
     "text": [
      "\r",
      " 10%|███████▉                                                                         | 29/297 [05:07<47:23, 10.61s/it]"
     ]
    },
    {
     "name": "stdout",
     "output_type": "stream",
     "text": [
      "loan_time_3m is in processing\n"
     ]
    },
    {
     "name": "stderr",
     "output_type": "stream",
     "text": [
      "\r",
      " 10%|████████▏                                                                        | 30/297 [05:10<46:07, 10.37s/it]"
     ]
    },
    {
     "name": "stdout",
     "output_type": "stream",
     "text": [
      "repany_loan_mon_num_12 is in processing\n"
     ]
    },
    {
     "name": "stderr",
     "output_type": "stream",
     "text": [
      "\r",
      " 10%|████████▍                                                                        | 31/297 [05:11<44:32, 10.05s/it]"
     ]
    },
    {
     "name": "stdout",
     "output_type": "stream",
     "text": [
      "repany_loan_amount_avg_12 is in processing\n"
     ]
    },
    {
     "name": "stderr",
     "output_type": "stream",
     "text": [
      "\r",
      " 11%|████████▋                                                                        | 32/297 [05:20<44:16, 10.02s/it]"
     ]
    },
    {
     "name": "stdout",
     "output_type": "stream",
     "text": [
      "loan_out_1y is in processing\n"
     ]
    },
    {
     "name": "stderr",
     "output_type": "stream",
     "text": [
      "\r",
      " 11%|█████████                                                                        | 33/297 [05:24<43:19,  9.85s/it]"
     ]
    },
    {
     "name": "stdout",
     "output_type": "stream",
     "text": [
      "debitcard_cash_withdrawal_num_1m is in processing\n"
     ]
    },
    {
     "name": "stderr",
     "output_type": "stream",
     "text": [
      "\r",
      " 11%|█████████▎                                                                       | 34/297 [05:30<42:35,  9.72s/it]"
     ]
    },
    {
     "name": "stdout",
     "output_type": "stream",
     "text": [
      "salary_income_amount_6m is in processing\n"
     ]
    },
    {
     "name": "stderr",
     "output_type": "stream",
     "text": [
      "\r",
      " 12%|█████████▌                                                                       | 35/297 [05:32<41:27,  9.49s/it]"
     ]
    },
    {
     "name": "stdout",
     "output_type": "stream",
     "text": [
      "avg_loan_success_amount is in processing\n"
     ]
    },
    {
     "name": "stderr",
     "output_type": "stream",
     "text": [
      "\r",
      " 12%|█████████▊                                                                       | 36/297 [05:36<40:42,  9.36s/it]"
     ]
    },
    {
     "name": "stdout",
     "output_type": "stream",
     "text": [
      "org_cnt_recent_90_days is in processing\n"
     ]
    },
    {
     "name": "stderr",
     "output_type": "stream",
     "text": [
      "\r",
      " 12%|██████████                                                                       | 37/297 [05:38<39:35,  9.14s/it]"
     ]
    },
    {
     "name": "stdout",
     "output_type": "stream",
     "text": [
      "max_loan_amount is in processing\n"
     ]
    },
    {
     "name": "stderr",
     "output_type": "stream",
     "text": [
      "\r",
      " 13%|██████████▎                                                                      | 38/297 [05:38<38:28,  8.91s/it]"
     ]
    },
    {
     "name": "stdout",
     "output_type": "stream",
     "text": [
      "called_count_one_eighty is in processing\n"
     ]
    },
    {
     "name": "stderr",
     "output_type": "stream",
     "text": [
      "\r",
      " 13%|██████████▋                                                                      | 39/297 [06:02<39:55,  9.28s/it]"
     ]
    },
    {
     "name": "stdout",
     "output_type": "stream",
     "text": [
      "debitcard_shopping_num_1m is in processing\n"
     ]
    },
    {
     "name": "stderr",
     "output_type": "stream",
     "text": [
      "\r",
      " 13%|██████████▉                                                                      | 40/297 [06:14<40:08,  9.37s/it]"
     ]
    },
    {
     "name": "stdout",
     "output_type": "stream",
     "text": [
      "proportion3 is in processing\n"
     ]
    },
    {
     "name": "stderr",
     "output_type": "stream",
     "text": [
      "\r",
      " 14%|███████████▏                                                                     | 41/297 [06:17<39:15,  9.20s/it]"
     ]
    },
    {
     "name": "stdout",
     "output_type": "stream",
     "text": [
      "min_single_time_1m is in processing\n"
     ]
    },
    {
     "name": "stderr",
     "output_type": "stream",
     "text": [
      "\r",
      " 14%|███████████▍                                                                     | 42/297 [06:18<38:20,  9.02s/it]"
     ]
    },
    {
     "name": "stdout",
     "output_type": "stream",
     "text": [
      "debitcard_withdraw_count_6_avg is in processing\n"
     ]
    },
    {
     "name": "stderr",
     "output_type": "stream",
     "text": [
      "\r",
      " 14%|███████████▋                                                                     | 43/297 [06:20<37:29,  8.85s/it]"
     ]
    },
    {
     "name": "stdout",
     "output_type": "stream",
     "text": [
      "real_amt_one_eighty is in processing\n"
     ]
    },
    {
     "name": "stderr",
     "output_type": "stream",
     "text": [
      "\r",
      " 15%|████████████                                                                     | 44/297 [06:43<38:38,  9.16s/it]"
     ]
    },
    {
     "name": "stdout",
     "output_type": "stream",
     "text": [
      "proportion7 is in processing\n"
     ]
    },
    {
     "name": "stderr",
     "output_type": "stream",
     "text": [
      "\r",
      " 15%|████████████▎                                                                    | 45/297 [06:50<38:19,  9.12s/it]"
     ]
    },
    {
     "name": "stdout",
     "output_type": "stream",
     "text": [
      "calling_avg_duration_thirty is in processing\n"
     ]
    },
    {
     "name": "stderr",
     "output_type": "stream",
     "text": [
      "\r",
      " 15%|████████████▌                                                                    | 46/297 [06:55<37:49,  9.04s/it]"
     ]
    },
    {
     "name": "stdout",
     "output_type": "stream",
     "text": [
      "search_cnt_recent_90_days is in processing\n"
     ]
    },
    {
     "name": "stderr",
     "output_type": "stream",
     "text": [
      "\r",
      " 16%|████████████▊                                                                    | 47/297 [07:01<37:21,  8.97s/it]"
     ]
    },
    {
     "name": "stdout",
     "output_type": "stream",
     "text": [
      "debitcard_cash_withdrawal_count_12m is in processing\n"
     ]
    },
    {
     "name": "stderr",
     "output_type": "stream",
     "text": [
      "\r",
      " 16%|█████████████                                                                    | 48/297 [07:06<36:53,  8.89s/it]"
     ]
    },
    {
     "name": "stdout",
     "output_type": "stream",
     "text": [
      "duration_div_ninety is in processing\n"
     ]
    },
    {
     "name": "stderr",
     "output_type": "stream",
     "text": [
      "\r",
      " 16%|█████████████▎                                                                   | 49/297 [07:17<36:54,  8.93s/it]"
     ]
    },
    {
     "name": "stdout",
     "output_type": "stream",
     "text": [
      "loan_60m is in processing\n"
     ]
    },
    {
     "name": "stderr",
     "output_type": "stream",
     "text": [
      "\r",
      " 17%|█████████████▋                                                                   | 50/297 [07:18<36:04,  8.76s/it]"
     ]
    },
    {
     "name": "stdout",
     "output_type": "stream",
     "text": [
      "invalid_percent is in processing\n"
     ]
    },
    {
     "name": "stderr",
     "output_type": "stream",
     "text": [
      "\r",
      " 17%|█████████████▉                                                                   | 51/297 [07:20<35:23,  8.63s/it]"
     ]
    },
    {
     "name": "stdout",
     "output_type": "stream",
     "text": [
      "proportion5 is in processing\n"
     ]
    },
    {
     "name": "stderr",
     "output_type": "stream",
     "text": [
      "\r",
      " 18%|██████████████▏                                                                  | 52/297 [07:41<36:12,  8.87s/it]"
     ]
    },
    {
     "name": "stdout",
     "output_type": "stream",
     "text": [
      "debitcard_consume_count_6_avg is in processing\n"
     ]
    },
    {
     "name": "stderr",
     "output_type": "stream",
     "text": [
      "\r",
      " 18%|██████████████▍                                                                  | 53/297 [07:48<35:58,  8.84s/it]"
     ]
    },
    {
     "name": "stdout",
     "output_type": "stream",
     "text": [
      "score is in processing\n"
     ]
    },
    {
     "name": "stderr",
     "output_type": "stream",
     "text": [
      "\r",
      " 18%|██████████████▋                                                                  | 54/297 [08:10<36:49,  9.09s/it]"
     ]
    },
    {
     "name": "stdout",
     "output_type": "stream",
     "text": [
      "called_avg_duration_one_eighty is in processing\n"
     ]
    },
    {
     "name": "stderr",
     "output_type": "stream",
     "text": [
      "\r",
      " 19%|███████████████                                                                  | 55/297 [08:20<36:43,  9.10s/it]"
     ]
    },
    {
     "name": "stdout",
     "output_type": "stream",
     "text": [
      "inter_peer_num_3m is in processing\n"
     ]
    },
    {
     "name": "stderr",
     "output_type": "stream",
     "text": [
      "\r",
      " 19%|███████████████▎                                                                 | 56/297 [08:33<36:48,  9.17s/it]"
     ]
    },
    {
     "name": "stdout",
     "output_type": "stream",
     "text": [
      "debitcard_in_num_trans_num_ratio_12 is in processing\n"
     ]
    },
    {
     "name": "stderr",
     "output_type": "stream",
     "text": [
      "\r",
      " 19%|███████████████▌                                                                 | 57/297 [08:36<36:14,  9.06s/it]"
     ]
    },
    {
     "name": "stdout",
     "output_type": "stream",
     "text": [
      "debitcard_withdraw_amount_6_avg is in processing\n"
     ]
    },
    {
     "name": "stderr",
     "output_type": "stream",
     "text": [
      "\r",
      " 20%|███████████████▊                                                                 | 58/297 [08:46<36:09,  9.08s/it]"
     ]
    },
    {
     "name": "stdout",
     "output_type": "stream",
     "text": [
      "phone_long_count is in processing\n"
     ]
    },
    {
     "name": "stderr",
     "output_type": "stream",
     "text": [
      "\r",
      " 20%|████████████████                                                                 | 59/297 [08:58<36:12,  9.13s/it]"
     ]
    },
    {
     "name": "stdout",
     "output_type": "stream",
     "text": [
      "repany_loan_amount_3 is in processing\n"
     ]
    },
    {
     "name": "stderr",
     "output_type": "stream",
     "text": [
      "\r",
      " 20%|████████████████▎                                                                | 60/297 [09:04<35:50,  9.08s/it]"
     ]
    },
    {
     "name": "stdout",
     "output_type": "stream",
     "text": [
      "org_cnt_recent_14_days is in processing\n"
     ]
    },
    {
     "name": "stderr",
     "output_type": "stream",
     "text": [
      "\r",
      " 21%|████████████████▋                                                                | 61/297 [09:05<35:09,  8.94s/it]"
     ]
    },
    {
     "name": "stdout",
     "output_type": "stream",
     "text": [
      "remote_cnt_3m is in processing\n"
     ]
    },
    {
     "name": "stderr",
     "output_type": "stream",
     "text": [
      "\r",
      " 21%|████████████████▉                                                                | 62/297 [09:21<35:27,  9.05s/it]"
     ]
    },
    {
     "name": "stdout",
     "output_type": "stream",
     "text": [
      "max_power_on_day_3m is in processing\n"
     ]
    },
    {
     "name": "stderr",
     "output_type": "stream",
     "text": [
      "\r",
      " 21%|█████████████████▏                                                               | 63/297 [09:39<35:52,  9.20s/it]"
     ]
    },
    {
     "name": "stdout",
     "output_type": "stream",
     "text": [
      "max_single_time_3m is in processing\n"
     ]
    },
    {
     "name": "stderr",
     "output_type": "stream",
     "text": [
      "\r",
      " 22%|█████████████████▍                                                               | 64/297 [09:57<36:15,  9.34s/it]"
     ]
    },
    {
     "name": "stdout",
     "output_type": "stream",
     "text": [
      "online_cash_loan_cnt is in processing\n"
     ]
    },
    {
     "name": "stderr",
     "output_type": "stream",
     "text": [
      "\r",
      " 22%|█████████████████▋                                                               | 65/297 [09:58<35:35,  9.21s/it]"
     ]
    },
    {
     "name": "stdout",
     "output_type": "stream",
     "text": [
      "count_div_one_eighty is in processing\n"
     ]
    },
    {
     "name": "stderr",
     "output_type": "stream",
     "text": [
      "\r",
      " 22%|██████████████████                                                               | 66/297 [10:19<36:09,  9.39s/it]"
     ]
    },
    {
     "name": "stdout",
     "output_type": "stream",
     "text": [
      "risk_count is in processing\n"
     ]
    },
    {
     "name": "stderr",
     "output_type": "stream",
     "text": [
      "\r",
      " 23%|██████████████████▎                                                              | 67/297 [10:20<35:29,  9.26s/it]"
     ]
    },
    {
     "name": "stdout",
     "output_type": "stream",
     "text": [
      "salary_income_amount_average_12m is in processing\n"
     ]
    },
    {
     "name": "stderr",
     "output_type": "stream",
     "text": [
      "\r",
      " 23%|██████████████████▌                                                              | 68/297 [10:21<34:53,  9.14s/it]"
     ]
    },
    {
     "name": "stdout",
     "output_type": "stream",
     "text": [
      "org_cnt_recent_180_days is in processing\n"
     ]
    },
    {
     "name": "stderr",
     "output_type": "stream",
     "text": [
      "\r",
      " 23%|██████████████████▊                                                              | 69/297 [10:23<34:20,  9.04s/it]"
     ]
    },
    {
     "name": "stdout",
     "output_type": "stream",
     "text": [
      "duration_div_thirty is in processing\n"
     ]
    },
    {
     "name": "stderr",
     "output_type": "stream",
     "text": [
      "\r",
      " 24%|███████████████████                                                              | 70/297 [10:40<34:36,  9.15s/it]"
     ]
    },
    {
     "name": "stdout",
     "output_type": "stream",
     "text": [
      "proportion9 is in processing\n"
     ]
    },
    {
     "name": "stderr",
     "output_type": "stream",
     "text": [
      "\r",
      " 24%|███████████████████▎                                                             | 71/297 [10:53<34:40,  9.20s/it]"
     ]
    },
    {
     "name": "stdout",
     "output_type": "stream",
     "text": [
      "net_used_1m is in processing\n"
     ]
    },
    {
     "name": "stderr",
     "output_type": "stream",
     "text": [
      "\r",
      " 24%|███████████████████▋                                                             | 72/297 [11:13<35:04,  9.35s/it]"
     ]
    },
    {
     "name": "stdout",
     "output_type": "stream",
     "text": [
      "loan_in_amount_avg_12 is in processing\n"
     ]
    },
    {
     "name": "stderr",
     "output_type": "stream",
     "text": [
      "\r",
      " 25%|███████████████████▉                                                             | 73/297 [11:15<34:32,  9.25s/it]"
     ]
    },
    {
     "name": "stdout",
     "output_type": "stream",
     "text": [
      "org_30_cnt_7_recent is in processing\n"
     ]
    },
    {
     "name": "stderr",
     "output_type": "stream",
     "text": [
      "\r",
      " 25%|████████████████████▏                                                            | 74/297 [11:18<34:04,  9.17s/it]"
     ]
    },
    {
     "name": "stdout",
     "output_type": "stream",
     "text": [
      "debitcard_income_3 is in processing\n"
     ]
    },
    {
     "name": "stderr",
     "output_type": "stream",
     "text": [
      "\r",
      " 25%|████████████████████▍                                                            | 75/297 [11:30<34:03,  9.21s/it]"
     ]
    },
    {
     "name": "stdout",
     "output_type": "stream",
     "text": [
      "family_size is in processing\n"
     ]
    },
    {
     "name": "stderr",
     "output_type": "stream",
     "text": [
      "\r",
      " 26%|████████████████████▋                                                            | 76/297 [11:33<33:35,  9.12s/it]"
     ]
    },
    {
     "name": "stdout",
     "output_type": "stream",
     "text": [
      "recharge_amount_1m is in processing\n"
     ]
    },
    {
     "name": "stderr",
     "output_type": "stream",
     "text": [
      "\r",
      " 26%|█████████████████████                                                            | 77/297 [11:40<33:21,  9.10s/it]"
     ]
    },
    {
     "name": "stdout",
     "output_type": "stream",
     "text": [
      "call_day_3m is in processing\n"
     ]
    },
    {
     "name": "stderr",
     "output_type": "stream",
     "text": [
      "\r",
      " 26%|█████████████████████▎                                                           | 78/297 [11:54<33:26,  9.16s/it]"
     ]
    },
    {
     "name": "stdout",
     "output_type": "stream",
     "text": [
      "salary_income_1y is in processing\n"
     ]
    },
    {
     "name": "stderr",
     "output_type": "stream",
     "text": [
      "\r",
      " 27%|█████████████████████▌                                                           | 79/297 [11:56<32:56,  9.07s/it]"
     ]
    },
    {
     "name": "stdout",
     "output_type": "stream",
     "text": [
      "loan_in_month_num_12 is in processing\n"
     ]
    },
    {
     "name": "stderr",
     "output_type": "stream",
     "text": [
      "\r",
      " 27%|█████████████████████▊                                                           | 80/297 [11:57<32:25,  8.97s/it]"
     ]
    },
    {
     "name": "stdout",
     "output_type": "stream",
     "text": [
      "count_div_thirty is in processing\n"
     ]
    },
    {
     "name": "stderr",
     "output_type": "stream",
     "text": [
      "\r",
      " 27%|██████████████████████                                                           | 81/297 [12:03<32:09,  8.93s/it]"
     ]
    },
    {
     "name": "stdout",
     "output_type": "stream",
     "text": [
      "local_time_1m is in processing\n"
     ]
    },
    {
     "name": "stderr",
     "output_type": "stream",
     "text": [
      "\r",
      " 28%|██████████████████████▎                                                          | 82/297 [12:18<32:16,  9.01s/it]"
     ]
    },
    {
     "name": "stdout",
     "output_type": "stream",
     "text": [
      "company_num_1y is in processing\n",
      "The number of original levels for company_num_1y is less than or equal to max intervals\n",
      "The number of original levels for company_num_1y is less than or equal to max intervals\n"
     ]
    },
    {
     "name": "stderr",
     "output_type": "stream",
     "text": [
      "\r",
      " 28%|██████████████████████▋                                                          | 83/297 [12:18<31:45,  8.90s/it]"
     ]
    },
    {
     "name": "stdout",
     "output_type": "stream",
     "text": [
      "scale_no_calling_one_eighty is in processing\n"
     ]
    },
    {
     "name": "stderr",
     "output_type": "stream",
     "text": [
      "\r",
      " 28%|██████████████████████▉                                                          | 84/297 [12:30<31:43,  8.94s/it]"
     ]
    },
    {
     "name": "stdout",
     "output_type": "stream",
     "text": [
      "called_num_one_eighty is in processing\n"
     ]
    },
    {
     "name": "stderr",
     "output_type": "stream",
     "text": [
      "\r",
      " 29%|███████████████████████▏                                                         | 85/297 [12:54<32:12,  9.11s/it]"
     ]
    },
    {
     "name": "stdout",
     "output_type": "stream",
     "text": [
      "recharge_amount_3m is in processing\n"
     ]
    },
    {
     "name": "stderr",
     "output_type": "stream",
     "text": [
      "\r",
      " 29%|███████████████████████▍                                                         | 86/297 [13:12<32:25,  9.22s/it]"
     ]
    },
    {
     "name": "stdout",
     "output_type": "stream",
     "text": [
      "recharge_cnt_3m is in processing\n"
     ]
    },
    {
     "name": "stderr",
     "output_type": "stream",
     "text": [
      "\r",
      " 29%|███████████████████████▋                                                         | 87/297 [13:19<32:10,  9.19s/it]"
     ]
    },
    {
     "name": "stdout",
     "output_type": "stream",
     "text": [
      "local_cnt_1m is in processing\n"
     ]
    },
    {
     "name": "stderr",
     "output_type": "stream",
     "text": [
      "\r",
      " 30%|████████████████████████                                                         | 88/297 [13:30<32:04,  9.21s/it]"
     ]
    },
    {
     "name": "stdout",
     "output_type": "stream",
     "text": [
      "debitcard_income_12 is in processing\n"
     ]
    },
    {
     "name": "stderr",
     "output_type": "stream",
     "text": [
      "\r",
      " 30%|████████████████████████▎                                                        | 89/297 [13:42<32:01,  9.24s/it]"
     ]
    },
    {
     "name": "stdout",
     "output_type": "stream",
     "text": [
      "debitcard_outcome_12_avg is in processing\n"
     ]
    },
    {
     "name": "stderr",
     "output_type": "stream",
     "text": [
      "\r",
      " 30%|████████████████████████▌                                                        | 90/297 [14:05<32:23,  9.39s/it]"
     ]
    },
    {
     "name": "stdout",
     "output_type": "stream",
     "text": [
      "power_off_day_avg_3m is in processing\n"
     ]
    },
    {
     "name": "stderr",
     "output_type": "stream",
     "text": [
      "\r",
      " 31%|████████████████████████▊                                                        | 91/297 [14:22<32:31,  9.47s/it]"
     ]
    },
    {
     "name": "stdout",
     "output_type": "stream",
     "text": [
      "debitcard_max_balance_3 is in processing\n"
     ]
    },
    {
     "name": "stderr",
     "output_type": "stream",
     "text": [
      "\r",
      " 31%|█████████████████████████                                                        | 92/297 [14:45<32:53,  9.63s/it]"
     ]
    },
    {
     "name": "stdout",
     "output_type": "stream",
     "text": [
      "daytime_time_1m is in processing\n"
     ]
    },
    {
     "name": "stderr",
     "output_type": "stream",
     "text": [
      "\r",
      " 31%|█████████████████████████▎                                                       | 93/297 [15:08<33:13,  9.77s/it]"
     ]
    },
    {
     "name": "stdout",
     "output_type": "stream",
     "text": [
      "debitcard_withdraw_count_12_avg is in processing\n"
     ]
    },
    {
     "name": "stderr",
     "output_type": "stream",
     "text": [
      "\r",
      " 32%|█████████████████████████▋                                                       | 94/297 [15:14<32:55,  9.73s/it]"
     ]
    },
    {
     "name": "stdout",
     "output_type": "stream",
     "text": [
      "credit_card_repayment_cnt is in processing\n"
     ]
    },
    {
     "name": "stderr",
     "output_type": "stream",
     "text": [
      "\r",
      " 32%|█████████████████████████▉                                                       | 95/297 [15:15<32:25,  9.63s/it]"
     ]
    },
    {
     "name": "stdout",
     "output_type": "stream",
     "text": [
      "search_cnt_recent_180_days is in processing\n"
     ]
    },
    {
     "name": "stderr",
     "output_type": "stream",
     "text": [
      "\r",
      " 32%|██████████████████████████▏                                                      | 96/297 [15:18<32:04,  9.57s/it]"
     ]
    },
    {
     "name": "stdout",
     "output_type": "stream",
     "text": [
      "calling_num_one_eighty is in processing\n"
     ]
    },
    {
     "name": "stderr",
     "output_type": "stream",
     "text": [
      "\r",
      " 33%|██████████████████████████▍                                                      | 97/297 [15:42<32:23,  9.72s/it]"
     ]
    },
    {
     "name": "stdout",
     "output_type": "stream",
     "text": [
      "proportion4 is in processing\n"
     ]
    },
    {
     "name": "stderr",
     "output_type": "stream",
     "text": [
      "\r",
      " 33%|██████████████████████████▋                                                      | 98/297 [15:49<32:08,  9.69s/it]"
     ]
    },
    {
     "name": "stdout",
     "output_type": "stream",
     "text": [
      "remote_time_3m is in processing\n"
     ]
    },
    {
     "name": "stderr",
     "output_type": "stream",
     "text": [
      "\r",
      " 33%|███████████████████████████                                                      | 99/297 [16:04<32:09,  9.75s/it]"
     ]
    },
    {
     "name": "stdout",
     "output_type": "stream",
     "text": [
      "search_cnt is in processing\n"
     ]
    },
    {
     "name": "stderr",
     "output_type": "stream",
     "text": [
      "\r",
      " 34%|██████████████████████████▉                                                     | 100/297 [16:08<31:47,  9.68s/it]"
     ]
    },
    {
     "name": "stdout",
     "output_type": "stream",
     "text": [
      "no_call_day_ninety is in processing\n"
     ]
    },
    {
     "name": "stderr",
     "output_type": "stream",
     "text": [
      "\r",
      " 34%|███████████████████████████▏                                                    | 101/297 [16:26<31:53,  9.76s/it]"
     ]
    },
    {
     "name": "stdout",
     "output_type": "stream",
     "text": [
      "loan_in_1y is in processing\n"
     ]
    },
    {
     "name": "stderr",
     "output_type": "stream",
     "text": [
      "\r",
      " 34%|███████████████████████████▍                                                    | 102/297 [16:28<31:28,  9.69s/it]"
     ]
    },
    {
     "name": "stdout",
     "output_type": "stream",
     "text": [
      "scale_no_call_one_eighty is in processing\n"
     ]
    },
    {
     "name": "stderr",
     "output_type": "stream",
     "text": [
      "\r",
      " 35%|███████████████████████████▋                                                    | 103/297 [16:48<31:38,  9.79s/it]"
     ]
    },
    {
     "name": "stdout",
     "output_type": "stream",
     "text": [
      "no_call_day_thirty is in processing\n"
     ]
    },
    {
     "name": "stderr",
     "output_type": "stream",
     "text": [
      "\r",
      " 35%|████████████████████████████                                                    | 104/297 [16:50<31:15,  9.72s/it]"
     ]
    },
    {
     "name": "stdout",
     "output_type": "stream",
     "text": [
      "blacklist_indirect_contacts_cnt is in processing\n"
     ]
    },
    {
     "name": "stderr",
     "output_type": "stream",
     "text": [
      "\r",
      " 35%|████████████████████████████▎                                                   | 105/297 [17:02<31:09,  9.73s/it]"
     ]
    },
    {
     "name": "stdout",
     "output_type": "stream",
     "text": [
      "sms_fee_1m is in processing\n"
     ]
    },
    {
     "name": "stderr",
     "output_type": "stream",
     "text": [
      "\r",
      " 36%|████████████████████████████▌                                                   | 106/297 [17:03<30:44,  9.66s/it]"
     ]
    },
    {
     "name": "stdout",
     "output_type": "stream",
     "text": [
      "power_off_day_1m is in processing\n"
     ]
    },
    {
     "name": "stderr",
     "output_type": "stream",
     "text": [
      "\r",
      " 36%|████████████████████████████▊                                                   | 107/297 [17:06<30:22,  9.59s/it]"
     ]
    },
    {
     "name": "stdout",
     "output_type": "stream",
     "text": [
      "avg_install_days is in processing\n"
     ]
    },
    {
     "name": "stderr",
     "output_type": "stream",
     "text": [
      "\r",
      " 36%|█████████████████████████████                                                   | 108/297 [17:09<30:00,  9.53s/it]"
     ]
    },
    {
     "name": "stdout",
     "output_type": "stream",
     "text": [
      "called_match_num_one_eighty is in processing\n"
     ]
    },
    {
     "name": "stderr",
     "output_type": "stream",
     "text": [
      "\r",
      " 37%|█████████████████████████████▎                                                  | 109/297 [17:22<29:57,  9.56s/it]"
     ]
    },
    {
     "name": "stdout",
     "output_type": "stream",
     "text": [
      "search_cnt_recent_14_days is in processing\n"
     ]
    },
    {
     "name": "stderr",
     "output_type": "stream",
     "text": [
      "\r",
      " 37%|█████████████████████████████▋                                                  | 110/297 [17:23<29:33,  9.49s/it]"
     ]
    },
    {
     "name": "stdout",
     "output_type": "stream",
     "text": [
      "called_duration_one_eighty is in processing\n"
     ]
    },
    {
     "name": "stderr",
     "output_type": "stream",
     "text": [
      "\r",
      " 37%|█████████████████████████████▉                                                  | 111/297 [17:48<29:51,  9.63s/it]"
     ]
    },
    {
     "name": "stdout",
     "output_type": "stream",
     "text": [
      "proportion1 is in processing\n"
     ]
    },
    {
     "name": "stderr",
     "output_type": "stream",
     "text": [
      "\r",
      " 38%|██████████████████████████████▏                                                 | 112/297 [17:50<29:28,  9.56s/it]"
     ]
    },
    {
     "name": "stdout",
     "output_type": "stream",
     "text": [
      "cnt_1min_within_1m is in processing\n"
     ]
    },
    {
     "name": "stderr",
     "output_type": "stream",
     "text": [
      "\r",
      " 38%|██████████████████████████████▍                                                 | 113/297 [18:12<29:39,  9.67s/it]"
     ]
    },
    {
     "name": "stdout",
     "output_type": "stream",
     "text": [
      "vas_fee_3m is in processing\n"
     ]
    },
    {
     "name": "stderr",
     "output_type": "stream",
     "text": [
      "\r",
      " 38%|██████████████████████████████▋                                                 | 114/297 [18:17<29:21,  9.63s/it]"
     ]
    },
    {
     "name": "stdout",
     "output_type": "stream",
     "text": [
      "net_fee_3m is in processing\n"
     ]
    },
    {
     "name": "stderr",
     "output_type": "stream",
     "text": [
      "\r",
      " 39%|██████████████████████████████▉                                                 | 115/297 [18:20<29:01,  9.57s/it]"
     ]
    },
    {
     "name": "stdout",
     "output_type": "stream",
     "text": [
      "debitcard_max_continue_consume_month_12 is in processing\n"
     ]
    },
    {
     "name": "stderr",
     "output_type": "stream",
     "text": [
      "\r",
      " 39%|███████████████████████████████▏                                                | 116/297 [18:21<28:38,  9.50s/it]"
     ]
    },
    {
     "name": "stdout",
     "output_type": "stream",
     "text": [
      "scale_no_calling_thirty is in processing\n"
     ]
    },
    {
     "name": "stderr",
     "output_type": "stream",
     "text": [
      "\r",
      " 39%|███████████████████████████████▌                                                | 117/297 [18:24<28:18,  9.44s/it]"
     ]
    },
    {
     "name": "stdout",
     "output_type": "stream",
     "text": [
      "calls_num_thirty is in processing\n"
     ]
    },
    {
     "name": "stderr",
     "output_type": "stream",
     "text": [
      "\r",
      " 40%|███████████████████████████████▊                                                | 118/297 [18:46<28:28,  9.54s/it]"
     ]
    },
    {
     "name": "stdout",
     "output_type": "stream",
     "text": [
      "valid_size is in processing\n"
     ]
    },
    {
     "name": "stderr",
     "output_type": "stream",
     "text": [
      "\r",
      " 40%|████████████████████████████████                                                | 119/297 [18:57<28:20,  9.56s/it]"
     ]
    },
    {
     "name": "stdout",
     "output_type": "stream",
     "text": [
      "called_match_num_thirty is in processing\n"
     ]
    },
    {
     "name": "stderr",
     "output_type": "stream",
     "text": [
      "\r",
      " 40%|████████████████████████████████▎                                               | 120/297 [18:59<28:01,  9.50s/it]"
     ]
    },
    {
     "name": "stdout",
     "output_type": "stream",
     "text": [
      "avg_loan_amount is in processing\n"
     ]
    },
    {
     "name": "stderr",
     "output_type": "stream",
     "text": [
      "\r",
      " 41%|████████████████████████████████▌                                               | 121/297 [19:10<27:53,  9.51s/it]"
     ]
    },
    {
     "name": "stdout",
     "output_type": "stream",
     "text": [
      "live_month_cnt_1m is in processing\n",
      "The number of original levels for live_month_cnt_1m is less than or equal to max intervals\n"
     ]
    },
    {
     "name": "stderr",
     "output_type": "stream",
     "text": [
      "\r",
      " 41%|████████████████████████████████▊                                               | 122/297 [19:10<27:30,  9.43s/it]"
     ]
    },
    {
     "name": "stdout",
     "output_type": "stream",
     "text": [
      "calls_num_one_eighty is in processing\n"
     ]
    },
    {
     "name": "stderr",
     "output_type": "stream",
     "text": [
      "\r",
      " 41%|█████████████████████████████████▏                                              | 123/297 [19:27<27:30,  9.49s/it]"
     ]
    },
    {
     "name": "stdout",
     "output_type": "stream",
     "text": [
      "call_avg_duration_thirty is in processing\n"
     ]
    },
    {
     "name": "stderr",
     "output_type": "stream",
     "text": [
      "\r",
      " 42%|█████████████████████████████████▍                                              | 124/297 [19:38<27:24,  9.51s/it]"
     ]
    },
    {
     "name": "stdout",
     "output_type": "stream",
     "text": [
      "real_amt_ninety is in processing\n"
     ]
    },
    {
     "name": "stderr",
     "output_type": "stream",
     "text": [
      "\r",
      " 42%|█████████████████████████████████▋                                              | 125/297 [19:44<27:09,  9.47s/it]"
     ]
    },
    {
     "name": "stdout",
     "output_type": "stream",
     "text": [
      "net_used_3m is in processing\n"
     ]
    },
    {
     "name": "stderr",
     "output_type": "stream",
     "text": [
      "\r",
      " 42%|█████████████████████████████████▉                                              | 126/297 [19:58<27:07,  9.52s/it]"
     ]
    },
    {
     "name": "stdout",
     "output_type": "stream",
     "text": [
      "org_cnt_recent_60_days is in processing\n"
     ]
    },
    {
     "name": "stderr",
     "output_type": "stream",
     "text": [
      "\r",
      " 43%|██████████████████████████████████▏                                             | 127/297 [19:59<26:46,  9.45s/it]"
     ]
    },
    {
     "name": "stdout",
     "output_type": "stream",
     "text": [
      "repany_loan_amount_avg_6 is in processing\n"
     ]
    },
    {
     "name": "stderr",
     "output_type": "stream",
     "text": [
      "\r",
      " 43%|██████████████████████████████████▍                                             | 128/297 [20:06<26:32,  9.42s/it]"
     ]
    },
    {
     "name": "stdout",
     "output_type": "stream",
     "text": [
      "recharge_avg_cnt_3m is in processing\n"
     ]
    },
    {
     "name": "stderr",
     "output_type": "stream",
     "text": [
      "\r",
      " 43%|██████████████████████████████████▋                                             | 129/297 [20:12<26:19,  9.40s/it]"
     ]
    },
    {
     "name": "stdout",
     "output_type": "stream",
     "text": [
      "blacklist_contacts_cnt is in processing\n"
     ]
    },
    {
     "name": "stderr",
     "output_type": "stream",
     "text": [
      "\r",
      " 44%|███████████████████████████████████                                             | 130/297 [20:14<25:59,  9.34s/it]"
     ]
    },
    {
     "name": "stdout",
     "output_type": "stream",
     "text": [
      "calls_count_one_eighty is in processing\n"
     ]
    },
    {
     "name": "stderr",
     "output_type": "stream",
     "text": [
      "\r",
      " 44%|███████████████████████████████████▎                                            | 131/297 [20:36<26:06,  9.44s/it]"
     ]
    },
    {
     "name": "stdout",
     "output_type": "stream",
     "text": [
      "scale_no_call_ninety is in processing\n"
     ]
    },
    {
     "name": "stderr",
     "output_type": "stream",
     "text": [
      "\r",
      " 44%|███████████████████████████████████▌                                            | 132/297 [20:52<26:06,  9.49s/it]"
     ]
    },
    {
     "name": "stdout",
     "output_type": "stream",
     "text": [
      "org_cnt_14_recent is in processing\n"
     ]
    },
    {
     "name": "stderr",
     "output_type": "stream",
     "text": [
      "\r",
      " 45%|███████████████████████████████████▊                                            | 133/297 [21:06<26:02,  9.53s/it]"
     ]
    },
    {
     "name": "stdout",
     "output_type": "stream",
     "text": [
      "repany_loan_mon_num_3 is in processing\n",
      "The number of original levels for repany_loan_mon_num_3 is less than or equal to max intervals\n",
      "The number of original levels for repany_loan_mon_num_3 is less than or equal to max intervals\n"
     ]
    },
    {
     "name": "stderr",
     "output_type": "stream",
     "text": [
      "\r",
      " 45%|████████████████████████████████████                                            | 134/297 [21:07<25:41,  9.46s/it]"
     ]
    },
    {
     "name": "stdout",
     "output_type": "stream",
     "text": [
      "called_num_ninety is in processing\n"
     ]
    },
    {
     "name": "stderr",
     "output_type": "stream",
     "text": [
      "\r",
      " 45%|████████████████████████████████████▎                                           | 135/297 [21:24<25:40,  9.51s/it]"
     ]
    },
    {
     "name": "stdout",
     "output_type": "stream",
     "text": [
      "debitcard_max_balance_6 is in processing\n"
     ]
    },
    {
     "name": "stderr",
     "output_type": "stream",
     "text": [
      "\r",
      " 46%|████████████████████████████████████▋                                           | 136/297 [21:40<25:39,  9.56s/it]"
     ]
    },
    {
     "name": "stdout",
     "output_type": "stream",
     "text": [
      "offline_installment_cnt is in processing\n"
     ]
    },
    {
     "name": "stderr",
     "output_type": "stream",
     "text": [
      "\r",
      " 46%|████████████████████████████████████▉                                           | 137/297 [21:41<25:19,  9.50s/it]"
     ]
    },
    {
     "name": "stdout",
     "output_type": "stream",
     "text": [
      "agency_time_3m is in processing\n"
     ]
    },
    {
     "name": "stderr",
     "output_type": "stream",
     "text": [
      "\r",
      " 46%|█████████████████████████████████████▏                                          | 138/297 [21:45<25:04,  9.46s/it]"
     ]
    },
    {
     "name": "stdout",
     "output_type": "stream",
     "text": [
      "called_avg_duration_ninety is in processing\n"
     ]
    },
    {
     "name": "stderr",
     "output_type": "stream",
     "text": [
      "\r",
      " 47%|█████████████████████████████████████▍                                          | 139/297 [21:55<24:55,  9.46s/it]"
     ]
    },
    {
     "name": "stdout",
     "output_type": "stream",
     "text": [
      "peer_loc_cnt_3m is in processing\n"
     ]
    },
    {
     "name": "stderr",
     "output_type": "stream",
     "text": [
      "\r",
      " 47%|█████████████████████████████████████▋                                          | 140/297 [21:57<24:37,  9.41s/it]"
     ]
    },
    {
     "name": "stdout",
     "output_type": "stream",
     "text": [
      "calling_num_ninety is in processing\n"
     ]
    },
    {
     "name": "stderr",
     "output_type": "stream",
     "text": [
      "\r",
      " 47%|█████████████████████████████████████▉                                          | 141/297 [22:19<24:42,  9.50s/it]"
     ]
    },
    {
     "name": "stdout",
     "output_type": "stream",
     "text": [
      "continue_recharge_month_cnt is in processing\n",
      "The number of original levels for continue_recharge_month_cnt is less than or equal to max intervals\n"
     ]
    },
    {
     "name": "stderr",
     "output_type": "stream",
     "text": [
      "\r",
      " 48%|██████████████████████████████████████▏                                         | 142/297 [22:19<24:22,  9.44s/it]"
     ]
    },
    {
     "name": "stdout",
     "output_type": "stream",
     "text": [
      "loan_success_ratio is in processing\n"
     ]
    },
    {
     "name": "stderr",
     "output_type": "stream",
     "text": [
      "\r",
      " 48%|██████████████████████████████████████▌                                         | 143/297 [22:25<24:09,  9.41s/it]"
     ]
    },
    {
     "name": "stdout",
     "output_type": "stream",
     "text": [
      "loan_time_1m is in processing\n"
     ]
    },
    {
     "name": "stderr",
     "output_type": "stream",
     "text": [
      "\r",
      " 48%|██████████████████████████████████████▊                                         | 144/297 [22:28<23:53,  9.37s/it]"
     ]
    },
    {
     "name": "stdout",
     "output_type": "stream",
     "text": [
      "no_calling_day_thirty is in processing\n"
     ]
    },
    {
     "name": "stderr",
     "output_type": "stream",
     "text": [
      "\r",
      " 49%|███████████████████████████████████████                                         | 145/297 [22:31<23:36,  9.32s/it]"
     ]
    },
    {
     "name": "stdout",
     "output_type": "stream",
     "text": [
      "code_size is in processing\n"
     ]
    },
    {
     "name": "stderr",
     "output_type": "stream",
     "text": [
      "\r",
      " 49%|███████████████████████████████████████▎                                        | 146/297 [22:39<23:26,  9.31s/it]"
     ]
    },
    {
     "name": "stdout",
     "output_type": "stream",
     "text": [
      "agency_time_1m is in processing\n"
     ]
    },
    {
     "name": "stderr",
     "output_type": "stream",
     "text": [
      "\r",
      " 49%|███████████████████████████████████████▌                                        | 147/297 [22:41<23:08,  9.26s/it]"
     ]
    },
    {
     "name": "stdout",
     "output_type": "stream",
     "text": [
      "loan_24m is in processing\n"
     ]
    },
    {
     "name": "stderr",
     "output_type": "stream",
     "text": [
      "\r",
      " 50%|███████████████████████████████████████▊                                        | 148/297 [22:41<22:51,  9.20s/it]"
     ]
    },
    {
     "name": "stdout",
     "output_type": "stream",
     "text": [
      "calls_count_thirty is in processing\n"
     ]
    },
    {
     "name": "stderr",
     "output_type": "stream",
     "text": [
      "\r",
      " 50%|████████████████████████████████████████▏                                       | 149/297 [23:04<22:54,  9.29s/it]"
     ]
    },
    {
     "name": "stdout",
     "output_type": "stream",
     "text": [
      "calling_match_num_one_eighty is in processing\n"
     ]
    },
    {
     "name": "stderr",
     "output_type": "stream",
     "text": [
      "\r",
      " 51%|████████████████████████████████████████▍                                       | 150/297 [23:15<22:47,  9.30s/it]"
     ]
    },
    {
     "name": "stdout",
     "output_type": "stream",
     "text": [
      "credit_card_time_3m is in processing\n"
     ]
    },
    {
     "name": "stderr",
     "output_type": "stream",
     "text": [
      "\r",
      " 51%|████████████████████████████████████████▋                                       | 151/297 [23:18<22:32,  9.26s/it]"
     ]
    },
    {
     "name": "stdout",
     "output_type": "stream",
     "text": [
      "power_off_day_pct_1m is in processing\n"
     ]
    },
    {
     "name": "stderr",
     "output_type": "stream",
     "text": [
      "\r",
      " 51%|████████████████████████████████████████▉                                       | 152/297 [23:21<22:16,  9.22s/it]"
     ]
    },
    {
     "name": "stdout",
     "output_type": "stream",
     "text": [
      "debitcard_max_continue_consume_month_3 is in processing\n",
      "The number of original levels for debitcard_max_continue_consume_month_3 is less than or equal to max intervals\n",
      "The number of original levels for debitcard_max_continue_consume_month_3 is less than or equal to max intervals\n"
     ]
    },
    {
     "name": "stderr",
     "output_type": "stream",
     "text": [
      "\r",
      " 52%|█████████████████████████████████████████▏                                      | 153/297 [23:22<21:59,  9.16s/it]"
     ]
    },
    {
     "name": "stdout",
     "output_type": "stream",
     "text": [
      "call_avg_duration_one_eighty is in processing\n"
     ]
    },
    {
     "name": "stderr",
     "output_type": "stream",
     "text": [
      "\r",
      " 52%|█████████████████████████████████████████▍                                      | 154/297 [23:29<21:48,  9.15s/it]"
     ]
    },
    {
     "name": "stdout",
     "output_type": "stream",
     "text": [
      "sms_day_3m is in processing\n"
     ]
    },
    {
     "name": "stderr",
     "output_type": "stream",
     "text": [
      "\r",
      " 52%|█████████████████████████████████████████▊                                      | 155/297 [23:46<21:47,  9.20s/it]"
     ]
    },
    {
     "name": "stdout",
     "output_type": "stream",
     "text": [
      "debitcard_outcome_12 is in processing\n"
     ]
    },
    {
     "name": "stderr",
     "output_type": "stream",
     "text": [
      "\r",
      " 53%|██████████████████████████████████████████                                      | 156/297 [23:57<21:39,  9.22s/it]"
     ]
    },
    {
     "name": "stdout",
     "output_type": "stream",
     "text": [
      "other_fee_avg_12 is in processing\n"
     ]
    },
    {
     "name": "stderr",
     "output_type": "stream",
     "text": [
      "\r",
      " 53%|██████████████████████████████████████████▎                                     | 157/297 [24:03<21:26,  9.19s/it]"
     ]
    },
    {
     "name": "stdout",
     "output_type": "stream",
     "text": [
      "max_single_recharge_3m is in processing\n"
     ]
    },
    {
     "name": "stderr",
     "output_type": "stream",
     "text": [
      "\r",
      " 53%|██████████████████████████████████████████▌                                     | 158/297 [24:05<21:11,  9.15s/it]"
     ]
    },
    {
     "name": "stdout",
     "output_type": "stream",
     "text": [
      "remote_cnt_1m is in processing\n"
     ]
    },
    {
     "name": "stderr",
     "output_type": "stream",
     "text": [
      "\r",
      " 54%|██████████████████████████████████████████▊                                     | 159/297 [24:13<21:01,  9.14s/it]"
     ]
    },
    {
     "name": "stdout",
     "output_type": "stream",
     "text": [
      "other_fee_12 is in processing\n"
     ]
    },
    {
     "name": "stderr",
     "output_type": "stream",
     "text": [
      "\r",
      " 54%|███████████████████████████████████████████                                     | 160/297 [24:19<20:49,  9.12s/it]"
     ]
    },
    {
     "name": "stdout",
     "output_type": "stream",
     "text": [
      "no_calling_day_ninety is in processing\n"
     ]
    },
    {
     "name": "stderr",
     "output_type": "stream",
     "text": [
      "\r",
      " 54%|███████████████████████████████████████████▎                                    | 161/297 [24:36<20:47,  9.17s/it]"
     ]
    },
    {
     "name": "stdout",
     "output_type": "stream",
     "text": [
      "loan_cnt_3m is in processing\n"
     ]
    },
    {
     "name": "stderr",
     "output_type": "stream",
     "text": [
      "\r",
      " 55%|███████████████████████████████████████████▋                                    | 162/297 [24:41<20:34,  9.14s/it]"
     ]
    },
    {
     "name": "stdout",
     "output_type": "stream",
     "text": [
      "cnt_1min_within_3m is in processing\n"
     ]
    },
    {
     "name": "stderr",
     "output_type": "stream",
     "text": [
      "\r",
      " 55%|███████████████████████████████████████████▉                                    | 163/297 [25:02<20:35,  9.22s/it]"
     ]
    },
    {
     "name": "stdout",
     "output_type": "stream",
     "text": [
      "fake_size is in processing\n"
     ]
    },
    {
     "name": "stderr",
     "output_type": "stream",
     "text": [
      "\r",
      " 55%|████████████████████████████████████████████▏                                   | 164/297 [25:19<20:32,  9.26s/it]"
     ]
    },
    {
     "name": "stdout",
     "output_type": "stream",
     "text": [
      "min_single_time_3m is in processing\n"
     ]
    },
    {
     "name": "stderr",
     "output_type": "stream",
     "text": [
      "\r",
      " 56%|████████████████████████████████████████████▍                                   | 165/297 [25:20<20:16,  9.22s/it]"
     ]
    },
    {
     "name": "stdout",
     "output_type": "stream",
     "text": [
      "calling_count_thirty is in processing\n"
     ]
    },
    {
     "name": "stderr",
     "output_type": "stream",
     "text": [
      "\r",
      " 56%|████████████████████████████████████████████▋                                   | 166/297 [25:42<20:17,  9.29s/it]"
     ]
    },
    {
     "name": "stdout",
     "output_type": "stream",
     "text": [
      "scale_no_calling_ninety is in processing\n"
     ]
    },
    {
     "name": "stderr",
     "output_type": "stream",
     "text": [
      "\r",
      " 56%|████████████████████████████████████████████▉                                   | 167/297 [26:00<20:14,  9.34s/it]"
     ]
    },
    {
     "name": "stdout",
     "output_type": "stream",
     "text": [
      "call_avg_duration_ninety is in processing\n"
     ]
    },
    {
     "name": "stderr",
     "output_type": "stream",
     "text": [
      "\r",
      " 57%|█████████████████████████████████████████████▎                                  | 168/297 [26:07<20:03,  9.33s/it]"
     ]
    },
    {
     "name": "stdout",
     "output_type": "stream",
     "text": [
      "calling_avg_duration_ninety is in processing\n"
     ]
    },
    {
     "name": "stderr",
     "output_type": "stream",
     "text": [
      "\r",
      " 57%|█████████████████████████████████████████████▌                                  | 169/297 [26:16<19:54,  9.33s/it]"
     ]
    },
    {
     "name": "stdout",
     "output_type": "stream",
     "text": [
      "linkman_count is in processing\n"
     ]
    },
    {
     "name": "stderr",
     "output_type": "stream",
     "text": [
      "\r",
      " 57%|█████████████████████████████████████████████▊                                  | 170/297 [26:27<19:46,  9.34s/it]"
     ]
    },
    {
     "name": "stdout",
     "output_type": "stream",
     "text": [
      "org_cnt_recent_30_days is in processing\n"
     ]
    },
    {
     "name": "stderr",
     "output_type": "stream",
     "text": [
      "\r",
      " 58%|██████████████████████████████████████████████                                  | 171/297 [26:28<19:30,  9.29s/it]"
     ]
    },
    {
     "name": "stdout",
     "output_type": "stream",
     "text": [
      "debitcard_withdraw_amount_12 is in processing\n"
     ]
    },
    {
     "name": "stderr",
     "output_type": "stream",
     "text": [
      "\r",
      " 58%|██████████████████████████████████████████████▎                                 | 172/297 [26:39<19:22,  9.30s/it]"
     ]
    },
    {
     "name": "stdout",
     "output_type": "stream",
     "text": [
      "sms_cnt_3m is in processing\n"
     ]
    },
    {
     "name": "stderr",
     "output_type": "stream",
     "text": [
      "\r",
      " 58%|██████████████████████████████████████████████▌                                 | 173/297 [27:01<19:22,  9.37s/it]"
     ]
    },
    {
     "name": "stdout",
     "output_type": "stream",
     "text": [
      "other_fee_avg_6 is in processing\n"
     ]
    },
    {
     "name": "stderr",
     "output_type": "stream",
     "text": [
      "\r",
      " 59%|██████████████████████████████████████████████▊                                 | 174/297 [27:04<19:08,  9.33s/it]"
     ]
    },
    {
     "name": "stdout",
     "output_type": "stream",
     "text": [
      "good_friend_num_3m is in processing\n"
     ]
    },
    {
     "name": "stderr",
     "output_type": "stream",
     "text": [
      "\r",
      " 59%|███████████████████████████████████████████████▏                                | 175/297 [27:22<19:05,  9.39s/it]"
     ]
    },
    {
     "name": "stdout",
     "output_type": "stream",
     "text": [
      "calling_match_num_thirty is in processing\n"
     ]
    },
    {
     "name": "stderr",
     "output_type": "stream",
     "text": [
      "\r",
      " 59%|███████████████████████████████████████████████▍                                | 176/297 [27:25<18:51,  9.35s/it]"
     ]
    },
    {
     "name": "stdout",
     "output_type": "stream",
     "text": [
      "zm_score is in processing\n"
     ]
    },
    {
     "name": "stderr",
     "output_type": "stream",
     "text": [
      "\r",
      " 60%|███████████████████████████████████████████████▋                                | 177/297 [27:31<18:39,  9.33s/it]"
     ]
    },
    {
     "name": "stdout",
     "output_type": "stream",
     "text": [
      "debitcard_income_6_avg is in processing\n"
     ]
    },
    {
     "name": "stderr",
     "output_type": "stream",
     "text": [
      "\r",
      " 60%|███████████████████████████████████████████████▉                                | 178/297 [27:53<18:38,  9.40s/it]"
     ]
    },
    {
     "name": "stdout",
     "output_type": "stream",
     "text": [
      "loan_12m is in processing\n"
     ]
    },
    {
     "name": "stderr",
     "output_type": "stream",
     "text": [
      "\r",
      " 60%|████████████████████████████████████████████████▏                               | 179/297 [27:53<18:23,  9.35s/it]"
     ]
    },
    {
     "name": "stdout",
     "output_type": "stream",
     "text": [
      "apply_1m is in processing\n"
     ]
    },
    {
     "name": "stderr",
     "output_type": "stream",
     "text": [
      "\r",
      " 61%|████████████████████████████████████████████████▍                               | 180/297 [27:56<18:10,  9.32s/it]"
     ]
    },
    {
     "name": "stdout",
     "output_type": "stream",
     "text": [
      "nearest_loan is in processing\n"
     ]
    },
    {
     "name": "stderr",
     "output_type": "stream",
     "text": [
      "\r",
      " 61%|████████████████████████████████████████████████▊                               | 181/297 [27:57<17:55,  9.27s/it]"
     ]
    },
    {
     "name": "stdout",
     "output_type": "stream",
     "text": [
      "salary_income_month_num_3 is in processing\n",
      "The number of original levels for salary_income_month_num_3 is less than or equal to max intervals\n",
      "The number of original levels for salary_income_month_num_3 is less than or equal to max intervals\n"
     ]
    },
    {
     "name": "stderr",
     "output_type": "stream",
     "text": [
      "\r",
      " 61%|█████████████████████████████████████████████████                               | 182/297 [27:58<17:40,  9.22s/it]"
     ]
    },
    {
     "name": "stdout",
     "output_type": "stream",
     "text": [
      "debitcard_withdraw_amount_6 is in processing\n"
     ]
    },
    {
     "name": "stderr",
     "output_type": "stream",
     "text": [
      "\r",
      " 62%|█████████████████████████████████████████████████▎                              | 183/297 [28:08<17:31,  9.23s/it]"
     ]
    },
    {
     "name": "stdout",
     "output_type": "stream",
     "text": [
      "daytime_cnt_1m is in processing\n"
     ]
    },
    {
     "name": "stderr",
     "output_type": "stream",
     "text": [
      "\r",
      " 62%|█████████████████████████████████████████████████▌                              | 184/297 [28:30<17:30,  9.30s/it]"
     ]
    },
    {
     "name": "stdout",
     "output_type": "stream",
     "text": [
      "final_score is in processing\n"
     ]
    },
    {
     "name": "stderr",
     "output_type": "stream",
     "text": [
      "\r",
      " 62%|█████████████████████████████████████████████████▊                              | 185/297 [28:36<17:19,  9.28s/it]"
     ]
    },
    {
     "name": "stdout",
     "output_type": "stream",
     "text": [
      "nearest_unpass_org is in processing\n"
     ]
    },
    {
     "name": "stderr",
     "output_type": "stream",
     "text": [
      "\r",
      " 63%|██████████████████████████████████████████████████                              | 186/297 [28:52<17:13,  9.31s/it]"
     ]
    },
    {
     "name": "stdout",
     "output_type": "stream",
     "text": [
      "real_amt_thirty is in processing\n"
     ]
    },
    {
     "name": "stderr",
     "output_type": "stream",
     "text": [
      "\r",
      " 63%|██████████████████████████████████████████████████▎                             | 187/297 [29:08<17:08,  9.35s/it]"
     ]
    },
    {
     "name": "stdout",
     "output_type": "stream",
     "text": [
      "other_fee_6 is in processing\n"
     ]
    },
    {
     "name": "stderr",
     "output_type": "stream",
     "text": [
      "\r",
      " 63%|██████████████████████████████████████████████████▋                             | 188/297 [29:11<16:55,  9.32s/it]"
     ]
    },
    {
     "name": "stdout",
     "output_type": "stream",
     "text": [
      "contacts_cnt is in processing\n"
     ]
    },
    {
     "name": "stderr",
     "output_type": "stream",
     "text": [
      "\r",
      " 64%|██████████████████████████████████████████████████▉                             | 189/297 [29:32<16:52,  9.38s/it]"
     ]
    },
    {
     "name": "stdout",
     "output_type": "stream",
     "text": [
      "loan_in_amount_12 is in processing\n"
     ]
    },
    {
     "name": "stderr",
     "output_type": "stream",
     "text": [
      "\r",
      " 64%|███████████████████████████████████████████████████▏                            | 190/297 [29:34<16:39,  9.34s/it]"
     ]
    },
    {
     "name": "stdout",
     "output_type": "stream",
     "text": [
      "daytime_cnt_3m is in processing\n"
     ]
    },
    {
     "name": "stderr",
     "output_type": "stream",
     "text": [
      "\r",
      " 64%|███████████████████████████████████████████████████▍                            | 191/297 [29:51<16:33,  9.38s/it]"
     ]
    },
    {
     "name": "stdout",
     "output_type": "stream",
     "text": [
      "duration_div_one_eighty is in processing\n"
     ]
    },
    {
     "name": "stderr",
     "output_type": "stream",
     "text": [
      "\r",
      " 65%|███████████████████████████████████████████████████▋                            | 192/297 [30:12<16:31,  9.44s/it]"
     ]
    },
    {
     "name": "stdout",
     "output_type": "stream",
     "text": [
      "debitcard_withdraw_amount_3 is in processing\n"
     ]
    },
    {
     "name": "stderr",
     "output_type": "stream",
     "text": [
      "\r",
      " 65%|███████████████████████████████████████████████████▉                            | 193/297 [30:17<16:19,  9.42s/it]"
     ]
    },
    {
     "name": "stdout",
     "output_type": "stream",
     "text": [
      "debitcard_recently_balance_12 is in processing\n"
     ]
    },
    {
     "name": "stderr",
     "output_type": "stream",
     "text": [
      "\r",
      " 65%|████████████████████████████████████████████████████▎                           | 194/297 [30:22<16:07,  9.39s/it]"
     ]
    },
    {
     "name": "stdout",
     "output_type": "stream",
     "text": [
      "loan_ratio is in processing\n"
     ]
    },
    {
     "name": "stderr",
     "output_type": "stream",
     "text": [
      "\r",
      " 66%|████████████████████████████████████████████████████▌                           | 195/297 [30:38<16:01,  9.43s/it]"
     ]
    },
    {
     "name": "stdout",
     "output_type": "stream",
     "text": [
      "debitcard_cash_withdrawal_amount_1m is in processing\n"
     ]
    },
    {
     "name": "stderr",
     "output_type": "stream",
     "text": [
      "\r",
      " 66%|████████████████████████████████████████████████████▊                           | 196/297 [30:41<15:48,  9.40s/it]"
     ]
    },
    {
     "name": "stdout",
     "output_type": "stream",
     "text": [
      "calling_avg_duration_one_eighty is in processing\n"
     ]
    },
    {
     "name": "stderr",
     "output_type": "stream",
     "text": [
      "\r",
      " 66%|█████████████████████████████████████████████████████                           | 197/297 [30:54<15:41,  9.41s/it]"
     ]
    },
    {
     "name": "stdout",
     "output_type": "stream",
     "text": [
      "search_cnt_recent_60_days is in processing\n"
     ]
    },
    {
     "name": "stderr",
     "output_type": "stream",
     "text": [
      "\r",
      " 67%|█████████████████████████████████████████████████████▎                          | 198/297 [30:55<15:27,  9.37s/it]"
     ]
    },
    {
     "name": "stdout",
     "output_type": "stream",
     "text": [
      "call_duration_one_eighty is in processing\n"
     ]
    },
    {
     "name": "stderr",
     "output_type": "stream",
     "text": [
      "\r",
      " 67%|█████████████████████████████████████████████████████▌                          | 199/297 [31:17<15:24,  9.44s/it]"
     ]
    },
    {
     "name": "stdout",
     "output_type": "stream",
     "text": [
      "size1 is in processing\n"
     ]
    },
    {
     "name": "stderr",
     "output_type": "stream",
     "text": [
      "\r",
      " 67%|█████████████████████████████████████████████████████▊                          | 200/297 [31:34<15:18,  9.47s/it]"
     ]
    },
    {
     "name": "stdout",
     "output_type": "stream",
     "text": [
      "calling_duration_thirty is in processing\n"
     ]
    },
    {
     "name": "stderr",
     "output_type": "stream",
     "text": [
      "\r",
      " 68%|██████████████████████████████████████████████████████▏                         | 201/297 [31:56<15:15,  9.54s/it]"
     ]
    },
    {
     "name": "stdout",
     "output_type": "stream",
     "text": [
      "debitcard_consume_amount_12 is in processing\n"
     ]
    },
    {
     "name": "stderr",
     "output_type": "stream",
     "text": [
      "\r",
      " 68%|██████████████████████████████████████████████████████▍                         | 202/297 [32:08<15:06,  9.55s/it]"
     ]
    },
    {
     "name": "stdout",
     "output_type": "stream",
     "text": [
      "max_single_time_1m is in processing\n"
     ]
    },
    {
     "name": "stderr",
     "output_type": "stream",
     "text": [
      "\r",
      " 68%|██████████████████████████████████████████████████████▋                         | 203/297 [32:24<15:00,  9.58s/it]"
     ]
    },
    {
     "name": "stdout",
     "output_type": "stream",
     "text": [
      "calling_match_num_ninety is in processing\n"
     ]
    },
    {
     "name": "stderr",
     "output_type": "stream",
     "text": [
      "\r",
      " 69%|██████████████████████████████████████████████████████▉                         | 204/297 [32:32<14:50,  9.57s/it]"
     ]
    },
    {
     "name": "stdout",
     "output_type": "stream",
     "text": [
      "extend_phone_age is in processing\n"
     ]
    },
    {
     "name": "stderr",
     "output_type": "stream",
     "text": [
      "\r",
      " 69%|███████████████████████████████████████████████████████▏                        | 205/297 [32:37<14:38,  9.55s/it]"
     ]
    },
    {
     "name": "stdout",
     "output_type": "stream",
     "text": [
      "salary_income_amount_12m is in processing\n"
     ]
    },
    {
     "name": "stderr",
     "output_type": "stream",
     "text": [
      "\r",
      " 69%|███████████████████████████████████████████████████████▍                        | 206/297 [32:39<14:25,  9.51s/it]"
     ]
    },
    {
     "name": "stdout",
     "output_type": "stream",
     "text": [
      "offline_cash_loan_cnt is in processing\n"
     ]
    },
    {
     "name": "stderr",
     "output_type": "stream",
     "text": [
      "\r",
      " 70%|███████████████████████████████████████████████████████▊                        | 207/297 [32:40<14:12,  9.47s/it]"
     ]
    },
    {
     "name": "stdout",
     "output_type": "stream",
     "text": [
      "credit_card_time_1m is in processing\n"
     ]
    },
    {
     "name": "stderr",
     "output_type": "stream",
     "text": [
      "\r",
      " 70%|████████████████████████████████████████████████████████                        | 208/297 [32:45<14:01,  9.45s/it]"
     ]
    },
    {
     "name": "stdout",
     "output_type": "stream",
     "text": [
      "scale_no_call_thirty is in processing\n"
     ]
    },
    {
     "name": "stderr",
     "output_type": "stream",
     "text": [
      "\r",
      " 70%|████████████████████████████████████████████████████████▎                       | 209/297 [32:48<13:48,  9.42s/it]"
     ]
    },
    {
     "name": "stdout",
     "output_type": "stream",
     "text": [
      "called_duration_thirty is in processing\n"
     ]
    },
    {
     "name": "stderr",
     "output_type": "stream",
     "text": [
      "\r",
      " 71%|████████████████████████████████████████████████████████▌                       | 210/297 [33:05<13:42,  9.45s/it]"
     ]
    },
    {
     "name": "stdout",
     "output_type": "stream",
     "text": [
      "debitcard_withdraw_count_3 is in processing\n"
     ]
    },
    {
     "name": "stderr",
     "output_type": "stream",
     "text": [
      "\r",
      " 71%|████████████████████████████████████████████████████████▊                       | 211/297 [33:19<13:35,  9.48s/it]"
     ]
    },
    {
     "name": "stdout",
     "output_type": "stream",
     "text": [
      "power_off_day_3m is in processing\n"
     ]
    },
    {
     "name": "stderr",
     "output_type": "stream",
     "text": [
      "\r",
      " 71%|█████████████████████████████████████████████████████████                       | 212/297 [33:36<13:28,  9.51s/it]"
     ]
    },
    {
     "name": "stdout",
     "output_type": "stream",
     "text": [
      "called_count_ninety is in processing\n"
     ]
    },
    {
     "name": "stderr",
     "output_type": "stream",
     "text": [
      "\r",
      " 72%|█████████████████████████████████████████████████████████▎                      | 213/297 [33:58<13:23,  9.57s/it]"
     ]
    },
    {
     "name": "stdout",
     "output_type": "stream",
     "text": [
      "debitcard_other_consumption_num_12m is in processing\n"
     ]
    },
    {
     "name": "stderr",
     "output_type": "stream",
     "text": [
      "\r",
      " 72%|█████████████████████████████████████████████████████████▋                      | 214/297 [34:01<13:11,  9.54s/it]"
     ]
    },
    {
     "name": "stdout",
     "output_type": "stream",
     "text": [
      "loan_cnt_1m is in processing\n"
     ]
    },
    {
     "name": "stderr",
     "output_type": "stream",
     "text": [
      "\r",
      " 72%|█████████████████████████████████████████████████████████▉                      | 215/297 [34:03<12:59,  9.50s/it]"
     ]
    },
    {
     "name": "stdout",
     "output_type": "stream",
     "text": [
      "debitcard_consume_count_6 is in processing\n"
     ]
    },
    {
     "name": "stderr",
     "output_type": "stream",
     "text": [
      "\r",
      " 73%|██████████████████████████████████████████████████████████▏                     | 216/297 [34:10<12:48,  9.49s/it]"
     ]
    },
    {
     "name": "stdout",
     "output_type": "stream",
     "text": [
      "sms_fee_3m is in processing\n"
     ]
    },
    {
     "name": "stderr",
     "output_type": "stream",
     "text": [
      "\r",
      " 73%|██████████████████████████████████████████████████████████▍                     | 217/297 [34:15<12:37,  9.47s/it]"
     ]
    },
    {
     "name": "stdout",
     "output_type": "stream",
     "text": [
      "org_cnt_recent_7_days is in processing\n"
     ]
    },
    {
     "name": "stderr",
     "output_type": "stream",
     "text": [
      "\r",
      " 73%|██████████████████████████████████████████████████████████▋                     | 218/297 [34:16<12:25,  9.44s/it]"
     ]
    },
    {
     "name": "stdout",
     "output_type": "stream",
     "text": [
      "available_balance is in processing\n"
     ]
    },
    {
     "name": "stderr",
     "output_type": "stream",
     "text": [
      "\r",
      " 74%|██████████████████████████████████████████████████████████▉                     | 219/297 [34:32<12:18,  9.46s/it]"
     ]
    },
    {
     "name": "stdout",
     "output_type": "stream",
     "text": [
      "debitcard_shopping_amount_1m is in processing\n"
     ]
    },
    {
     "name": "stderr",
     "output_type": "stream",
     "text": [
      "\r",
      " 74%|███████████████████████████████████████████████████████████▎                    | 220/297 [34:46<12:10,  9.48s/it]"
     ]
    },
    {
     "name": "stdout",
     "output_type": "stream",
     "text": [
      "debitcard_consume_count_12m is in processing\n"
     ]
    },
    {
     "name": "stderr",
     "output_type": "stream",
     "text": [
      "\r",
      " 74%|███████████████████████████████████████████████████████████▌                    | 221/297 [34:57<12:01,  9.49s/it]"
     ]
    },
    {
     "name": "stdout",
     "output_type": "stream",
     "text": [
      "debitcard_consume_amount_6 is in processing\n"
     ]
    },
    {
     "name": "stderr",
     "output_type": "stream",
     "text": [
      "\r",
      " 75%|███████████████████████████████████████████████████████████▊                    | 222/297 [35:12<11:53,  9.51s/it]"
     ]
    },
    {
     "name": "stdout",
     "output_type": "stream",
     "text": [
      "total_fee_avg_3m is in processing\n"
     ]
    },
    {
     "name": "stderr",
     "output_type": "stream",
     "text": [
      "\r",
      " 75%|████████████████████████████████████████████████████████████                    | 223/297 [35:17<11:42,  9.50s/it]"
     ]
    },
    {
     "name": "stdout",
     "output_type": "stream",
     "text": [
      "sms_cnt_1m is in processing\n"
     ]
    },
    {
     "name": "stderr",
     "output_type": "stream",
     "text": [
      "\r",
      " 75%|████████████████████████████████████████████████████████████▎                   | 224/297 [35:30<11:34,  9.51s/it]"
     ]
    },
    {
     "name": "stdout",
     "output_type": "stream",
     "text": [
      "remote_time_1m is in processing\n"
     ]
    },
    {
     "name": "stderr",
     "output_type": "stream",
     "text": [
      "\r",
      " 76%|████████████████████████████████████████████████████████████▌                   | 225/297 [35:39<11:24,  9.51s/it]"
     ]
    },
    {
     "name": "stdout",
     "output_type": "stream",
     "text": [
      "debitcard_other_consumption_amount_12m is in processing\n"
     ]
    },
    {
     "name": "stderr",
     "output_type": "stream",
     "text": [
      "\r",
      " 76%|████████████████████████████████████████████████████████████▉                   | 226/297 [35:41<11:12,  9.47s/it]"
     ]
    },
    {
     "name": "stdout",
     "output_type": "stream",
     "text": [
      "loan_18m is in processing\n"
     ]
    },
    {
     "name": "stderr",
     "output_type": "stream",
     "text": [
      "\r",
      " 76%|█████████████████████████████████████████████████████████████▏                  | 227/297 [35:42<11:00,  9.44s/it]"
     ]
    },
    {
     "name": "stdout",
     "output_type": "stream",
     "text": [
      "recharge_amount_avg_3m is in processing\n"
     ]
    },
    {
     "name": "stderr",
     "output_type": "stream",
     "text": [
      "\r",
      " 77%|█████████████████████████████████████████████████████████████▍                  | 228/297 [35:59<10:53,  9.47s/it]"
     ]
    },
    {
     "name": "stdout",
     "output_type": "stream",
     "text": [
      "debitcard_balance is in processing\n"
     ]
    },
    {
     "name": "stderr",
     "output_type": "stream",
     "text": [
      "\r",
      " 77%|█████████████████████████████████████████████████████████████▋                  | 229/297 [36:04<10:42,  9.45s/it]"
     ]
    },
    {
     "name": "stdout",
     "output_type": "stream",
     "text": [
      "consumption_expense_1y is in processing\n"
     ]
    },
    {
     "name": "stderr",
     "output_type": "stream",
     "text": [
      "\r",
      " 77%|█████████████████████████████████████████████████████████████▉                  | 230/297 [36:16<10:33,  9.46s/it]"
     ]
    },
    {
     "name": "stdout",
     "output_type": "stream",
     "text": [
      "max_loan_success_amount is in processing\n"
     ]
    },
    {
     "name": "stderr",
     "output_type": "stream",
     "text": [
      "\r",
      " 78%|██████████████████████████████████████████████████████████████▏                 | 231/297 [36:17<10:22,  9.43s/it]"
     ]
    },
    {
     "name": "stdout",
     "output_type": "stream",
     "text": [
      "call_match_num_ninety is in processing\n"
     ]
    },
    {
     "name": "stderr",
     "output_type": "stream",
     "text": [
      "\r",
      " 78%|██████████████████████████████████████████████████████████████▍                 | 232/297 [36:29<10:13,  9.44s/it]"
     ]
    },
    {
     "name": "stdout",
     "output_type": "stream",
     "text": [
      "salary_income_amount_average_6m is in processing\n"
     ]
    },
    {
     "name": "stderr",
     "output_type": "stream",
     "text": [
      "\r",
      " 78%|██████████████████████████████████████████████████████████████▊                 | 233/297 [36:31<10:02,  9.41s/it]"
     ]
    },
    {
     "name": "stdout",
     "output_type": "stream",
     "text": [
      "apply_7d is in processing\n"
     ]
    },
    {
     "name": "stderr",
     "output_type": "stream",
     "text": [
      "\r",
      " 79%|███████████████████████████████████████████████████████████████                 | 234/297 [36:32<09:50,  9.37s/it]"
     ]
    },
    {
     "name": "stdout",
     "output_type": "stream",
     "text": [
      "debitcard_withdraw_amount_12_avg is in processing\n"
     ]
    },
    {
     "name": "stderr",
     "output_type": "stream",
     "text": [
      "\r",
      " 79%|███████████████████████████████████████████████████████████████▎                | 235/297 [36:43<09:41,  9.38s/it]"
     ]
    },
    {
     "name": "stdout",
     "output_type": "stream",
     "text": [
      "called_count_thirty is in processing\n"
     ]
    },
    {
     "name": "stderr",
     "output_type": "stream",
     "text": [
      "\r",
      " 79%|███████████████████████████████████████████████████████████████▌                | 236/297 [37:00<09:33,  9.41s/it]"
     ]
    },
    {
     "name": "stdout",
     "output_type": "stream",
     "text": [
      "debitcard_consume_count_3 is in processing\n"
     ]
    },
    {
     "name": "stderr",
     "output_type": "stream",
     "text": [
      "\r",
      " 80%|███████████████████████████████████████████████████████████████▊                | 237/297 [37:07<09:24,  9.40s/it]"
     ]
    },
    {
     "name": "stdout",
     "output_type": "stream",
     "text": [
      "org_180_cnt_14_recent is in processing\n"
     ]
    },
    {
     "name": "stderr",
     "output_type": "stream",
     "text": [
      "\r",
      " 80%|████████████████████████████████████████████████████████████████                | 238/297 [37:11<09:13,  9.38s/it]"
     ]
    },
    {
     "name": "stdout",
     "output_type": "stream",
     "text": [
      "debitcard_income_6 is in processing\n"
     ]
    },
    {
     "name": "stderr",
     "output_type": "stream",
     "text": [
      "\r",
      " 80%|████████████████████████████████████████████████████████████████▍               | 239/297 [37:33<09:06,  9.43s/it]"
     ]
    },
    {
     "name": "stdout",
     "output_type": "stream",
     "text": [
      "local_cnt_3m is in processing\n"
     ]
    },
    {
     "name": "stderr",
     "output_type": "stream",
     "text": [
      "\r",
      " 81%|████████████████████████████████████████████████████████████████▋               | 240/297 [37:41<08:57,  9.42s/it]"
     ]
    },
    {
     "name": "stdout",
     "output_type": "stream",
     "text": [
      "no_calling_day_one_eighty is in processing\n"
     ]
    },
    {
     "name": "stderr",
     "output_type": "stream",
     "text": [
      "\r",
      " 81%|████████████████████████████████████████████████████████████████▉               | 241/297 [37:59<08:49,  9.46s/it]"
     ]
    },
    {
     "name": "stdout",
     "output_type": "stream",
     "text": [
      "calls_count_ninety is in processing\n"
     ]
    },
    {
     "name": "stderr",
     "output_type": "stream",
     "text": [
      "\r",
      " 81%|█████████████████████████████████████████████████████████████████▏              | 242/297 [38:21<08:43,  9.51s/it]"
     ]
    },
    {
     "name": "stdout",
     "output_type": "stream",
     "text": [
      "other_fee_3 is in processing\n"
     ]
    },
    {
     "name": "stderr",
     "output_type": "stream",
     "text": [
      "\r",
      " 82%|█████████████████████████████████████████████████████████████████▍              | 243/297 [38:23<08:31,  9.48s/it]"
     ]
    },
    {
     "name": "stdout",
     "output_type": "stream",
     "text": [
      "credit_card_cnt_1m is in processing\n"
     ]
    },
    {
     "name": "stderr",
     "output_type": "stream",
     "text": [
      "\r",
      " 82%|█████████████████████████████████████████████████████████████████▋              | 244/297 [38:27<08:21,  9.46s/it]"
     ]
    },
    {
     "name": "stdout",
     "output_type": "stream",
     "text": [
      "total_fee_3m is in processing\n"
     ]
    },
    {
     "name": "stderr",
     "output_type": "stream",
     "text": [
      "\r",
      " 82%|█████████████████████████████████████████████████████████████████▉              | 245/297 [38:33<08:10,  9.44s/it]"
     ]
    },
    {
     "name": "stdout",
     "output_type": "stream",
     "text": [
      "called_avg_duration_thirty is in processing\n"
     ]
    },
    {
     "name": "stderr",
     "output_type": "stream",
     "text": [
      "\r",
      " 83%|██████████████████████████████████████████████████████████████████▎             | 246/297 [38:47<08:02,  9.46s/it]"
     ]
    },
    {
     "name": "stdout",
     "output_type": "stream",
     "text": [
      "calls_num_ninety is in processing\n"
     ]
    },
    {
     "name": "stderr",
     "output_type": "stream",
     "text": [
      "\r",
      " 83%|██████████████████████████████████████████████████████████████████▌             | 247/297 [39:04<07:54,  9.49s/it]"
     ]
    },
    {
     "name": "stdout",
     "output_type": "stream",
     "text": [
      "friend_num_3m is in processing\n"
     ]
    },
    {
     "name": "stderr",
     "output_type": "stream",
     "text": [
      "\r",
      " 84%|██████████████████████████████████████████████████████████████████▊             | 248/297 [39:26<07:47,  9.54s/it]"
     ]
    },
    {
     "name": "stdout",
     "output_type": "stream",
     "text": [
      "calling_duration_ninety is in processing\n"
     ]
    },
    {
     "name": "stderr",
     "output_type": "stream",
     "text": [
      "\r",
      " 84%|███████████████████████████████████████████████████████████████████             | 249/297 [39:50<07:40,  9.60s/it]"
     ]
    },
    {
     "name": "stdout",
     "output_type": "stream",
     "text": [
      "search_cnt_14_recent is in processing\n"
     ]
    },
    {
     "name": "stderr",
     "output_type": "stream",
     "text": [
      "\r",
      " 84%|███████████████████████████████████████████████████████████████████▎            | 250/297 [39:59<07:31,  9.60s/it]"
     ]
    },
    {
     "name": "stdout",
     "output_type": "stream",
     "text": [
      "calling_duration_one_eighty is in processing\n"
     ]
    },
    {
     "name": "stderr",
     "output_type": "stream",
     "text": [
      "\r",
      " 85%|███████████████████████████████████████████████████████████████████▌            | 251/297 [40:22<07:23,  9.65s/it]"
     ]
    },
    {
     "name": "stdout",
     "output_type": "stream",
     "text": [
      "called_num_thirty is in processing\n"
     ]
    },
    {
     "name": "stderr",
     "output_type": "stream",
     "text": [
      "\r",
      " 85%|███████████████████████████████████████████████████████████████████▉            | 252/297 [40:42<07:16,  9.69s/it]"
     ]
    },
    {
     "name": "stdout",
     "output_type": "stream",
     "text": [
      "cnt_1min_5min_3m is in processing\n"
     ]
    },
    {
     "name": "stderr",
     "output_type": "stream",
     "text": [
      "\r",
      " 85%|████████████████████████████████████████████████████████████████████▏           | 253/297 [41:04<07:08,  9.74s/it]"
     ]
    },
    {
     "name": "stdout",
     "output_type": "stream",
     "text": [
      "debitcard_outcome_6_avg is in processing\n"
     ]
    },
    {
     "name": "stderr",
     "output_type": "stream",
     "text": [
      "\r",
      " 86%|████████████████████████████████████████████████████████████████████▍           | 254/297 [41:20<06:59,  9.77s/it]"
     ]
    },
    {
     "name": "stdout",
     "output_type": "stream",
     "text": [
      "debitcard_consume_amount_12m is in processing\n"
     ]
    },
    {
     "name": "stderr",
     "output_type": "stream",
     "text": [
      "\r",
      " 86%|████████████████████████████████████████████████████████████████████▋           | 255/297 [41:32<06:50,  9.77s/it]"
     ]
    },
    {
     "name": "stdout",
     "output_type": "stream",
     "text": [
      "debitcard_consume_amount_6_avg is in processing\n"
     ]
    },
    {
     "name": "stderr",
     "output_type": "stream",
     "text": [
      "\r",
      " 86%|████████████████████████████████████████████████████████████████████▉           | 256/297 [41:46<06:41,  9.79s/it]"
     ]
    },
    {
     "name": "stdout",
     "output_type": "stream",
     "text": [
      "power_off_day_pct_3m is in processing\n"
     ]
    },
    {
     "name": "stderr",
     "output_type": "stream",
     "text": [
      "\r",
      " 87%|█████████████████████████████████████████████████████████████████████▏          | 257/297 [42:03<06:32,  9.82s/it]"
     ]
    },
    {
     "name": "stdout",
     "output_type": "stream",
     "text": [
      "daytime_time_3m is in processing\n"
     ]
    },
    {
     "name": "stderr",
     "output_type": "stream",
     "text": [
      "\r",
      " 87%|█████████████████████████████████████████████████████████████████████▍          | 258/297 [42:25<06:24,  9.87s/it]"
     ]
    },
    {
     "name": "stdout",
     "output_type": "stream",
     "text": [
      "search_30_cnt_7_recent is in processing\n"
     ]
    },
    {
     "name": "stderr",
     "output_type": "stream",
     "text": [
      "\r",
      " 87%|█████████████████████████████████████████████████████████████████████▊          | 259/297 [42:28<06:13,  9.84s/it]"
     ]
    },
    {
     "name": "stdout",
     "output_type": "stream",
     "text": [
      "proportion2 is in processing\n"
     ]
    },
    {
     "name": "stderr",
     "output_type": "stream",
     "text": [
      "\r",
      " 88%|██████████████████████████████████████████████████████████████████████          | 260/297 [42:32<06:03,  9.82s/it]"
     ]
    },
    {
     "name": "stdout",
     "output_type": "stream",
     "text": [
      "call_duration_thirty is in processing\n"
     ]
    },
    {
     "name": "stderr",
     "output_type": "stream",
     "text": [
      "\r",
      " 88%|██████████████████████████████████████████████████████████████████████▎         | 261/297 [42:54<05:55,  9.87s/it]"
     ]
    },
    {
     "name": "stdout",
     "output_type": "stream",
     "text": [
      "cnt_1min_5min_1m is in processing\n"
     ]
    },
    {
     "name": "stderr",
     "output_type": "stream",
     "text": [
      "\r",
      " 88%|██████████████████████████████████████████████████████████████████████▌         | 262/297 [43:17<05:46,  9.91s/it]"
     ]
    },
    {
     "name": "stdout",
     "output_type": "stream",
     "text": [
      "proportion6 is in processing\n"
     ]
    },
    {
     "name": "stderr",
     "output_type": "stream",
     "text": [
      "\r",
      " 89%|██████████████████████████████████████████████████████████████████████▊         | 263/297 [43:19<05:36,  9.88s/it]"
     ]
    },
    {
     "name": "stdout",
     "output_type": "stream",
     "text": [
      "query_times is in processing\n"
     ]
    },
    {
     "name": "stderr",
     "output_type": "stream",
     "text": [
      "\r",
      " 89%|███████████████████████████████████████████████████████████████████████         | 264/297 [43:20<05:25,  9.85s/it]"
     ]
    },
    {
     "name": "stdout",
     "output_type": "stream",
     "text": [
      "search_cnt_recent_7_days is in processing\n"
     ]
    },
    {
     "name": "stderr",
     "output_type": "stream",
     "text": [
      "\r",
      " 89%|███████████████████████████████████████████████████████████████████████▍        | 265/297 [43:21<05:14,  9.82s/it]"
     ]
    },
    {
     "name": "stdout",
     "output_type": "stream",
     "text": [
      "invalid_size is in processing\n"
     ]
    },
    {
     "name": "stderr",
     "output_type": "stream",
     "text": [
      "\r",
      " 90%|███████████████████████████████████████████████████████████████████████▋        | 266/297 [43:23<05:03,  9.79s/it]"
     ]
    },
    {
     "name": "stdout",
     "output_type": "stream",
     "text": [
      "salary_income_month_num_6 is in processing\n"
     ]
    },
    {
     "name": "stderr",
     "output_type": "stream",
     "text": [
      "\r",
      " 90%|███████████████████████████████████████████████████████████████████████▉        | 267/297 [43:25<04:52,  9.76s/it]"
     ]
    },
    {
     "name": "stdout",
     "output_type": "stream",
     "text": [
      "debitcard_outcome_6 is in processing\n"
     ]
    },
    {
     "name": "stderr",
     "output_type": "stream",
     "text": [
      "\r",
      " 90%|████████████████████████████████████████████████████████████████████████▏       | 268/297 [43:41<04:43,  9.78s/it]"
     ]
    },
    {
     "name": "stdout",
     "output_type": "stream",
     "text": [
      "debitcard_max_continue_consume_month_6 is in processing\n"
     ]
    },
    {
     "name": "stderr",
     "output_type": "stream",
     "text": [
      "\r",
      " 91%|████████████████████████████████████████████████████████████████████████▍       | 269/297 [43:42<04:33,  9.75s/it]"
     ]
    },
    {
     "name": "stdout",
     "output_type": "stream",
     "text": [
      "sms_day_1m is in processing\n"
     ]
    },
    {
     "name": "stderr",
     "output_type": "stream",
     "text": [
      "\r",
      " 91%|████████████████████████████████████████████████████████████████████████▋       | 270/297 [43:45<04:22,  9.73s/it]"
     ]
    },
    {
     "name": "stdout",
     "output_type": "stream",
     "text": [
      "call_match_num_one_eighty is in processing\n"
     ]
    },
    {
     "name": "stderr",
     "output_type": "stream",
     "text": [
      "\r",
      " 91%|████████████████████████████████████████████████████████████████████████▉       | 271/297 [43:58<04:13,  9.74s/it]"
     ]
    },
    {
     "name": "stdout",
     "output_type": "stream",
     "text": [
      "others_cnt is in processing\n"
     ]
    },
    {
     "name": "stderr",
     "output_type": "stream",
     "text": [
      "\r",
      " 92%|█████████████████████████████████████████████████████████████████████████▎      | 272/297 [44:02<04:02,  9.71s/it]"
     ]
    },
    {
     "name": "stdout",
     "output_type": "stream",
     "text": [
      "live_month_cnt_3m is in processing\n",
      "The number of original levels for live_month_cnt_3m is less than or equal to max intervals\n",
      "The number of original levels for live_month_cnt_3m is less than or equal to max intervals\n"
     ]
    },
    {
     "name": "stderr",
     "output_type": "stream",
     "text": [
      "\r",
      " 92%|█████████████████████████████████████████████████████████████████████████▌      | 273/297 [44:02<03:52,  9.68s/it]"
     ]
    },
    {
     "name": "stdout",
     "output_type": "stream",
     "text": [
      "credit_card_cnt_3m is in processing\n"
     ]
    },
    {
     "name": "stderr",
     "output_type": "stream",
     "text": [
      "\r",
      " 92%|█████████████████████████████████████████████████████████████████████████▊      | 274/297 [44:13<03:42,  9.68s/it]"
     ]
    },
    {
     "name": "stdout",
     "output_type": "stream",
     "text": [
      "debitcard_cash_withdrawal_amount_12m is in processing\n"
     ]
    },
    {
     "name": "stderr",
     "output_type": "stream",
     "text": [
      "\r",
      " 93%|██████████████████████████████████████████████████████████████████████████      | 275/297 [44:25<03:33,  9.69s/it]"
     ]
    },
    {
     "name": "stdout",
     "output_type": "stream",
     "text": [
      "search_cnt_recent_30_days is in processing\n"
     ]
    },
    {
     "name": "stderr",
     "output_type": "stream",
     "text": [
      "\r",
      " 93%|██████████████████████████████████████████████████████████████████████████▎     | 276/297 [44:28<03:23,  9.67s/it]"
     ]
    },
    {
     "name": "stdout",
     "output_type": "stream",
     "text": [
      "apply_3m is in processing\n"
     ]
    },
    {
     "name": "stderr",
     "output_type": "stream",
     "text": [
      "\r",
      " 93%|██████████████████████████████████████████████████████████████████████████▌     | 277/297 [44:30<03:12,  9.64s/it]"
     ]
    },
    {
     "name": "stdout",
     "output_type": "stream",
     "text": [
      "payday_loan_cnt is in processing\n"
     ]
    },
    {
     "name": "stderr",
     "output_type": "stream",
     "text": [
      "\r",
      " 94%|██████████████████████████████████████████████████████████████████████████▉     | 278/297 [44:33<03:02,  9.62s/it]"
     ]
    },
    {
     "name": "stdout",
     "output_type": "stream",
     "text": [
      "expense_1y is in processing\n"
     ]
    },
    {
     "name": "stderr",
     "output_type": "stream",
     "text": [
      "\r",
      " 94%|███████████████████████████████████████████████████████████████████████████▏    | 279/297 [44:44<02:53,  9.62s/it]"
     ]
    },
    {
     "name": "stdout",
     "output_type": "stream",
     "text": [
      "salary_income_amount_3m is in processing\n"
     ]
    },
    {
     "name": "stderr",
     "output_type": "stream",
     "text": [
      "\r",
      " 94%|███████████████████████████████████████████████████████████████████████████▍    | 280/297 [44:47<02:43,  9.60s/it]"
     ]
    },
    {
     "name": "stdout",
     "output_type": "stream",
     "text": [
      "agency_cnt_3m is in processing\n"
     ]
    },
    {
     "name": "stderr",
     "output_type": "stream",
     "text": [
      "\r",
      " 95%|███████████████████████████████████████████████████████████████████████████▋    | 281/297 [44:49<02:33,  9.57s/it]"
     ]
    },
    {
     "name": "stdout",
     "output_type": "stream",
     "text": [
      "local_time_3m is in processing\n"
     ]
    },
    {
     "name": "stderr",
     "output_type": "stream",
     "text": [
      "\r",
      " 95%|███████████████████████████████████████████████████████████████████████████▉    | 282/297 [45:06<02:23,  9.60s/it]"
     ]
    },
    {
     "name": "stdout",
     "output_type": "stream",
     "text": [
      "repany_loan_amount_6 is in processing\n"
     ]
    },
    {
     "name": "stderr",
     "output_type": "stream",
     "text": [
      "\r",
      " 95%|████████████████████████████████████████████████████████████████████████████▏   | 283/297 [45:12<02:14,  9.59s/it]"
     ]
    },
    {
     "name": "stdout",
     "output_type": "stream",
     "text": [
      "no_call_day_one_eighty is in processing\n"
     ]
    },
    {
     "name": "stderr",
     "output_type": "stream",
     "text": [
      "\r",
      " 96%|████████████████████████████████████████████████████████████████████████████▍   | 284/297 [45:20<02:04,  9.58s/it]"
     ]
    },
    {
     "name": "stdout",
     "output_type": "stream",
     "text": [
      "debitcard_consume_amount_3 is in processing\n"
     ]
    },
    {
     "name": "stderr",
     "output_type": "stream",
     "text": [
      "\r",
      " 96%|████████████████████████████████████████████████████████████████████████████▊   | 285/297 [45:31<01:54,  9.58s/it]"
     ]
    },
    {
     "name": "stdout",
     "output_type": "stream",
     "text": [
      "org_count is in processing\n"
     ]
    },
    {
     "name": "stderr",
     "output_type": "stream",
     "text": [
      "\r",
      " 96%|█████████████████████████████████████████████████████████████████████████████   | 286/297 [45:32<01:45,  9.55s/it]"
     ]
    },
    {
     "name": "stdout",
     "output_type": "stream",
     "text": [
      "proportion8 is in processing\n"
     ]
    },
    {
     "name": "stderr",
     "output_type": "stream",
     "text": [
      "\r",
      " 97%|█████████████████████████████████████████████████████████████████████████████▎  | 287/297 [45:36<01:35,  9.53s/it]"
     ]
    },
    {
     "name": "stdout",
     "output_type": "stream",
     "text": [
      "max_single_recharge_1m is in processing\n"
     ]
    },
    {
     "name": "stderr",
     "output_type": "stream",
     "text": [
      "\r",
      " 97%|█████████████████████████████████████████████████████████████████████████████▌  | 288/297 [45:38<01:25,  9.51s/it]"
     ]
    },
    {
     "name": "stdout",
     "output_type": "stream",
     "text": [
      "repany_loan_amount_12 is in processing\n"
     ]
    },
    {
     "name": "stderr",
     "output_type": "stream",
     "text": [
      "\r",
      " 97%|█████████████████████████████████████████████████████████████████████████████▊  | 289/297 [45:48<01:16,  9.51s/it]"
     ]
    },
    {
     "name": "stdout",
     "output_type": "stream",
     "text": [
      "called_match_num_ninety is in processing\n"
     ]
    },
    {
     "name": "stderr",
     "output_type": "stream",
     "text": [
      "\r",
      " 98%|██████████████████████████████████████████████████████████████████████████████  | 290/297 [45:55<01:06,  9.50s/it]"
     ]
    },
    {
     "name": "stdout",
     "output_type": "stream",
     "text": [
      "debitcard_consume_count_12 is in processing\n"
     ]
    },
    {
     "name": "stderr",
     "output_type": "stream",
     "text": [
      "\r",
      " 98%|██████████████████████████████████████████████████████████████████████████████▍ | 291/297 [46:07<00:57,  9.51s/it]"
     ]
    },
    {
     "name": "stdout",
     "output_type": "stream",
     "text": [
      "agency_cnt_1m is in processing\n"
     ]
    },
    {
     "name": "stderr",
     "output_type": "stream",
     "text": [
      "\r",
      " 98%|██████████████████████████████████████████████████████████████████████████████▋ | 292/297 [46:16<00:47,  9.51s/it]"
     ]
    },
    {
     "name": "stdout",
     "output_type": "stream",
     "text": [
      "call_duration_ninety is in processing\n"
     ]
    },
    {
     "name": "stderr",
     "output_type": "stream",
     "text": [
      "\r",
      " 99%|██████████████████████████████████████████████████████████████████████████████▉ | 293/297 [46:39<00:38,  9.55s/it]"
     ]
    },
    {
     "name": "stdout",
     "output_type": "stream",
     "text": [
      "peer_loc_cnt_1m is in processing\n"
     ]
    },
    {
     "name": "stderr",
     "output_type": "stream",
     "text": [
      "\r",
      " 99%|███████████████████████████████████████████████████████████████████████████████▏| 294/297 [46:40<00:28,  9.53s/it]"
     ]
    },
    {
     "name": "stdout",
     "output_type": "stream",
     "text": [
      "debitcard_withdraw_count_12 is in processing\n"
     ]
    },
    {
     "name": "stderr",
     "output_type": "stream",
     "text": [
      "\r",
      " 99%|███████████████████████████████████████████████████████████████████████████████▍| 295/297 [46:46<00:19,  9.51s/it]"
     ]
    },
    {
     "name": "stdout",
     "output_type": "stream",
     "text": [
      "call_day_1m is in processing\n"
     ]
    },
    {
     "name": "stderr",
     "output_type": "stream",
     "text": [
      "\r",
      "100%|███████████████████████████████████████████████████████████████████████████████▋| 296/297 [46:49<00:09,  9.49s/it]"
     ]
    },
    {
     "name": "stdout",
     "output_type": "stream",
     "text": [
      "debitcard_outcome_3 is in processing\n"
     ]
    },
    {
     "name": "stderr",
     "output_type": "stream",
     "text": [
      "100%|████████████████████████████████████████████████████████████████████████████████| 297/297 [47:06<00:00,  9.52s/it]\n"
     ]
    },
    {
     "name": "stdout",
     "output_type": "stream",
     "text": [
      "Wall time: 47min 6s\n"
     ]
    }
   ],
   "source": [
    "%%time\n",
    "###################处理连续型变量\n",
    "continous_merged_dict = {}\n",
    "for col in tqdm(num_features):\n",
    "    print (\"{} is in processing\".format(col))\n",
    "    if -1 not in set(trainData[col]):   #－1会当成特殊值处理。如果没有－1，则所有取值都参与分箱\n",
    "        max_interval = 5   #分箱后的最多的箱数\n",
    "        cutOff = ChiMerge(trainData, col, 'y', max_interval=max_interval,special_attribute=[],minBinPcnt=0)\n",
    "        trainData[col+'_Bin'] = trainData[col].map(lambda x: AssignBin(x, cutOff,special_attribute=[]))\n",
    "        monotone = BadRateMonotone(trainData, col+'_Bin', 'y')   # 检验分箱后的单调性是否满足\n",
    "        while(not monotone):\n",
    "            # 检验分箱后的单调性是否满足。如果不满足，则缩减分箱的个数。\n",
    "            max_interval -= 1\n",
    "            cutOff = ChiMerge(trainData, col, 'y', max_interval=max_interval, special_attribute=[],\n",
    "                                          minBinPcnt=0)\n",
    "            trainData[col + '_Bin'] = trainData[col].map(lambda x: AssignBin(x, cutOff, special_attribute=[]))\n",
    "            if max_interval == 2:\n",
    "                # 当分箱数为2时，必然单调\n",
    "                break\n",
    "            monotone = BadRateMonotone(trainData, col + '_Bin', 'y')\n",
    "        newVar = col + '_Bin'\n",
    "        trainData[newVar] = trainData[col].map(lambda x: AssignBin(x, cutOff, special_attribute=[]))\n",
    "        var_bin_list.append(newVar)\n",
    "    else:\n",
    "        max_interval = 5\n",
    "        # 如果有－1，则除去－1后，其他取值参与分箱\n",
    "        cutOff = ChiMerge(trainData, col, 'y', max_interval=max_interval,\n",
    "                                      minBinPcnt=0)\n",
    "        trainData[col + '_Bin'] = trainData[col].map(lambda x: AssignBin(x, cutOff))\n",
    "        monotone = BadRateMonotone(trainData, col + '_Bin', 'y',['Bin -1'])\n",
    "        while (not monotone):\n",
    "            max_interval -= 1\n",
    "            # 如果有－1，－1的bad rate不参与单调性检验\n",
    "            cutOff = ChiMerge(trainData, col, 'y', max_interval=max_interval,\n",
    "                                          minBinPcnt=0)\n",
    "            trainData[col + '_Bin'] = trainData[col].map(lambda x: AssignBin(x, cutOff))\n",
    "            if max_interval == 3:\n",
    "                # 当分箱数为3-1=2时，必然单调\n",
    "                break\n",
    "            monotone = BadRateMonotone(trainData, col + '_Bin', 'y',['Bin -1'])\n",
    "        newVar = col + '_Bin'\n",
    "        trainData[newVar] = trainData[col].map(lambda x: AssignBin(x, cutOff))\n",
    "        var_bin_list.append(newVar)\n",
    "    continous_merged_dict[col] = cutOff"
   ]
  },
  {
   "cell_type": "code",
   "execution_count": 79,
   "metadata": {},
   "outputs": [
    {
     "name": "stdout",
     "output_type": "stream",
     "text": [
      "final_dicision_Bin\n",
      "                    total\n",
      "final_dicision_Bin       \n",
      "Bin 0                4308\n",
      "Bin 1                  93\n",
      "Bin 2                6331\n",
      "                     bad\n",
      "final_dicision_Bin      \n",
      "Bin 0                413\n",
      "Bin 1                  9\n",
      "Bin 2               1400\n",
      "salary_income_month_num_12_Bin\n",
      "                                total\n",
      "salary_income_month_num_12_Bin       \n",
      "Bin 0                            8517\n",
      "Bin 1                            2215\n",
      "                                 bad\n",
      "salary_income_month_num_12_Bin      \n",
      "Bin 0                           1535\n",
      "Bin 1                            287\n",
      "debitcard_withdraw_count_6_Bin\n",
      "                                total\n",
      "debitcard_withdraw_count_6_Bin       \n",
      "Bin 0                            9357\n",
      "Bin 1                             510\n",
      "Bin 2                             865\n",
      "                                 bad\n",
      "debitcard_withdraw_count_6_Bin      \n",
      "Bin 0                           1570\n",
      "Bin 1                             86\n",
      "Bin 2                            166\n",
      "called_duration_ninety_Bin\n",
      "                            total\n",
      "called_duration_ninety_Bin       \n",
      "Bin 0                        5458\n",
      "Bin 1                        5274\n",
      "                            bad\n",
      "called_duration_ninety_Bin     \n",
      "Bin 0                       901\n",
      "Bin 1                       921\n",
      "repany_loan_mon_num_6_Bin\n",
      "                           total\n",
      "repany_loan_mon_num_6_Bin       \n",
      "Bin 0                       8467\n",
      "Bin 1                       2265\n",
      "                            bad\n",
      "repany_loan_mon_num_6_Bin      \n",
      "Bin 0                      1488\n",
      "Bin 1                       334\n",
      "max_power_on_day_1m_Bin\n",
      "                         total\n",
      "max_power_on_day_1m_Bin       \n",
      "Bin 0                     2917\n",
      "Bin 1                     1894\n",
      "Bin 2                     5921\n",
      "                         bad\n",
      "max_power_on_day_1m_Bin     \n",
      "Bin 0                    504\n",
      "Bin 1                    322\n",
      "Bin 2                    996\n",
      "debitcard_consume_amount_12_avg_Bin\n",
      "                                     total\n",
      "debitcard_consume_amount_12_avg_Bin       \n",
      "Bin 0                                 5779\n",
      "Bin 1                                 2889\n",
      "Bin 2                                 2064\n",
      "                                     bad\n",
      "debitcard_consume_amount_12_avg_Bin     \n",
      "Bin 0                                943\n",
      "Bin 1                                479\n",
      "Bin 2                                400\n",
      "calling_count_ninety_Bin\n",
      "                          total\n",
      "calling_count_ninety_Bin       \n",
      "Bin 0                      4190\n",
      "Bin 1                      6542\n",
      "                           bad\n",
      "calling_count_ninety_Bin      \n",
      "Bin 0                      733\n",
      "Bin 1                     1089\n",
      "count_div_ninety_Bin\n",
      "                      total\n",
      "count_div_ninety_Bin       \n",
      "Bin 0                  3674\n",
      "Bin 1                  7058\n",
      "                       bad\n",
      "count_div_ninety_Bin      \n",
      "Bin 0                  631\n",
      "Bin 1                 1191\n",
      "nearest_loan_success_Bin\n",
      "                          total\n",
      "nearest_loan_success_Bin       \n",
      "Bin 0                      8469\n",
      "Bin 1                      2263\n",
      "                           bad\n",
      "nearest_loan_success_Bin      \n",
      "Bin 0                     1571\n",
      "Bin 1                      251\n",
      "income_amt_1y_Bin\n",
      "                   total\n",
      "income_amt_1y_Bin       \n",
      "Bin 0               2248\n",
      "Bin 1               4173\n",
      "Bin 2               2889\n",
      "Bin 3               1422\n",
      "                   bad\n",
      "income_amt_1y_Bin     \n",
      "Bin 0              355\n",
      "Bin 1              715\n",
      "Bin 2              501\n",
      "Bin 3              251\n",
      "age_Bin\n",
      "         total\n",
      "age_Bin       \n",
      "Bin 0     9763\n",
      "Bin 1      576\n",
      "Bin 2      393\n",
      "          bad\n",
      "age_Bin      \n",
      "Bin 0    1713\n",
      "Bin 1      67\n",
      "Bin 2      42\n",
      "avg_loan_success_days_Bin\n",
      "                           total\n",
      "avg_loan_success_days_Bin       \n",
      "Bin 0                       8693\n",
      "Bin 1                       1954\n",
      "Bin 2                         85\n",
      "                            bad\n",
      "avg_loan_success_days_Bin      \n",
      "Bin 0                      1473\n",
      "Bin 1                       334\n",
      "Bin 2                        15\n",
      "debitcard_income_12_avg_Bin\n",
      "                             total\n",
      "debitcard_income_12_avg_Bin       \n",
      "Bin 0                         2248\n",
      "Bin 1                         4173\n",
      "Bin 2                         2889\n",
      "Bin 3                         1422\n",
      "                             bad\n",
      "debitcard_income_12_avg_Bin     \n",
      "Bin 0                        355\n",
      "Bin 1                        715\n",
      "Bin 2                        501\n",
      "Bin 3                        251\n",
      "debitcard_recently_balance_3_Bin\n",
      "                                  total\n",
      "debitcard_recently_balance_3_Bin       \n",
      "Bin 0                              1501\n",
      "Bin 1                              2566\n",
      "Bin 2                              3959\n",
      "Bin 3                              2706\n",
      "                                  bad\n",
      "debitcard_recently_balance_3_Bin     \n",
      "Bin 0                             337\n",
      "Bin 1                             478\n",
      "Bin 2                             634\n",
      "Bin 3                             373\n",
      "blacklist_routers_cnt_Bin\n",
      "                           total\n",
      "blacklist_routers_cnt_Bin       \n",
      "Bin 0                       4564\n",
      "Bin 1                       4858\n",
      "Bin 2                       1310\n",
      "                           bad\n",
      "blacklist_routers_cnt_Bin     \n",
      "Bin 0                      833\n",
      "Bin 1                      816\n",
      "Bin 2                      173\n",
      "calls_percent_Bin\n",
      "                   total\n",
      "calls_percent_Bin       \n",
      "Bin 0               6540\n",
      "Bin 1               4192\n",
      "                    bad\n",
      "calls_percent_Bin      \n",
      "Bin 0              1182\n",
      "Bin 1               640\n",
      "total_fee_1m_Bin\n",
      "                  total\n",
      "total_fee_1m_Bin       \n",
      "Bin 0              7170\n",
      "Bin 1              3562\n",
      "                   bad\n",
      "total_fee_1m_Bin      \n",
      "Bin 0             1284\n",
      "Bin 1              538\n",
      "calling_num_thirty_Bin\n",
      "                        total\n",
      "calling_num_thirty_Bin       \n",
      "Bin 0                    6702\n",
      "Bin 1                    4030\n",
      "                         bad\n",
      "calling_num_thirty_Bin      \n",
      "Bin 0                   1144\n",
      "Bin 1                    678\n",
      "avg_loan_days_Bin\n",
      "                   total\n",
      "avg_loan_days_Bin       \n",
      "Bin 0               7323\n",
      "Bin 1               3409\n",
      "                    bad\n",
      "avg_loan_days_Bin      \n",
      "Bin 0              1275\n",
      "Bin 1               547\n",
      "calling_count_one_eighty_Bin\n",
      "                              total\n",
      "calling_count_one_eighty_Bin       \n",
      "Bin 0                          4712\n",
      "Bin 1                          3851\n",
      "Bin 2                          2169\n",
      "                              bad\n",
      "calling_count_one_eighty_Bin     \n",
      "Bin 0                         830\n",
      "Bin 1                         662\n",
      "Bin 2                         330\n",
      "org_cnt_Bin\n",
      "             total\n",
      "org_cnt_Bin       \n",
      "Bin 0         8067\n",
      "Bin 1         2665\n",
      "              bad\n",
      "org_cnt_Bin      \n",
      "Bin 0        1192\n",
      "Bin 1         630\n",
      "debitcard_consume_count_12_avg_Bin\n",
      "                                    total\n",
      "debitcard_consume_count_12_avg_Bin       \n",
      "Bin 0                                4390\n",
      "Bin 1                                2033\n",
      "Bin 2                                4309\n",
      "                                    bad\n",
      "debitcard_consume_count_12_avg_Bin     \n",
      "Bin 0                               725\n",
      "Bin 1                               347\n",
      "Bin 2                               750\n",
      "his_overdue_times_Bin\n",
      "                       total\n",
      "his_overdue_times_Bin       \n",
      "Bin 0                   8214\n",
      "Bin 1                   1870\n",
      "Bin 2                    648\n",
      "                        bad\n",
      "his_overdue_times_Bin      \n",
      "Bin 0                  1283\n",
      "Bin 1                   393\n",
      "Bin 2                   146\n",
      "vas_fee_1m_Bin\n",
      "                total\n",
      "vas_fee_1m_Bin       \n",
      "Bin 0            7707\n",
      "Bin 1            1293\n",
      "Bin 2            1380\n",
      "Bin 3             352\n",
      "                 bad\n",
      "vas_fee_1m_Bin      \n",
      "Bin 0           1337\n",
      "Bin 1            223\n",
      "Bin 2            214\n",
      "Bin 3             48\n",
      "debitcard_max_balance_12_Bin\n",
      "                              total\n",
      "debitcard_max_balance_12_Bin       \n",
      "Bin 0                          4602\n",
      "Bin 1                          6130\n",
      "                               bad\n",
      "debitcard_max_balance_12_Bin      \n",
      "Bin 0                          805\n",
      "Bin 1                         1017\n",
      "debitcard_recently_balance_6_Bin\n",
      "                                  total\n",
      "debitcard_recently_balance_6_Bin       \n",
      "Bin 0                              1285\n",
      "Bin 1                              2782\n",
      "Bin 2                              3959\n",
      "Bin 3                              2706\n",
      "                                  bad\n",
      "debitcard_recently_balance_6_Bin     \n",
      "Bin 0                             284\n",
      "Bin 1                             529\n",
      "Bin 2                             636\n",
      "Bin 3                             373\n",
      "call_match_num_thirty_Bin\n",
      "                           total\n",
      "call_match_num_thirty_Bin       \n",
      "Bin 0                       8421\n",
      "Bin 1                       2311\n",
      "                            bad\n",
      "call_match_num_thirty_Bin      \n",
      "Bin 0                      1505\n",
      "Bin 1                       317\n",
      "blacklist_routers_pct_Bin\n",
      "                           total\n",
      "blacklist_routers_pct_Bin       \n",
      "Bin 0                        296\n",
      "Bin 1                        268\n",
      "Bin 2                       5701\n",
      "Bin 3                       3801\n",
      "Bin 4                        666\n",
      "                            bad\n",
      "blacklist_routers_pct_Bin      \n",
      "Bin 0                        84\n",
      "Bin 1                        65\n",
      "Bin 2                      1018\n",
      "Bin 3                       558\n",
      "Bin 4                        97\n",
      "fake_percent_Bin\n",
      "                  total\n",
      "fake_percent_Bin       \n",
      "Bin 0              3063\n",
      "Bin 1              6036\n",
      "Bin 2              1633\n",
      "                   bad\n",
      "fake_percent_Bin      \n",
      "Bin 0              547\n",
      "Bin 1             1010\n",
      "Bin 2              265\n",
      "loan_time_3m_Bin\n",
      "                  total\n",
      "loan_time_3m_Bin       \n",
      "Bin 0              3054\n",
      "Bin 1              3484\n",
      "Bin 2              2028\n",
      "Bin 3              1282\n",
      "Bin 4               884\n",
      "                  bad\n",
      "loan_time_3m_Bin     \n",
      "Bin 0             406\n",
      "Bin 1             559\n",
      "Bin 2             374\n",
      "Bin 3             281\n",
      "Bin 4             202\n",
      "repany_loan_mon_num_12_Bin\n",
      "                            total\n",
      "repany_loan_mon_num_12_Bin       \n",
      "Bin 0                        5793\n",
      "Bin 1                        3133\n",
      "Bin 2                         585\n",
      "Bin 3                        1221\n",
      "                             bad\n",
      "repany_loan_mon_num_12_Bin      \n",
      "Bin 0                       1033\n",
      "Bin 1                        534\n",
      "Bin 2                         85\n",
      "Bin 3                        170\n",
      "repany_loan_amount_avg_12_Bin\n",
      "                               total\n",
      "repany_loan_amount_avg_12_Bin       \n",
      "Bin 0                           7598\n",
      "Bin 1                           3134\n",
      "                                bad\n",
      "repany_loan_amount_avg_12_Bin      \n",
      "Bin 0                          1307\n",
      "Bin 1                           515\n",
      "loan_out_1y_Bin\n",
      "                 total\n",
      "loan_out_1y_Bin       \n",
      "Bin 0             7919\n",
      "Bin 1             2813\n",
      "                  bad\n",
      "loan_out_1y_Bin      \n",
      "Bin 0            1362\n",
      "Bin 1             460\n",
      "debitcard_cash_withdrawal_num_1m_Bin\n",
      "                                      total\n",
      "debitcard_cash_withdrawal_num_1m_Bin       \n",
      "Bin 0                                 10697\n",
      "Bin 1                                    35\n",
      "                                       bad\n",
      "debitcard_cash_withdrawal_num_1m_Bin      \n",
      "Bin 0                                 1815\n",
      "Bin 1                                    7\n",
      "salary_income_amount_6m_Bin\n",
      "                             total\n",
      "salary_income_amount_6m_Bin       \n",
      "Bin 0                         8668\n",
      "Bin 1                          963\n",
      "Bin 2                          749\n",
      "Bin 3                          352\n",
      "                              bad\n",
      "salary_income_amount_6m_Bin      \n",
      "Bin 0                        1580\n",
      "Bin 1                         131\n",
      "Bin 2                          79\n",
      "Bin 3                          32\n",
      "avg_loan_success_amount_Bin\n",
      "                             total\n",
      "avg_loan_success_amount_Bin       \n",
      "Bin 0                         5672\n",
      "Bin 1                         5060\n",
      "                              bad\n",
      "avg_loan_success_amount_Bin      \n",
      "Bin 0                        1106\n",
      "Bin 1                         716\n",
      "org_cnt_recent_90_days_Bin\n",
      "                            total\n",
      "org_cnt_recent_90_days_Bin       \n",
      "Bin 0                        2279\n",
      "Bin 1                        5960\n",
      "Bin 2                        1624\n",
      "Bin 3                         770\n",
      "Bin 4                          99\n",
      "                            bad\n",
      "org_cnt_recent_90_days_Bin     \n",
      "Bin 0                       247\n",
      "Bin 1                       949\n",
      "Bin 2                       373\n",
      "Bin 3                       213\n",
      "Bin 4                        40\n",
      "max_loan_amount_Bin\n",
      "                     total\n",
      "max_loan_amount_Bin       \n",
      "Bin 0                 5428\n",
      "Bin 1                 5304\n",
      "                     bad\n",
      "max_loan_amount_Bin     \n",
      "Bin 0                971\n",
      "Bin 1                851\n",
      "called_count_one_eighty_Bin\n",
      "                             total\n",
      "called_count_one_eighty_Bin       \n",
      "Bin 0                         3856\n",
      "Bin 1                         6876\n",
      "                              bad\n",
      "called_count_one_eighty_Bin      \n",
      "Bin 0                         663\n",
      "Bin 1                        1159\n",
      "debitcard_shopping_num_1m_Bin\n",
      "                               total\n",
      "debitcard_shopping_num_1m_Bin       \n",
      "Bin 0                           9204\n",
      "Bin 1                           1528\n",
      "                                bad\n",
      "debitcard_shopping_num_1m_Bin      \n",
      "Bin 0                          1516\n",
      "Bin 1                           306\n",
      "proportion3_Bin\n",
      "                 total\n",
      "proportion3_Bin       \n",
      "Bin 0             4165\n",
      "Bin 1             5667\n",
      "Bin 2              885\n",
      "Bin 3               15\n",
      "                  bad\n",
      "proportion3_Bin      \n",
      "Bin 0             634\n",
      "Bin 1            1017\n",
      "Bin 2             165\n",
      "Bin 3               6\n",
      "min_single_time_1m_Bin\n",
      "                        total\n",
      "min_single_time_1m_Bin       \n",
      "Bin 0                    9542\n",
      "Bin 1                    1171\n",
      "Bin 2                      19\n",
      "                         bad\n",
      "min_single_time_1m_Bin      \n",
      "Bin 0                   1616\n",
      "Bin 1                    202\n",
      "Bin 2                      4\n",
      "debitcard_withdraw_count_6_avg_Bin\n",
      "                                    total\n",
      "debitcard_withdraw_count_6_avg_Bin       \n",
      "Bin 0                                9357\n",
      "Bin 1                                 510\n",
      "Bin 2                                 865\n",
      "                                     bad\n",
      "debitcard_withdraw_count_6_avg_Bin      \n",
      "Bin 0                               1570\n",
      "Bin 1                                 86\n",
      "Bin 2                                166\n",
      "real_amt_one_eighty_Bin\n",
      "                         total\n",
      "real_amt_one_eighty_Bin       \n",
      "Bin 0                     6421\n",
      "Bin 1                     4311\n",
      "                          bad\n",
      "real_amt_one_eighty_Bin      \n",
      "Bin 0                    1165\n",
      "Bin 1                     657\n",
      "proportion7_Bin\n",
      "                 total\n",
      "proportion7_Bin       \n",
      "Bin 0             3379\n",
      "Bin 1             2624\n",
      "Bin 2             4514\n",
      "Bin 3              215\n",
      "                 bad\n",
      "proportion7_Bin     \n",
      "Bin 0            620\n",
      "Bin 1            466\n",
      "Bin 2            705\n",
      "Bin 3             31\n",
      "calling_avg_duration_thirty_Bin\n",
      "                                 total\n",
      "calling_avg_duration_thirty_Bin       \n",
      "Bin 0                             1051\n",
      "Bin 1                             3667\n",
      "Bin 2                             2613\n",
      "Bin 3                             1483\n",
      "Bin 4                             1918\n",
      "                                 bad\n",
      "calling_avg_duration_thirty_Bin     \n",
      "Bin 0                            155\n",
      "Bin 1                            583\n",
      "Bin 2                            440\n",
      "Bin 3                            278\n",
      "Bin 4                            366\n",
      "search_cnt_recent_90_days_Bin\n",
      "                               total\n",
      "search_cnt_recent_90_days_Bin       \n",
      "Bin 0                           8286\n",
      "Bin 1                           2446\n",
      "                                bad\n",
      "search_cnt_recent_90_days_Bin      \n",
      "Bin 0                          1250\n",
      "Bin 1                           572\n",
      "debitcard_cash_withdrawal_count_12m_Bin\n",
      "                                         total\n",
      "debitcard_cash_withdrawal_count_12m_Bin       \n",
      "Bin 0                                     8644\n",
      "Bin 1                                     2088\n",
      "                                          bad\n",
      "debitcard_cash_withdrawal_count_12m_Bin      \n",
      "Bin 0                                    1456\n",
      "Bin 1                                     366\n",
      "duration_div_ninety_Bin\n",
      "                         total\n",
      "duration_div_ninety_Bin       \n",
      "Bin 0                     1135\n",
      "Bin 1                     3980\n",
      "Bin 2                     2326\n",
      "Bin 3                     3291\n",
      "                         bad\n",
      "duration_div_ninety_Bin     \n",
      "Bin 0                    227\n",
      "Bin 1                    675\n",
      "Bin 2                    393\n",
      "Bin 3                    527\n",
      "loan_60m_Bin\n",
      "              total\n",
      "loan_60m_Bin       \n",
      "Bin 0          7635\n",
      "Bin 1          3097\n",
      "               bad\n",
      "loan_60m_Bin      \n",
      "Bin 0         1285\n",
      "Bin 1          537\n",
      "invalid_percent_Bin\n",
      "                     total\n",
      "invalid_percent_Bin       \n",
      "Bin 0                 9104\n",
      "Bin 1                 1628\n",
      "                      bad\n",
      "invalid_percent_Bin      \n",
      "Bin 0                1509\n",
      "Bin 1                 313\n",
      "proportion5_Bin\n",
      "                 total\n",
      "proportion5_Bin       \n",
      "Bin 0             3045\n",
      "Bin 1             7687\n",
      "                  bad\n",
      "proportion5_Bin      \n",
      "Bin 0             524\n",
      "Bin 1            1298\n",
      "debitcard_consume_count_6_avg_Bin\n",
      "                                   total\n",
      "debitcard_consume_count_6_avg_Bin       \n",
      "Bin 0                               5033\n",
      "Bin 1                               4705\n",
      "Bin 2                                856\n",
      "Bin 3                                138\n",
      "                                   bad\n",
      "debitcard_consume_count_6_avg_Bin     \n",
      "Bin 0                              813\n",
      "Bin 1                              803\n",
      "Bin 2                              166\n",
      "Bin 3                               40\n",
      "score_Bin\n",
      "           total\n",
      "score_Bin       \n",
      "Bin 0       9446\n",
      "Bin 1       1286\n",
      "            bad\n",
      "score_Bin      \n",
      "Bin 0      1635\n",
      "Bin 1       187\n",
      "called_avg_duration_one_eighty_Bin\n",
      "                                    total\n",
      "called_avg_duration_one_eighty_Bin       \n",
      "Bin 0                                4328\n",
      "Bin 1                                3966\n",
      "Bin 2                                2438\n",
      "                                    bad\n",
      "called_avg_duration_one_eighty_Bin     \n",
      "Bin 0                               656\n",
      "Bin 1                               711\n",
      "Bin 2                               455\n",
      "inter_peer_num_3m_Bin\n",
      "                       total\n",
      "inter_peer_num_3m_Bin       \n",
      "Bin 0                   7122\n",
      "Bin 1                   3610\n",
      "                        bad\n",
      "inter_peer_num_3m_Bin      \n",
      "Bin 0                  1250\n",
      "Bin 1                   572\n",
      "debitcard_in_num_trans_num_ratio_12_Bin\n",
      "                                         total\n",
      "debitcard_in_num_trans_num_ratio_12_Bin       \n",
      "Bin 0                                     9513\n",
      "Bin 1                                      172\n",
      "Bin 2                                     1047\n",
      "                                          bad\n",
      "debitcard_in_num_trans_num_ratio_12_Bin      \n",
      "Bin 0                                    1580\n",
      "Bin 1                                      40\n",
      "Bin 2                                     202\n",
      "debitcard_withdraw_amount_6_avg_Bin\n",
      "                                     total\n",
      "debitcard_withdraw_amount_6_avg_Bin       \n",
      "Bin 0                                 6427\n",
      "Bin 1                                 4305\n",
      "                                      bad\n",
      "debitcard_withdraw_amount_6_avg_Bin      \n",
      "Bin 0                                1084\n",
      "Bin 1                                 738\n",
      "phone_long_count_Bin\n",
      "                      total\n",
      "phone_long_count_Bin       \n",
      "Bin 0                  1764\n",
      "Bin 1                  3815\n",
      "Bin 2                  4480\n",
      "Bin 3                   673\n",
      "                      bad\n",
      "phone_long_count_Bin     \n",
      "Bin 0                 351\n",
      "Bin 1                 700\n",
      "Bin 2                 709\n",
      "Bin 3                  62\n",
      "repany_loan_amount_3_Bin\n",
      "                          total\n",
      "repany_loan_amount_3_Bin       \n",
      "Bin 0                      7812\n",
      "Bin 1                      1391\n",
      "Bin 2                      1529\n",
      "                           bad\n",
      "repany_loan_amount_3_Bin      \n",
      "Bin 0                     1374\n",
      "Bin 1                      226\n",
      "Bin 2                      222\n",
      "org_cnt_recent_14_days_Bin\n",
      "                            total\n",
      "org_cnt_recent_14_days_Bin       \n",
      "Bin 0                        9162\n",
      "Bin 1                        1246\n",
      "Bin 2                         214\n",
      "Bin 3                         110\n",
      "                             bad\n",
      "org_cnt_recent_14_days_Bin      \n",
      "Bin 0                       1368\n",
      "Bin 1                        323\n",
      "Bin 2                         86\n",
      "Bin 3                         45\n",
      "remote_cnt_3m_Bin\n",
      "                   total\n",
      "remote_cnt_3m_Bin       \n",
      "Bin 0               5585\n",
      "Bin 1               5147\n",
      "                   bad\n",
      "remote_cnt_3m_Bin     \n",
      "Bin 0              949\n",
      "Bin 1              873\n",
      "max_power_on_day_3m_Bin\n",
      "                         total\n",
      "max_power_on_day_3m_Bin       \n",
      "Bin 0                     2436\n",
      "Bin 1                     8296\n",
      "                          bad\n",
      "max_power_on_day_3m_Bin      \n",
      "Bin 0                     411\n",
      "Bin 1                    1411\n",
      "max_single_time_3m_Bin\n",
      "                        total\n",
      "max_single_time_3m_Bin       \n",
      "Bin 0                    1608\n",
      "Bin 1                    4280\n",
      "Bin 2                    4844\n",
      "                        bad\n",
      "max_single_time_3m_Bin     \n",
      "Bin 0                   210\n",
      "Bin 1                   740\n",
      "Bin 2                   872\n",
      "online_cash_loan_cnt_Bin\n",
      "                          total\n",
      "online_cash_loan_cnt_Bin       \n",
      "Bin 0                      9306\n",
      "Bin 1                      1426\n",
      "                           bad\n",
      "online_cash_loan_cnt_Bin      \n",
      "Bin 0                     1496\n",
      "Bin 1                      326\n",
      "count_div_one_eighty_Bin\n",
      "                          total\n",
      "count_div_one_eighty_Bin       \n",
      "Bin 0                      7402\n",
      "Bin 1                      3330\n",
      "                           bad\n",
      "count_div_one_eighty_Bin      \n",
      "Bin 0                     1269\n",
      "Bin 1                      553\n",
      "risk_count_Bin\n",
      "                total\n",
      "risk_count_Bin       \n",
      "Bin 0             299\n",
      "Bin 1            2326\n",
      "Bin 2            5559\n",
      "Bin 3            2293\n",
      "Bin 4             255\n",
      "                bad\n",
      "risk_count_Bin     \n",
      "Bin 0            25\n",
      "Bin 1           319\n",
      "Bin 2           891\n",
      "Bin 3           507\n",
      "Bin 4            80\n",
      "salary_income_amount_average_12m_Bin\n",
      "                                      total\n",
      "salary_income_amount_average_12m_Bin       \n",
      "Bin 0                                  6069\n",
      "Bin 1                                  2171\n",
      "Bin 2                                   963\n",
      "Bin 3                                  1177\n",
      "Bin 4                                   352\n",
      "                                       bad\n",
      "salary_income_amount_average_12m_Bin      \n",
      "Bin 0                                 1122\n",
      "Bin 1                                  383\n",
      "Bin 2                                  143\n",
      "Bin 3                                  142\n",
      "Bin 4                                   32\n",
      "org_cnt_recent_180_days_Bin\n",
      "                             total\n",
      "org_cnt_recent_180_days_Bin       \n",
      "Bin 0                         1573\n",
      "Bin 1                         7274\n",
      "Bin 2                          794\n",
      "Bin 3                          937\n",
      "Bin 4                          154\n",
      "                              bad\n",
      "org_cnt_recent_180_days_Bin      \n",
      "Bin 0                         167\n",
      "Bin 1                        1106\n",
      "Bin 2                         211\n",
      "Bin 3                         268\n",
      "Bin 4                          70\n",
      "duration_div_thirty_Bin\n",
      "                         total\n",
      "duration_div_thirty_Bin       \n",
      "Bin 0                     3467\n",
      "Bin 1                     1687\n",
      "Bin 2                     5578\n",
      "                         bad\n",
      "duration_div_thirty_Bin     \n",
      "Bin 0                    616\n",
      "Bin 1                    298\n",
      "Bin 2                    908\n",
      "proportion9_Bin\n",
      "                 total\n",
      "proportion9_Bin       \n",
      "Bin 0             8455\n",
      "Bin 1             2189\n",
      "Bin 2               88\n",
      "                  bad\n",
      "proportion9_Bin      \n",
      "Bin 0            1416\n",
      "Bin 1             382\n",
      "Bin 2              24\n",
      "net_used_1m_Bin\n",
      "                 total\n",
      "net_used_1m_Bin       \n",
      "Bin 0             5779\n",
      "Bin 1             4953\n",
      "                 bad\n",
      "net_used_1m_Bin     \n",
      "Bin 0            975\n",
      "Bin 1            847\n",
      "loan_in_amount_avg_12_Bin\n",
      "                           total\n",
      "loan_in_amount_avg_12_Bin       \n",
      "Bin 0                       9955\n",
      "Bin 1                        639\n",
      "Bin 2                        138\n",
      "                            bad\n",
      "loan_in_amount_avg_12_Bin      \n",
      "Bin 0                      1702\n",
      "Bin 1                       106\n",
      "Bin 2                        14\n",
      "org_30_cnt_7_recent_Bin\n",
      "                         total\n",
      "org_30_cnt_7_recent_Bin       \n",
      "Bin 0                     4791\n",
      "Bin 1                     5749\n",
      "Bin 2                      192\n",
      "                         bad\n",
      "org_30_cnt_7_recent_Bin     \n",
      "Bin 0                    777\n",
      "Bin 1                    978\n",
      "Bin 2                     67\n",
      "debitcard_income_3_Bin\n",
      "                        total\n",
      "debitcard_income_3_Bin       \n",
      "Bin 0                    2462\n",
      "Bin 1                    3531\n",
      "Bin 2                    2782\n",
      "Bin 3                    1957\n",
      "                        bad\n",
      "debitcard_income_3_Bin     \n",
      "Bin 0                   384\n",
      "Bin 1                   602\n",
      "Bin 2                   476\n",
      "Bin 3                   360\n",
      "family_size_Bin\n",
      "                 total\n",
      "family_size_Bin       \n",
      "Bin 0             2502\n",
      "Bin 1             5791\n",
      "Bin 2             1801\n",
      "Bin 3              638\n",
      "                 bad\n",
      "family_size_Bin     \n",
      "Bin 0            482\n",
      "Bin 1            967\n",
      "Bin 2            283\n",
      "Bin 3             90\n",
      "recharge_amount_1m_Bin\n",
      "                        total\n",
      "recharge_amount_1m_Bin       \n",
      "Bin 0                    6032\n",
      "Bin 1                    4700\n",
      "                         bad\n",
      "recharge_amount_1m_Bin      \n",
      "Bin 0                   1026\n",
      "Bin 1                    796\n",
      "call_day_3m_Bin\n",
      "                 total\n",
      "call_day_3m_Bin       \n",
      "Bin 0              112\n",
      "Bin 1              938\n",
      "Bin 2             9682\n",
      "                  bad\n",
      "call_day_3m_Bin      \n",
      "Bin 0              17\n",
      "Bin 1             159\n",
      "Bin 2            1646\n",
      "salary_income_1y_Bin\n",
      "                      total\n",
      "salary_income_1y_Bin       \n",
      "Bin 0                  6069\n",
      "Bin 1                  2171\n",
      "Bin 2                   963\n",
      "Bin 3                  1177\n",
      "Bin 4                   352\n",
      "                       bad\n",
      "salary_income_1y_Bin      \n",
      "Bin 0                 1122\n",
      "Bin 1                  383\n",
      "Bin 2                  143\n",
      "Bin 3                  142\n",
      "Bin 4                   32\n",
      "loan_in_month_num_12_Bin\n",
      "                          total\n",
      "loan_in_month_num_12_Bin       \n",
      "Bin 0                      9701\n",
      "Bin 1                      1031\n",
      "                           bad\n",
      "loan_in_month_num_12_Bin      \n",
      "Bin 0                     1649\n",
      "Bin 1                      173\n",
      "count_div_thirty_Bin\n",
      "                      total\n",
      "count_div_thirty_Bin       \n",
      "Bin 0                  1441\n",
      "Bin 1                  1835\n",
      "Bin 2                  1762\n",
      "Bin 3                  3010\n",
      "Bin 4                  2684\n",
      "                      bad\n",
      "count_div_thirty_Bin     \n",
      "Bin 0                 279\n",
      "Bin 1                 317\n",
      "Bin 2                 302\n",
      "Bin 3                 511\n",
      "Bin 4                 413\n",
      "local_time_1m_Bin\n",
      "                   total\n",
      "local_time_1m_Bin       \n",
      "Bin 0               6528\n",
      "Bin 1               4204\n",
      "                    bad\n",
      "local_time_1m_Bin      \n",
      "Bin 0              1109\n",
      "Bin 1               713\n",
      "scale_no_calling_one_eighty_Bin\n",
      "                                 total\n",
      "scale_no_calling_one_eighty_Bin       \n",
      "Bin 0                             3718\n",
      "Bin 1                             7014\n",
      "                                  bad\n",
      "scale_no_calling_one_eighty_Bin      \n",
      "Bin 0                             561\n",
      "Bin 1                            1261\n",
      "called_num_one_eighty_Bin\n",
      "                           total\n",
      "called_num_one_eighty_Bin       \n",
      "Bin 0                       7395\n",
      "Bin 1                       3337\n",
      "                            bad\n",
      "called_num_one_eighty_Bin      \n",
      "Bin 0                      1246\n",
      "Bin 1                       576\n",
      "recharge_amount_3m_Bin\n",
      "                        total\n",
      "recharge_amount_3m_Bin       \n",
      "Bin 0                    6744\n",
      "Bin 1                    3988\n",
      "                         bad\n",
      "recharge_amount_3m_Bin      \n",
      "Bin 0                   1154\n",
      "Bin 1                    668\n",
      "recharge_cnt_3m_Bin\n",
      "                     total\n",
      "recharge_cnt_3m_Bin       \n",
      "Bin 0                 1347\n",
      "Bin 1                 8900\n",
      "Bin 2                  461\n",
      "Bin 3                   24\n",
      "                      bad\n",
      "recharge_cnt_3m_Bin      \n",
      "Bin 0                 179\n",
      "Bin 1                1544\n",
      "Bin 2                  90\n",
      "Bin 3                   9\n",
      "local_cnt_1m_Bin\n",
      "                  total\n",
      "local_cnt_1m_Bin       \n",
      "Bin 0              4509\n",
      "Bin 1              3947\n",
      "Bin 2              2276\n",
      "                  bad\n",
      "local_cnt_1m_Bin     \n",
      "Bin 0             781\n",
      "Bin 1             670\n",
      "Bin 2             371\n",
      "debitcard_income_12_Bin\n",
      "                         total\n",
      "debitcard_income_12_Bin       \n",
      "Bin 0                     2248\n",
      "Bin 1                     4173\n",
      "Bin 2                     2889\n",
      "Bin 3                     1422\n",
      "                         bad\n",
      "debitcard_income_12_Bin     \n",
      "Bin 0                    355\n",
      "Bin 1                    715\n",
      "Bin 2                    501\n",
      "Bin 3                    251\n",
      "debitcard_outcome_12_avg_Bin\n",
      "                              total\n",
      "debitcard_outcome_12_avg_Bin       \n",
      "Bin 0                          7170\n",
      "Bin 1                          3562\n",
      "                               bad\n",
      "debitcard_outcome_12_avg_Bin      \n",
      "Bin 0                         1199\n",
      "Bin 1                          623\n",
      "power_off_day_avg_3m_Bin\n",
      "                          total\n",
      "power_off_day_avg_3m_Bin       \n",
      "Bin 0                     10425\n",
      "Bin 1                       307\n",
      "                           bad\n",
      "power_off_day_avg_3m_Bin      \n",
      "Bin 0                     1773\n",
      "Bin 1                       49\n",
      "debitcard_max_balance_3_Bin\n",
      "                             total\n",
      "debitcard_max_balance_3_Bin       \n",
      "Bin 0                         5993\n",
      "Bin 1                         4739\n",
      "                              bad\n",
      "debitcard_max_balance_3_Bin      \n",
      "Bin 0                        1060\n",
      "Bin 1                         762\n",
      "daytime_time_1m_Bin\n",
      "                     total\n",
      "daytime_time_1m_Bin       \n",
      "Bin 0                 3960\n",
      "Bin 1                 6772\n",
      "                      bad\n",
      "daytime_time_1m_Bin      \n",
      "Bin 0                 645\n",
      "Bin 1                1177\n",
      "debitcard_withdraw_count_12_avg_Bin\n",
      "                                     total\n",
      "debitcard_withdraw_count_12_avg_Bin       \n",
      "Bin 0                                 8644\n",
      "Bin 1                                 2088\n",
      "                                      bad\n",
      "debitcard_withdraw_count_12_avg_Bin      \n",
      "Bin 0                                1456\n",
      "Bin 1                                 366\n",
      "credit_card_repayment_cnt_Bin\n",
      "                               total\n",
      "credit_card_repayment_cnt_Bin       \n",
      "Bin 0                          10106\n",
      "Bin 1                            617\n",
      "Bin 2                              9\n",
      "                                bad\n",
      "credit_card_repayment_cnt_Bin      \n",
      "Bin 0                          1708\n",
      "Bin 1                           111\n",
      "Bin 2                             3\n",
      "search_cnt_recent_180_days_Bin\n",
      "                                total\n",
      "search_cnt_recent_180_days_Bin       \n",
      "Bin 0                            1777\n",
      "Bin 1                            5468\n",
      "Bin 2                            2078\n",
      "Bin 3                            1409\n",
      "                                bad\n",
      "search_cnt_recent_180_days_Bin     \n",
      "Bin 0                           205\n",
      "Bin 1                           806\n",
      "Bin 2                           453\n",
      "Bin 3                           358\n",
      "calling_num_one_eighty_Bin\n",
      "                            total\n",
      "calling_num_one_eighty_Bin       \n",
      "Bin 0                        3355\n",
      "Bin 1                        7377\n",
      "                             bad\n",
      "calling_num_one_eighty_Bin      \n",
      "Bin 0                        569\n",
      "Bin 1                       1253\n",
      "proportion4_Bin\n",
      "                 total\n",
      "proportion4_Bin       \n",
      "Bin 0              237\n",
      "Bin 1             1940\n",
      "Bin 2             8555\n",
      "                  bad\n",
      "proportion4_Bin      \n",
      "Bin 0              47\n",
      "Bin 1             349\n",
      "Bin 2            1426\n",
      "remote_time_3m_Bin\n",
      "                    total\n",
      "remote_time_3m_Bin       \n",
      "Bin 0                5244\n",
      "Bin 1                5488\n",
      "                    bad\n",
      "remote_time_3m_Bin     \n",
      "Bin 0               904\n",
      "Bin 1               918\n",
      "search_cnt_Bin\n",
      "                total\n",
      "search_cnt_Bin       \n",
      "Bin 0            1110\n",
      "Bin 1            2628\n",
      "Bin 2            3677\n",
      "Bin 3            2014\n",
      "Bin 4            1303\n",
      "                bad\n",
      "search_cnt_Bin     \n",
      "Bin 0           154\n",
      "Bin 1           381\n",
      "Bin 2           609\n",
      "Bin 3           408\n",
      "Bin 4           270\n",
      "no_call_day_ninety_Bin\n",
      "                        total\n",
      "no_call_day_ninety_Bin       \n",
      "Bin 0                    8982\n",
      "Bin 1                    1750\n",
      "                         bad\n",
      "no_call_day_ninety_Bin      \n",
      "Bin 0                   1516\n",
      "Bin 1                    306\n",
      "loan_in_1y_Bin\n",
      "                total\n",
      "loan_in_1y_Bin       \n",
      "Bin 0            9955\n",
      "Bin 1             639\n",
      "Bin 2             138\n",
      "                 bad\n",
      "loan_in_1y_Bin      \n",
      "Bin 0           1702\n",
      "Bin 1            106\n",
      "Bin 2             14\n",
      "scale_no_call_one_eighty_Bin\n",
      "                              total\n",
      "scale_no_call_one_eighty_Bin       \n",
      "Bin 0                          8838\n",
      "Bin 1                          1894\n",
      "                               bad\n",
      "scale_no_call_one_eighty_Bin      \n",
      "Bin 0                         1489\n",
      "Bin 1                          333\n",
      "no_call_day_thirty_Bin\n",
      "                        total\n",
      "no_call_day_thirty_Bin       \n",
      "Bin 0                    8930\n",
      "Bin 1                    1802\n",
      "                         bad\n",
      "no_call_day_thirty_Bin      \n",
      "Bin 0                   1515\n",
      "Bin 1                    307\n",
      "blacklist_indirect_contacts_cnt_Bin\n",
      "                                     total\n",
      "blacklist_indirect_contacts_cnt_Bin       \n",
      "Bin 0                                 3113\n",
      "Bin 1                                 5234\n",
      "Bin 2                                 1178\n",
      "Bin 3                                 1207\n",
      "                                     bad\n",
      "blacklist_indirect_contacts_cnt_Bin     \n",
      "Bin 0                                582\n",
      "Bin 1                                968\n",
      "Bin 2                                142\n",
      "Bin 3                                130\n",
      "sms_fee_1m_Bin\n",
      "                total\n",
      "sms_fee_1m_Bin       \n",
      "Bin 0            9205\n",
      "Bin 1             964\n",
      "Bin 2             563\n",
      "                 bad\n",
      "sms_fee_1m_Bin      \n",
      "Bin 0           1540\n",
      "Bin 1            165\n",
      "Bin 2            117\n",
      "power_off_day_1m_Bin\n",
      "                      total\n",
      "power_off_day_1m_Bin       \n",
      "Bin 0                 10453\n",
      "Bin 1                   279\n",
      "                       bad\n",
      "power_off_day_1m_Bin      \n",
      "Bin 0                 1784\n",
      "Bin 1                   38\n",
      "avg_install_days_Bin\n",
      "                      total\n",
      "avg_install_days_Bin       \n",
      "Bin 0                  8592\n",
      "Bin 1                  2140\n",
      "                       bad\n",
      "avg_install_days_Bin      \n",
      "Bin 0                 1481\n",
      "Bin 1                  341\n",
      "called_match_num_one_eighty_Bin\n",
      "                                 total\n",
      "called_match_num_one_eighty_Bin       \n",
      "Bin 0                             7445\n",
      "Bin 1                             3287\n",
      "                                  bad\n",
      "called_match_num_one_eighty_Bin      \n",
      "Bin 0                            1332\n",
      "Bin 1                             490\n",
      "search_cnt_recent_14_days_Bin\n",
      "                               total\n",
      "search_cnt_recent_14_days_Bin       \n",
      "Bin 0                           3320\n",
      "Bin 1                           5989\n",
      "Bin 2                            885\n",
      "Bin 3                            376\n",
      "Bin 4                            162\n",
      "                               bad\n",
      "search_cnt_recent_14_days_Bin     \n",
      "Bin 0                          438\n",
      "Bin 1                          996\n",
      "Bin 2                          219\n",
      "Bin 3                          118\n",
      "Bin 4                           51\n",
      "called_duration_one_eighty_Bin\n",
      "                                total\n",
      "called_duration_one_eighty_Bin       \n",
      "Bin 0                            5779\n",
      "Bin 1                            4953\n",
      "                                bad\n",
      "called_duration_one_eighty_Bin     \n",
      "Bin 0                           991\n",
      "Bin 1                           831\n",
      "proportion1_Bin\n",
      "                 total\n",
      "proportion1_Bin       \n",
      "Bin 0            10711\n",
      "Bin 1               21\n",
      "                  bad\n",
      "proportion1_Bin      \n",
      "Bin 0            1815\n",
      "Bin 1               7\n",
      "cnt_1min_within_1m_Bin\n",
      "                        total\n",
      "cnt_1min_within_1m_Bin       \n",
      "Bin 0                    6112\n",
      "Bin 1                    4620\n",
      "                         bad\n",
      "cnt_1min_within_1m_Bin      \n",
      "Bin 0                   1048\n",
      "Bin 1                    774\n",
      "vas_fee_3m_Bin\n",
      "                total\n",
      "vas_fee_3m_Bin       \n",
      "Bin 0            7890\n",
      "Bin 1            1335\n",
      "Bin 2            1507\n",
      "                 bad\n",
      "vas_fee_3m_Bin      \n",
      "Bin 0           1363\n",
      "Bin 1            228\n",
      "Bin 2            231\n",
      "net_fee_3m_Bin\n",
      "                total\n",
      "net_fee_3m_Bin       \n",
      "Bin 0            8133\n",
      "Bin 1            1498\n",
      "Bin 2            1101\n",
      "                 bad\n",
      "net_fee_3m_Bin      \n",
      "Bin 0           1347\n",
      "Bin 1            266\n",
      "Bin 2            209\n",
      "debitcard_max_continue_consume_month_12_Bin\n",
      "                                             total\n",
      "debitcard_max_continue_consume_month_12_Bin       \n",
      "Bin 0                                         1419\n",
      "Bin 1                                         3236\n",
      "Bin 2                                         6077\n",
      "                                             bad\n",
      "debitcard_max_continue_consume_month_12_Bin     \n",
      "Bin 0                                        259\n",
      "Bin 1                                        579\n",
      "Bin 2                                        984\n",
      "scale_no_calling_thirty_Bin\n",
      "                             total\n",
      "scale_no_calling_thirty_Bin       \n",
      "Bin 0                         8708\n",
      "Bin 1                         2024\n",
      "                              bad\n",
      "scale_no_calling_thirty_Bin      \n",
      "Bin 0                        1480\n",
      "Bin 1                         342\n",
      "calls_num_thirty_Bin\n",
      "                      total\n",
      "calls_num_thirty_Bin       \n",
      "Bin 0                  8054\n",
      "Bin 1                  2678\n",
      "                       bad\n",
      "calls_num_thirty_Bin      \n",
      "Bin 0                 1313\n",
      "Bin 1                  509\n",
      "valid_size_Bin\n",
      "                total\n",
      "valid_size_Bin       \n",
      "Bin 0            1858\n",
      "Bin 1            3709\n",
      "Bin 2            4282\n",
      "Bin 3             883\n",
      "                bad\n",
      "valid_size_Bin     \n",
      "Bin 0           366\n",
      "Bin 1           681\n",
      "Bin 2           689\n",
      "Bin 3            86\n",
      "called_match_num_thirty_Bin\n",
      "                             total\n",
      "called_match_num_thirty_Bin       \n",
      "Bin 0                         5007\n",
      "Bin 1                         4118\n",
      "Bin 2                         1157\n",
      "Bin 3                          450\n",
      "                             bad\n",
      "called_match_num_thirty_Bin     \n",
      "Bin 0                        895\n",
      "Bin 1                        724\n",
      "Bin 2                        160\n",
      "Bin 3                         43\n",
      "avg_loan_amount_Bin\n",
      "                     total\n",
      "avg_loan_amount_Bin       \n",
      "Bin 0                 2145\n",
      "Bin 1                 1601\n",
      "Bin 2                 6986\n",
      "                      bad\n",
      "avg_loan_amount_Bin      \n",
      "Bin 0                 463\n",
      "Bin 1                 300\n",
      "Bin 2                1059\n",
      "live_month_cnt_1m_Bin\n",
      "                       total\n",
      "live_month_cnt_1m_Bin       \n",
      "Bin 0                   3062\n",
      "Bin 1                   7670\n",
      "                        bad\n",
      "live_month_cnt_1m_Bin      \n",
      "Bin 0                   545\n",
      "Bin 1                  1277\n",
      "calls_num_one_eighty_Bin\n",
      "                          total\n",
      "calls_num_one_eighty_Bin       \n",
      "Bin 0                      4818\n",
      "Bin 1                      2788\n",
      "Bin 2                      3126\n",
      "                          bad\n",
      "calls_num_one_eighty_Bin     \n",
      "Bin 0                     812\n",
      "Bin 1                     473\n",
      "Bin 2                     537\n",
      "call_avg_duration_thirty_Bin\n",
      "                              total\n",
      "call_avg_duration_thirty_Bin       \n",
      "Bin 0                          4900\n",
      "Bin 1                          3709\n",
      "Bin 2                          2123\n",
      "                              bad\n",
      "call_avg_duration_thirty_Bin     \n",
      "Bin 0                         777\n",
      "Bin 1                         649\n",
      "Bin 2                         396\n",
      "real_amt_ninety_Bin\n",
      "                     total\n",
      "real_amt_ninety_Bin       \n",
      "Bin 0                 1500\n",
      "Bin 1                 1390\n",
      "Bin 2                 2675\n",
      "Bin 3                 2354\n",
      "Bin 4                 2813\n",
      "                     bad\n",
      "real_amt_ninety_Bin     \n",
      "Bin 0                273\n",
      "Bin 1                252\n",
      "Bin 2                475\n",
      "Bin 3                399\n",
      "Bin 4                423\n",
      "net_used_3m_Bin\n",
      "                 total\n",
      "net_used_3m_Bin       \n",
      "Bin 0             2248\n",
      "Bin 1             5885\n",
      "Bin 2             2599\n",
      "                  bad\n",
      "net_used_3m_Bin      \n",
      "Bin 0             325\n",
      "Bin 1            1013\n",
      "Bin 2             484\n",
      "org_cnt_recent_60_days_Bin\n",
      "                            total\n",
      "org_cnt_recent_60_days_Bin       \n",
      "Bin 0                        5212\n",
      "Bin 1                        4378\n",
      "Bin 2                         820\n",
      "Bin 3                         211\n",
      "Bin 4                         111\n",
      "                            bad\n",
      "org_cnt_recent_60_days_Bin     \n",
      "Bin 0                       645\n",
      "Bin 1                       848\n",
      "Bin 2                       211\n",
      "Bin 3                        72\n",
      "Bin 4                        46\n",
      "repany_loan_amount_avg_6_Bin\n",
      "                              total\n",
      "repany_loan_amount_avg_6_Bin       \n",
      "Bin 0                          5458\n",
      "Bin 1                          2568\n",
      "Bin 2                          2706\n",
      "                              bad\n",
      "repany_loan_amount_avg_6_Bin     \n",
      "Bin 0                         945\n",
      "Bin 1                         432\n",
      "Bin 2                         445\n",
      "recharge_avg_cnt_3m_Bin\n",
      "                         total\n",
      "recharge_avg_cnt_3m_Bin       \n",
      "Bin 0                     1347\n",
      "Bin 1                     8900\n",
      "Bin 2                      461\n",
      "Bin 3                       24\n",
      "                          bad\n",
      "recharge_avg_cnt_3m_Bin      \n",
      "Bin 0                     179\n",
      "Bin 1                    1544\n",
      "Bin 2                      90\n",
      "Bin 3                       9\n",
      "blacklist_contacts_cnt_Bin\n",
      "                            total\n",
      "blacklist_contacts_cnt_Bin       \n",
      "Bin 0                       10721\n",
      "Bin 1                          11\n",
      "                             bad\n",
      "blacklist_contacts_cnt_Bin      \n",
      "Bin 0                       1821\n",
      "Bin 1                          1\n",
      "calls_count_one_eighty_Bin\n",
      "                            total\n",
      "calls_count_one_eighty_Bin       \n",
      "Bin 0                        3962\n",
      "Bin 1                        6770\n",
      "                             bad\n",
      "calls_count_one_eighty_Bin      \n",
      "Bin 0                        680\n",
      "Bin 1                       1142\n",
      "scale_no_call_ninety_Bin\n",
      "                          total\n",
      "scale_no_call_ninety_Bin       \n",
      "Bin 0                      8982\n",
      "Bin 1                      1750\n",
      "                           bad\n",
      "scale_no_call_ninety_Bin      \n",
      "Bin 0                     1516\n",
      "Bin 1                      306\n",
      "org_cnt_14_recent_Bin\n",
      "                       total\n",
      "org_cnt_14_recent_Bin       \n",
      "Bin 0                   1874\n",
      "Bin 1                   7990\n",
      "Bin 2                    868\n",
      "                        bad\n",
      "org_cnt_14_recent_Bin      \n",
      "Bin 0                   310\n",
      "Bin 1                  1340\n",
      "Bin 2                   172\n",
      "repany_loan_mon_num_3_Bin\n",
      "                           total\n",
      "repany_loan_mon_num_3_Bin       \n",
      "Bin 0                       7557\n",
      "Bin 1                       3175\n",
      "                            bad\n",
      "repany_loan_mon_num_3_Bin      \n",
      "Bin 0                      1313\n",
      "Bin 1                       509\n",
      "called_num_ninety_Bin\n",
      "                       total\n",
      "called_num_ninety_Bin       \n",
      "Bin 0                   6553\n",
      "Bin 1                   3722\n",
      "Bin 2                    457\n",
      "                        bad\n",
      "called_num_ninety_Bin      \n",
      "Bin 0                  1090\n",
      "Bin 1                   621\n",
      "Bin 2                   111\n",
      "debitcard_max_balance_6_Bin\n",
      "                             total\n",
      "debitcard_max_balance_6_Bin       \n",
      "Bin 0                         3318\n",
      "Bin 1                         2782\n",
      "Bin 2                         4632\n",
      "                             bad\n",
      "debitcard_max_balance_6_Bin     \n",
      "Bin 0                        572\n",
      "Bin 1                        475\n",
      "Bin 2                        775\n",
      "offline_installment_cnt_Bin\n",
      "                             total\n",
      "offline_installment_cnt_Bin       \n",
      "Bin 0                         8001\n",
      "Bin 1                         2731\n",
      "                              bad\n",
      "offline_installment_cnt_Bin      \n",
      "Bin 0                        1240\n",
      "Bin 1                         582\n",
      "agency_time_3m_Bin\n",
      "                    total\n",
      "agency_time_3m_Bin       \n",
      "Bin 0                6574\n",
      "Bin 1                2017\n",
      "Bin 2                2141\n",
      "                     bad\n",
      "agency_time_3m_Bin      \n",
      "Bin 0               1070\n",
      "Bin 1                364\n",
      "Bin 2                388\n",
      "called_avg_duration_ninety_Bin\n",
      "                                total\n",
      "called_avg_duration_ninety_Bin       \n",
      "Bin 0                            1108\n",
      "Bin 1                            6716\n",
      "Bin 2                            2908\n",
      "                                 bad\n",
      "called_avg_duration_ninety_Bin      \n",
      "Bin 0                            141\n",
      "Bin 1                           1124\n",
      "Bin 2                            557\n",
      "peer_loc_cnt_3m_Bin\n",
      "                     total\n",
      "peer_loc_cnt_3m_Bin       \n",
      "Bin 0                 5384\n",
      "Bin 1                 3784\n",
      "Bin 2                 1014\n",
      "Bin 3                  412\n",
      "Bin 4                  138\n",
      "                     bad\n",
      "peer_loc_cnt_3m_Bin     \n",
      "Bin 0                784\n",
      "Bin 1                651\n",
      "Bin 2                230\n",
      "Bin 3                110\n",
      "Bin 4                 47\n",
      "calling_num_ninety_Bin\n",
      "                        total\n",
      "calling_num_ninety_Bin       \n",
      "Bin 0                    6376\n",
      "Bin 1                    4356\n",
      "                         bad\n",
      "calling_num_ninety_Bin      \n",
      "Bin 0                   1095\n",
      "Bin 1                    727\n",
      "continue_recharge_month_cnt_Bin\n",
      "                                 total\n",
      "continue_recharge_month_cnt_Bin       \n",
      "Bin 0                              798\n",
      "Bin 1                             1327\n",
      "Bin 2                             2722\n",
      "Bin 3                             5885\n",
      "                                  bad\n",
      "continue_recharge_month_cnt_Bin      \n",
      "Bin 0                             113\n",
      "Bin 1                             202\n",
      "Bin 2                             458\n",
      "Bin 3                            1049\n",
      "loan_success_ratio_Bin\n",
      "                        total\n",
      "loan_success_ratio_Bin       \n",
      "Bin 0                    6321\n",
      "Bin 1                    4411\n",
      "                         bad\n",
      "loan_success_ratio_Bin      \n",
      "Bin 0                   1081\n",
      "Bin 1                    741\n",
      "loan_time_1m_Bin\n",
      "                  total\n",
      "loan_time_1m_Bin       \n",
      "Bin 0              7279\n",
      "Bin 1              1710\n",
      "Bin 2              1391\n",
      "Bin 3               352\n",
      "                   bad\n",
      "loan_time_1m_Bin      \n",
      "Bin 0             1118\n",
      "Bin 1              333\n",
      "Bin 2              281\n",
      "Bin 3               90\n",
      "no_calling_day_thirty_Bin\n",
      "                           total\n",
      "no_calling_day_thirty_Bin       \n",
      "Bin 0                       8708\n",
      "Bin 1                       2024\n",
      "                            bad\n",
      "no_calling_day_thirty_Bin      \n",
      "Bin 0                      1480\n",
      "Bin 1                       342\n",
      "code_size_Bin\n",
      "               total\n",
      "code_size_Bin       \n",
      "Bin 0           2226\n",
      "Bin 1           5664\n",
      "Bin 2           2558\n",
      "Bin 3            284\n",
      "               bad\n",
      "code_size_Bin     \n",
      "Bin 0          410\n",
      "Bin 1          984\n",
      "Bin 2          401\n",
      "Bin 3           27\n",
      "agency_time_1m_Bin\n",
      "                    total\n",
      "agency_time_1m_Bin       \n",
      "Bin 0                8375\n",
      "Bin 1                 734\n",
      "Bin 2                 954\n",
      "Bin 3                 669\n",
      "                     bad\n",
      "agency_time_1m_Bin      \n",
      "Bin 0               1391\n",
      "Bin 1                126\n",
      "Bin 2                176\n",
      "Bin 3                129\n",
      "loan_24m_Bin\n",
      "              total\n",
      "loan_24m_Bin       \n",
      "Bin 0          5779\n",
      "Bin 1          4953\n",
      "              bad\n",
      "loan_24m_Bin     \n",
      "Bin 0         990\n",
      "Bin 1         832\n",
      "calls_count_thirty_Bin\n",
      "                        total\n",
      "calls_count_thirty_Bin       \n",
      "Bin 0                    7921\n",
      "Bin 1                    2811\n",
      "                         bad\n",
      "calls_count_thirty_Bin      \n",
      "Bin 0                   1360\n",
      "Bin 1                    462\n",
      "calling_match_num_one_eighty_Bin\n",
      "                                  total\n",
      "calling_match_num_one_eighty_Bin       \n",
      "Bin 0                              6669\n",
      "Bin 1                              1373\n",
      "Bin 2                              2690\n",
      "                                   bad\n",
      "calling_match_num_one_eighty_Bin      \n",
      "Bin 0                             1177\n",
      "Bin 1                              234\n",
      "Bin 2                              411\n",
      "credit_card_time_3m_Bin\n",
      "                         total\n",
      "credit_card_time_3m_Bin       \n",
      "Bin 0                     2386\n",
      "Bin 1                     3401\n",
      "Bin 2                     3096\n",
      "Bin 3                     1604\n",
      "Bin 4                      245\n",
      "                         bad\n",
      "credit_card_time_3m_Bin     \n",
      "Bin 0                    304\n",
      "Bin 1                    567\n",
      "Bin 2                    551\n",
      "Bin 3                    326\n",
      "Bin 4                     74\n",
      "power_off_day_pct_1m_Bin\n",
      "                          total\n",
      "power_off_day_pct_1m_Bin       \n",
      "Bin 0                     10453\n",
      "Bin 1                       279\n",
      "                           bad\n",
      "power_off_day_pct_1m_Bin      \n",
      "Bin 0                     1784\n",
      "Bin 1                       38\n",
      "debitcard_max_continue_consume_month_3_Bin\n",
      "                                            total\n",
      "debitcard_max_continue_consume_month_3_Bin       \n",
      "Bin 0                                        3200\n",
      "Bin 1                                        7532\n",
      "                                             bad\n",
      "debitcard_max_continue_consume_month_3_Bin      \n",
      "Bin 0                                        579\n",
      "Bin 1                                       1243\n",
      "call_avg_duration_one_eighty_Bin\n",
      "                                  total\n",
      "call_avg_duration_one_eighty_Bin       \n",
      "Bin 0                              2582\n",
      "Bin 1                              4565\n",
      "Bin 2                              1753\n",
      "Bin 3                              1832\n",
      "                                  bad\n",
      "call_avg_duration_one_eighty_Bin     \n",
      "Bin 0                             388\n",
      "Bin 1                             775\n",
      "Bin 2                             319\n",
      "Bin 3                             340\n",
      "sms_day_3m_Bin\n",
      "                total\n",
      "sms_day_3m_Bin       \n",
      "Bin 0            6372\n",
      "Bin 1            4360\n",
      "                 bad\n",
      "sms_day_3m_Bin      \n",
      "Bin 0           1078\n",
      "Bin 1            744\n",
      "debitcard_outcome_12_Bin\n",
      "                          total\n",
      "debitcard_outcome_12_Bin       \n",
      "Bin 0                      5244\n",
      "Bin 1                      2568\n",
      "Bin 2                      2140\n",
      "Bin 3                       780\n",
      "                          bad\n",
      "debitcard_outcome_12_Bin     \n",
      "Bin 0                     864\n",
      "Bin 1                     431\n",
      "Bin 2                     380\n",
      "Bin 3                     147\n",
      "other_fee_avg_12_Bin\n",
      "                      total\n",
      "other_fee_avg_12_Bin       \n",
      "Bin 0                  6916\n",
      "Bin 1                  3816\n",
      "                       bad\n",
      "other_fee_avg_12_Bin      \n",
      "Bin 0                 1165\n",
      "Bin 1                  657\n",
      "max_single_recharge_3m_Bin\n",
      "                            total\n",
      "max_single_recharge_3m_Bin       \n",
      "Bin 0                        2783\n",
      "Bin 1                        7949\n",
      "                             bad\n",
      "max_single_recharge_3m_Bin      \n",
      "Bin 0                        515\n",
      "Bin 1                       1307\n",
      "remote_cnt_1m_Bin\n",
      "                   total\n",
      "remote_cnt_1m_Bin       \n",
      "Bin 0               6764\n",
      "Bin 1               3968\n",
      "                    bad\n",
      "remote_cnt_1m_Bin      \n",
      "Bin 0              1144\n",
      "Bin 1               678\n",
      "other_fee_12_Bin\n",
      "                  total\n",
      "other_fee_12_Bin       \n",
      "Bin 0              6915\n",
      "Bin 1              3817\n",
      "                   bad\n",
      "other_fee_12_Bin      \n",
      "Bin 0             1165\n",
      "Bin 1              657\n",
      "no_calling_day_ninety_Bin\n",
      "                           total\n",
      "no_calling_day_ninety_Bin       \n",
      "Bin 0                       9037\n",
      "Bin 1                       1695\n",
      "                            bad\n",
      "no_calling_day_ninety_Bin      \n",
      "Bin 0                      1541\n",
      "Bin 1                       281\n",
      "loan_cnt_3m_Bin\n",
      "                 total\n",
      "loan_cnt_3m_Bin       \n",
      "Bin 0             3051\n",
      "Bin 1             6567\n",
      "Bin 2             1065\n",
      "Bin 3               49\n",
      "                  bad\n",
      "loan_cnt_3m_Bin      \n",
      "Bin 0             406\n",
      "Bin 1            1151\n",
      "Bin 2             253\n",
      "Bin 3              12\n",
      "cnt_1min_within_3m_Bin\n",
      "                        total\n",
      "cnt_1min_within_3m_Bin       \n",
      "Bin 0                    3860\n",
      "Bin 1                    6872\n",
      "                         bad\n",
      "cnt_1min_within_3m_Bin      \n",
      "Bin 0                    654\n",
      "Bin 1                   1168\n",
      "fake_size_Bin\n",
      "               total\n",
      "fake_size_Bin       \n",
      "Bin 0          10478\n",
      "Bin 1            254\n",
      "                bad\n",
      "fake_size_Bin      \n",
      "Bin 0          1786\n",
      "Bin 1            36\n",
      "min_single_time_3m_Bin\n",
      "                        total\n",
      "min_single_time_3m_Bin       \n",
      "Bin 0                    9378\n",
      "Bin 1                    1354\n",
      "                         bad\n",
      "min_single_time_3m_Bin      \n",
      "Bin 0                   1591\n",
      "Bin 1                    231\n",
      "calling_count_thirty_Bin\n",
      "                          total\n",
      "calling_count_thirty_Bin       \n",
      "Bin 0                      7185\n",
      "Bin 1                      3547\n",
      "                           bad\n",
      "calling_count_thirty_Bin      \n",
      "Bin 0                     1256\n",
      "Bin 1                      566\n",
      "scale_no_calling_ninety_Bin\n",
      "                             total\n",
      "scale_no_calling_ninety_Bin       \n",
      "Bin 0                         9037\n",
      "Bin 1                         1695\n",
      "                              bad\n",
      "scale_no_calling_ninety_Bin      \n",
      "Bin 0                        1541\n",
      "Bin 1                         281\n",
      "call_avg_duration_ninety_Bin\n",
      "                              total\n",
      "call_avg_duration_ninety_Bin       \n",
      "Bin 0                           807\n",
      "Bin 1                          4363\n",
      "Bin 2                          2673\n",
      "Bin 3                          2889\n",
      "                              bad\n",
      "call_avg_duration_ninety_Bin     \n",
      "Bin 0                         112\n",
      "Bin 1                         692\n",
      "Bin 2                         468\n",
      "Bin 3                         550\n",
      "calling_avg_duration_ninety_Bin\n",
      "                                 total\n",
      "calling_avg_duration_ninety_Bin       \n",
      "Bin 0                             2547\n",
      "Bin 1                             6127\n",
      "Bin 2                              775\n",
      "Bin 3                             1283\n",
      "                                  bad\n",
      "calling_avg_duration_ninety_Bin      \n",
      "Bin 0                             416\n",
      "Bin 1                            1021\n",
      "Bin 2                             138\n",
      "Bin 3                             247\n",
      "linkman_count_Bin\n",
      "                   total\n",
      "linkman_count_Bin       \n",
      "Bin 0               1857\n",
      "Bin 1               3940\n",
      "Bin 2               4052\n",
      "Bin 3                883\n",
      "                   bad\n",
      "linkman_count_Bin     \n",
      "Bin 0              366\n",
      "Bin 1              710\n",
      "Bin 2              660\n",
      "Bin 3               86\n",
      "org_cnt_recent_30_days_Bin\n",
      "                            total\n",
      "org_cnt_recent_30_days_Bin       \n",
      "Bin 0                        3646\n",
      "Bin 1                        6493\n",
      "Bin 2                         201\n",
      "Bin 3                         255\n",
      "Bin 4                         137\n",
      "                             bad\n",
      "org_cnt_recent_30_days_Bin      \n",
      "Bin 0                        456\n",
      "Bin 1                       1161\n",
      "Bin 2                         64\n",
      "Bin 3                         84\n",
      "Bin 4                         57\n",
      "debitcard_withdraw_amount_12_Bin\n",
      "                                  total\n",
      "debitcard_withdraw_amount_12_Bin       \n",
      "Bin 0                              7491\n",
      "Bin 1                              1713\n",
      "Bin 2                              1528\n",
      "                                   bad\n",
      "debitcard_withdraw_amount_12_Bin      \n",
      "Bin 0                             1280\n",
      "Bin 1                              287\n",
      "Bin 2                              255\n",
      "sms_cnt_3m_Bin\n",
      "                total\n",
      "sms_cnt_3m_Bin       \n",
      "Bin 0            5894\n",
      "Bin 1            4838\n",
      "                bad\n",
      "sms_cnt_3m_Bin     \n",
      "Bin 0           980\n",
      "Bin 1           842\n",
      "other_fee_avg_6_Bin\n",
      "                     total\n",
      "other_fee_avg_6_Bin       \n",
      "Bin 0                 8281\n",
      "Bin 1                 2451\n",
      "                      bad\n",
      "other_fee_avg_6_Bin      \n",
      "Bin 0                1406\n",
      "Bin 1                 416\n",
      "good_friend_num_3m_Bin\n",
      "                        total\n",
      "good_friend_num_3m_Bin       \n",
      "Bin 0                   10253\n",
      "Bin 1                     479\n",
      "                         bad\n",
      "good_friend_num_3m_Bin      \n",
      "Bin 0                   1768\n",
      "Bin 1                     54\n",
      "calling_match_num_thirty_Bin\n",
      "                              total\n",
      "calling_match_num_thirty_Bin       \n",
      "Bin 0                          6514\n",
      "Bin 1                          1930\n",
      "Bin 2                          1939\n",
      "Bin 3                           349\n",
      "                               bad\n",
      "calling_match_num_thirty_Bin      \n",
      "Bin 0                         1154\n",
      "Bin 1                          334\n",
      "Bin 2                          301\n",
      "Bin 3                           33\n",
      "zm_score_Bin\n",
      "              total\n",
      "zm_score_Bin       \n",
      "Bin 0           325\n",
      "Bin 1           854\n",
      "Bin 2          4250\n",
      "Bin 3          3301\n",
      "Bin 4          2002\n",
      "              bad\n",
      "zm_score_Bin     \n",
      "Bin 0          85\n",
      "Bin 1         204\n",
      "Bin 2         782\n",
      "Bin 3         503\n",
      "Bin 4         248\n",
      "debitcard_income_6_avg_Bin\n",
      "                            total\n",
      "debitcard_income_6_avg_Bin       \n",
      "Bin 0                        5993\n",
      "Bin 1                        4739\n",
      "                            bad\n",
      "debitcard_income_6_avg_Bin     \n",
      "Bin 0                       976\n",
      "Bin 1                       846\n",
      "loan_12m_Bin\n",
      "              total\n",
      "loan_12m_Bin       \n",
      "Bin 0          3202\n",
      "Bin 1          5079\n",
      "Bin 2          2283\n",
      "Bin 3           165\n",
      "Bin 4             3\n",
      "              bad\n",
      "loan_12m_Bin     \n",
      "Bin 0         507\n",
      "Bin 1         855\n",
      "Bin 2         423\n",
      "Bin 3          35\n",
      "Bin 4           2\n",
      "apply_1m_Bin\n",
      "              total\n",
      "apply_1m_Bin       \n",
      "Bin 0          5741\n",
      "Bin 1          4182\n",
      "Bin 2           413\n",
      "Bin 3           319\n",
      "Bin 4            77\n",
      "              bad\n",
      "apply_1m_Bin     \n",
      "Bin 0         613\n",
      "Bin 1         872\n",
      "Bin 2         146\n",
      "Bin 3         139\n",
      "Bin 4          52\n",
      "nearest_loan_Bin\n",
      "                  total\n",
      "nearest_loan_Bin       \n",
      "Bin 0              2328\n",
      "Bin 1              3868\n",
      "Bin 2              4536\n",
      "                  bad\n",
      "nearest_loan_Bin     \n",
      "Bin 0             547\n",
      "Bin 1             600\n",
      "Bin 2             675\n",
      "salary_income_month_num_3_Bin\n",
      "                               total\n",
      "salary_income_month_num_3_Bin       \n",
      "Bin 0                           7251\n",
      "Bin 1                           1262\n",
      "Bin 2                           2219\n",
      "                                bad\n",
      "salary_income_month_num_3_Bin      \n",
      "Bin 0                          1326\n",
      "Bin 1                           230\n",
      "Bin 2                           266\n",
      "debitcard_withdraw_amount_6_Bin\n",
      "                                 total\n",
      "debitcard_withdraw_amount_6_Bin       \n",
      "Bin 0                             6427\n",
      "Bin 1                             4305\n",
      "                                  bad\n",
      "debitcard_withdraw_amount_6_Bin      \n",
      "Bin 0                            1084\n",
      "Bin 1                             738\n",
      "daytime_cnt_1m_Bin\n",
      "                    total\n",
      "daytime_cnt_1m_Bin       \n",
      "Bin 0                4506\n",
      "Bin 1                6226\n",
      "                     bad\n",
      "daytime_cnt_1m_Bin      \n",
      "Bin 0                751\n",
      "Bin 1               1071\n",
      "final_score_Bin\n",
      "                 total\n",
      "final_score_Bin       \n",
      "Bin 0             1307\n",
      "Bin 1             6480\n",
      "Bin 2             1867\n",
      "Bin 3              842\n",
      "Bin 4              236\n",
      "                 bad\n",
      "final_score_Bin     \n",
      "Bin 0             82\n",
      "Bin 1            877\n",
      "Bin 2            490\n",
      "Bin 3            272\n",
      "Bin 4            101\n",
      "nearest_unpass_org_Bin\n",
      "                        total\n",
      "nearest_unpass_org_Bin       \n",
      "Bin 0                    6149\n",
      "Bin 1                    4583\n",
      "                        bad\n",
      "nearest_unpass_org_Bin     \n",
      "Bin 0                   985\n",
      "Bin 1                   837\n",
      "real_amt_thirty_Bin\n",
      "                     total\n",
      "real_amt_thirty_Bin       \n",
      "Bin 0                 7170\n",
      "Bin 1                 3562\n",
      "                      bad\n",
      "real_amt_thirty_Bin      \n",
      "Bin 0                1284\n",
      "Bin 1                 538\n",
      "other_fee_6_Bin\n",
      "                 total\n",
      "other_fee_6_Bin       \n",
      "Bin 0             5920\n",
      "Bin 1             4812\n",
      "                 bad\n",
      "other_fee_6_Bin     \n",
      "Bin 0            980\n",
      "Bin 1            842\n",
      "contacts_cnt_Bin\n",
      "                  total\n",
      "contacts_cnt_Bin       \n",
      "Bin 0              4424\n",
      "Bin 1              6308\n",
      "                   bad\n",
      "contacts_cnt_Bin      \n",
      "Bin 0              775\n",
      "Bin 1             1047\n",
      "loan_in_amount_12_Bin\n",
      "                       total\n",
      "loan_in_amount_12_Bin       \n",
      "Bin 0                   9955\n",
      "Bin 1                    639\n",
      "Bin 2                    138\n",
      "                        bad\n",
      "loan_in_amount_12_Bin      \n",
      "Bin 0                  1702\n",
      "Bin 1                   106\n",
      "Bin 2                    14\n",
      "daytime_cnt_3m_Bin\n",
      "                    total\n",
      "daytime_cnt_3m_Bin       \n",
      "Bin 0                5999\n",
      "Bin 1                2349\n",
      "Bin 2                2384\n",
      "                     bad\n",
      "daytime_cnt_3m_Bin      \n",
      "Bin 0               1059\n",
      "Bin 1                400\n",
      "Bin 2                363\n",
      "duration_div_one_eighty_Bin\n",
      "                             total\n",
      "duration_div_one_eighty_Bin       \n",
      "Bin 0                         3373\n",
      "Bin 1                         7359\n",
      "                              bad\n",
      "duration_div_one_eighty_Bin      \n",
      "Bin 0                         617\n",
      "Bin 1                        1205\n",
      "debitcard_withdraw_amount_3_Bin\n",
      "                                 total\n",
      "debitcard_withdraw_amount_3_Bin       \n",
      "Bin 0                             7606\n",
      "Bin 1                             1704\n",
      "Bin 2                             1422\n",
      "                                  bad\n",
      "debitcard_withdraw_amount_3_Bin      \n",
      "Bin 0                            1320\n",
      "Bin 1                             283\n",
      "Bin 2                             219\n",
      "debitcard_recently_balance_12_Bin\n",
      "                                   total\n",
      "debitcard_recently_balance_12_Bin       \n",
      "Bin 0                               1287\n",
      "Bin 1                               2780\n",
      "Bin 2                               2996\n",
      "Bin 3                               1819\n",
      "Bin 4                               1850\n",
      "                                   bad\n",
      "debitcard_recently_balance_12_Bin     \n",
      "Bin 0                              287\n",
      "Bin 1                              525\n",
      "Bin 2                              485\n",
      "Bin 3                              280\n",
      "Bin 4                              245\n",
      "loan_ratio_Bin\n",
      "                total\n",
      "loan_ratio_Bin       \n",
      "Bin 0            2257\n",
      "Bin 1            3273\n",
      "Bin 2            5202\n",
      "                 bad\n",
      "loan_ratio_Bin      \n",
      "Bin 0            240\n",
      "Bin 1            509\n",
      "Bin 2           1073\n",
      "debitcard_cash_withdrawal_amount_1m_Bin\n",
      "                                         total\n",
      "debitcard_cash_withdrawal_amount_1m_Bin       \n",
      "Bin 0                                     9316\n",
      "Bin 1                                     1416\n",
      "                                          bad\n",
      "debitcard_cash_withdrawal_amount_1m_Bin      \n",
      "Bin 0                                    1610\n",
      "Bin 1                                     212\n",
      "calling_avg_duration_one_eighty_Bin\n",
      "                                     total\n",
      "calling_avg_duration_one_eighty_Bin       \n",
      "Bin 0                                 2794\n",
      "Bin 1                                 4432\n",
      "Bin 2                                 3506\n",
      "                                     bad\n",
      "calling_avg_duration_one_eighty_Bin     \n",
      "Bin 0                                444\n",
      "Bin 1                                730\n",
      "Bin 2                                648\n",
      "search_cnt_recent_60_days_Bin\n",
      "                               total\n",
      "search_cnt_recent_60_days_Bin       \n",
      "Bin 0                           1774\n",
      "Bin 1                           6994\n",
      "Bin 2                            876\n",
      "Bin 3                            739\n",
      "Bin 4                            349\n",
      "                                bad\n",
      "search_cnt_recent_60_days_Bin      \n",
      "Bin 0                           220\n",
      "Bin 1                          1130\n",
      "Bin 2                           202\n",
      "Bin 3                           179\n",
      "Bin 4                            91\n",
      "call_duration_one_eighty_Bin\n",
      "                              total\n",
      "call_duration_one_eighty_Bin       \n",
      "Bin 0                          7491\n",
      "Bin 1                          3241\n",
      "                               bad\n",
      "call_duration_one_eighty_Bin      \n",
      "Bin 0                         1298\n",
      "Bin 1                          524\n",
      "size1_Bin\n",
      "           total\n",
      "size1_Bin       \n",
      "Bin 0       3026\n",
      "Bin 1       6498\n",
      "Bin 2       1208\n",
      "            bad\n",
      "size1_Bin      \n",
      "Bin 0       611\n",
      "Bin 1      1070\n",
      "Bin 2       141\n",
      "calling_duration_thirty_Bin\n",
      "                             total\n",
      "calling_duration_thirty_Bin       \n",
      "Bin 0                         5353\n",
      "Bin 1                         5379\n",
      "                             bad\n",
      "calling_duration_thirty_Bin     \n",
      "Bin 0                        910\n",
      "Bin 1                        912\n",
      "debitcard_consume_amount_12_Bin\n",
      "                                 total\n",
      "debitcard_consume_amount_12_Bin       \n",
      "Bin 0                             5779\n",
      "Bin 1                             2889\n",
      "Bin 2                             2064\n",
      "                                 bad\n",
      "debitcard_consume_amount_12_Bin     \n",
      "Bin 0                            943\n",
      "Bin 1                            479\n",
      "Bin 2                            400\n",
      "max_single_time_1m_Bin\n",
      "                        total\n",
      "max_single_time_1m_Bin       \n",
      "Bin 0                    2898\n",
      "Bin 1                    5236\n",
      "Bin 2                    2598\n",
      "                        bad\n",
      "max_single_time_1m_Bin     \n",
      "Bin 0                   438\n",
      "Bin 1                   918\n",
      "Bin 2                   466\n",
      "calling_match_num_ninety_Bin\n",
      "                              total\n",
      "calling_match_num_ninety_Bin       \n",
      "Bin 0                          6712\n",
      "Bin 1                          1008\n",
      "Bin 2                          3012\n",
      "                               bad\n",
      "calling_match_num_ninety_Bin      \n",
      "Bin 0                         1176\n",
      "Bin 1                          171\n",
      "Bin 2                          475\n",
      "extend_phone_age_Bin\n",
      "                      total\n",
      "extend_phone_age_Bin       \n",
      "Bin 0                  2034\n",
      "Bin 1                  1714\n",
      "Bin 2                  3103\n",
      "Bin 3                  2675\n",
      "Bin 4                  1206\n",
      "                      bad\n",
      "extend_phone_age_Bin     \n",
      "Bin 0                 408\n",
      "Bin 1                 333\n",
      "Bin 2                 536\n",
      "Bin 3                 407\n",
      "Bin 4                 138\n",
      "salary_income_amount_12m_Bin\n",
      "                              total\n",
      "salary_income_amount_12m_Bin       \n",
      "Bin 0                          6069\n",
      "Bin 1                          2171\n",
      "Bin 2                           963\n",
      "Bin 3                          1177\n",
      "Bin 4                           352\n",
      "                               bad\n",
      "salary_income_amount_12m_Bin      \n",
      "Bin 0                         1122\n",
      "Bin 1                          383\n",
      "Bin 2                          143\n",
      "Bin 3                          142\n",
      "Bin 4                           32\n",
      "offline_cash_loan_cnt_Bin\n",
      "                           total\n",
      "offline_cash_loan_cnt_Bin       \n",
      "Bin 0                       3491\n",
      "Bin 1                       7241\n",
      "                            bad\n",
      "offline_cash_loan_cnt_Bin      \n",
      "Bin 0                       520\n",
      "Bin 1                      1302\n",
      "credit_card_time_1m_Bin\n",
      "                         total\n",
      "credit_card_time_1m_Bin       \n",
      "Bin 0                     7170\n",
      "Bin 1                     3103\n",
      "Bin 2                      459\n",
      "                          bad\n",
      "credit_card_time_1m_Bin      \n",
      "Bin 0                    1104\n",
      "Bin 1                     600\n",
      "Bin 2                     118\n",
      "scale_no_call_thirty_Bin\n",
      "                          total\n",
      "scale_no_call_thirty_Bin       \n",
      "Bin 0                      8930\n",
      "Bin 1                      1802\n",
      "                           bad\n",
      "scale_no_call_thirty_Bin      \n",
      "Bin 0                     1515\n",
      "Bin 1                      307\n",
      "called_duration_thirty_Bin\n",
      "                            total\n",
      "called_duration_thirty_Bin       \n",
      "Bin 0                        2997\n",
      "Bin 1                        4922\n",
      "Bin 2                        2813\n",
      "                            bad\n",
      "called_duration_thirty_Bin     \n",
      "Bin 0                       468\n",
      "Bin 1                       860\n",
      "Bin 2                       494\n",
      "debitcard_withdraw_count_3_Bin\n",
      "                                total\n",
      "debitcard_withdraw_count_3_Bin       \n",
      "Bin 0                           10724\n",
      "Bin 1                               8\n",
      "                                 bad\n",
      "debitcard_withdraw_count_3_Bin      \n",
      "Bin 0                           1817\n",
      "Bin 1                              5\n",
      "power_off_day_3m_Bin\n",
      "                      total\n",
      "power_off_day_3m_Bin       \n",
      "Bin 0                 10425\n",
      "Bin 1                   307\n",
      "                       bad\n",
      "power_off_day_3m_Bin      \n",
      "Bin 0                 1773\n",
      "Bin 1                   49\n",
      "called_count_ninety_Bin\n",
      "                         total\n",
      "called_count_ninety_Bin       \n",
      "Bin 0                     3861\n",
      "Bin 1                     6871\n",
      "                          bad\n",
      "called_count_ninety_Bin      \n",
      "Bin 0                     654\n",
      "Bin 1                    1168\n",
      "debitcard_other_consumption_num_12m_Bin\n",
      "                                         total\n",
      "debitcard_other_consumption_num_12m_Bin       \n",
      "Bin 0                                    10704\n",
      "Bin 1                                       22\n",
      "Bin 2                                        6\n",
      "                                          bad\n",
      "debitcard_other_consumption_num_12m_Bin      \n",
      "Bin 0                                    1815\n",
      "Bin 1                                       5\n",
      "Bin 2                                       2\n",
      "loan_cnt_1m_Bin\n",
      "                 total\n",
      "loan_cnt_1m_Bin       \n",
      "Bin 0             5913\n",
      "Bin 1             4444\n",
      "Bin 2              350\n",
      "Bin 3               25\n",
      "                 bad\n",
      "loan_cnt_1m_Bin     \n",
      "Bin 0            909\n",
      "Bin 1            814\n",
      "Bin 2             90\n",
      "Bin 3              9\n",
      "debitcard_consume_count_6_Bin\n",
      "                               total\n",
      "debitcard_consume_count_6_Bin       \n",
      "Bin 0                           5033\n",
      "Bin 1                           4705\n",
      "Bin 2                            856\n",
      "Bin 3                            138\n",
      "                               bad\n",
      "debitcard_consume_count_6_Bin     \n",
      "Bin 0                          813\n",
      "Bin 1                          803\n",
      "Bin 2                          166\n",
      "Bin 3                           40\n",
      "sms_fee_3m_Bin\n",
      "                total\n",
      "sms_fee_3m_Bin       \n",
      "Bin 0            8074\n",
      "Bin 1            1676\n",
      "Bin 2             982\n",
      "                 bad\n",
      "sms_fee_3m_Bin      \n",
      "Bin 0           1315\n",
      "Bin 1            306\n",
      "Bin 2            201\n",
      "org_cnt_recent_7_days_Bin\n",
      "                           total\n",
      "org_cnt_recent_7_days_Bin       \n",
      "Bin 0                       9776\n",
      "Bin 1                        800\n",
      "Bin 2                        156\n",
      "                            bad\n",
      "org_cnt_recent_7_days_Bin      \n",
      "Bin 0                      1542\n",
      "Bin 1                       221\n",
      "Bin 2                        59\n",
      "available_balance_Bin\n",
      "                       total\n",
      "available_balance_Bin       \n",
      "Bin 0                   1927\n",
      "Bin 1                   3959\n",
      "Bin 2                   4846\n",
      "                       bad\n",
      "available_balance_Bin     \n",
      "Bin 0                  301\n",
      "Bin 1                  735\n",
      "Bin 2                  786\n",
      "debitcard_shopping_amount_1m_Bin\n",
      "                                  total\n",
      "debitcard_shopping_amount_1m_Bin       \n",
      "Bin 0                              8882\n",
      "Bin 1                              1850\n",
      "                                   bad\n",
      "debitcard_shopping_amount_1m_Bin      \n",
      "Bin 0                             1462\n",
      "Bin 1                              360\n",
      "debitcard_consume_count_12m_Bin\n",
      "                                 total\n",
      "debitcard_consume_count_12m_Bin       \n",
      "Bin 0                             4390\n",
      "Bin 1                             2033\n",
      "Bin 2                             4309\n",
      "                                 bad\n",
      "debitcard_consume_count_12m_Bin     \n",
      "Bin 0                            725\n",
      "Bin 1                            347\n",
      "Bin 2                            750\n",
      "debitcard_consume_amount_6_Bin\n",
      "                                total\n",
      "debitcard_consume_amount_6_Bin       \n",
      "Bin 0                            3960\n",
      "Bin 1                            6772\n",
      "                                 bad\n",
      "debitcard_consume_amount_6_Bin      \n",
      "Bin 0                            657\n",
      "Bin 1                           1165\n",
      "total_fee_avg_3m_Bin\n",
      "                      total\n",
      "total_fee_avg_3m_Bin       \n",
      "Bin 0                  1500\n",
      "Bin 1                  1390\n",
      "Bin 2                  2675\n",
      "Bin 3                  2354\n",
      "Bin 4                  2813\n",
      "                      bad\n",
      "total_fee_avg_3m_Bin     \n",
      "Bin 0                 273\n",
      "Bin 1                 252\n",
      "Bin 2                 475\n",
      "Bin 3                 399\n",
      "Bin 4                 423\n",
      "sms_cnt_1m_Bin\n",
      "                total\n",
      "sms_cnt_1m_Bin       \n",
      "Bin 0            8564\n",
      "Bin 1            2168\n",
      "                 bad\n",
      "sms_cnt_1m_Bin      \n",
      "Bin 0           1442\n",
      "Bin 1            380\n",
      "remote_time_1m_Bin\n",
      "                    total\n",
      "remote_time_1m_Bin       \n",
      "Bin 0                7812\n",
      "Bin 1                2920\n",
      "                     bad\n",
      "remote_time_1m_Bin      \n",
      "Bin 0               1287\n",
      "Bin 1                535\n",
      "debitcard_other_consumption_amount_12m_Bin\n",
      "                                            total\n",
      "debitcard_other_consumption_amount_12m_Bin       \n",
      "Bin 0                                        8775\n",
      "Bin 1                                        1957\n",
      "                                             bad\n",
      "debitcard_other_consumption_amount_12m_Bin      \n",
      "Bin 0                                       1462\n",
      "Bin 1                                        360\n",
      "loan_18m_Bin\n",
      "              total\n",
      "loan_18m_Bin       \n",
      "Bin 0          5832\n",
      "Bin 1          4900\n",
      "              bad\n",
      "loan_18m_Bin     \n",
      "Bin 0         994\n",
      "Bin 1         828\n",
      "recharge_amount_avg_3m_Bin\n",
      "                            total\n",
      "recharge_amount_avg_3m_Bin       \n",
      "Bin 0                        6744\n",
      "Bin 1                        3988\n",
      "                             bad\n",
      "recharge_amount_avg_3m_Bin      \n",
      "Bin 0                       1154\n",
      "Bin 1                        668\n",
      "debitcard_balance_Bin\n",
      "                       total\n",
      "debitcard_balance_Bin       \n",
      "Bin 0                    766\n",
      "Bin 1                   2553\n",
      "Bin 2                   2996\n",
      "Bin 3                   3637\n",
      "Bin 4                    780\n",
      "                       bad\n",
      "debitcard_balance_Bin     \n",
      "Bin 0                  188\n",
      "Bin 1                  529\n",
      "Bin 2                  548\n",
      "Bin 3                  487\n",
      "Bin 4                   70\n",
      "consumption_expense_1y_Bin\n",
      "                            total\n",
      "consumption_expense_1y_Bin       \n",
      "Bin 0                        5779\n",
      "Bin 1                        2889\n",
      "Bin 2                        2064\n",
      "                            bad\n",
      "consumption_expense_1y_Bin     \n",
      "Bin 0                       943\n",
      "Bin 1                       479\n",
      "Bin 2                       400\n",
      "max_loan_success_amount_Bin\n",
      "                             total\n",
      "max_loan_success_amount_Bin       \n",
      "Bin 0                         7285\n",
      "Bin 1                         3447\n",
      "                              bad\n",
      "max_loan_success_amount_Bin      \n",
      "Bin 0                        1397\n",
      "Bin 1                         425\n",
      "call_match_num_ninety_Bin\n",
      "                           total\n",
      "call_match_num_ninety_Bin       \n",
      "Bin 0                       7837\n",
      "Bin 1                       2895\n",
      "                            bad\n",
      "call_match_num_ninety_Bin      \n",
      "Bin 0                      1404\n",
      "Bin 1                       418\n",
      "salary_income_amount_average_6m_Bin\n",
      "                                     total\n",
      "salary_income_amount_average_6m_Bin       \n",
      "Bin 0                                 8668\n",
      "Bin 1                                  963\n",
      "Bin 2                                  749\n",
      "Bin 3                                  352\n",
      "                                      bad\n",
      "salary_income_amount_average_6m_Bin      \n",
      "Bin 0                                1580\n",
      "Bin 1                                 131\n",
      "Bin 2                                  79\n",
      "Bin 3                                  32\n",
      "apply_7d_Bin\n",
      "              total\n",
      "apply_7d_Bin       \n",
      "Bin 0          8159\n",
      "Bin 1          2220\n",
      "Bin 2           236\n",
      "Bin 3            97\n",
      "Bin 4            20\n",
      "               bad\n",
      "apply_7d_Bin      \n",
      "Bin 0         1117\n",
      "Bin 1          547\n",
      "Bin 2           97\n",
      "Bin 3           47\n",
      "Bin 4           14\n",
      "debitcard_withdraw_amount_12_avg_Bin\n",
      "                                      total\n",
      "debitcard_withdraw_amount_12_avg_Bin       \n",
      "Bin 0                                  7491\n",
      "Bin 1                                  1713\n",
      "Bin 2                                  1528\n",
      "                                       bad\n",
      "debitcard_withdraw_amount_12_avg_Bin      \n",
      "Bin 0                                 1280\n",
      "Bin 1                                  287\n",
      "Bin 2                                  255\n",
      "called_count_thirty_Bin\n",
      "                         total\n",
      "called_count_thirty_Bin       \n",
      "Bin 0                     1836\n",
      "Bin 1                     3430\n",
      "Bin 2                     5466\n",
      "                         bad\n",
      "called_count_thirty_Bin     \n",
      "Bin 0                    289\n",
      "Bin 1                    587\n",
      "Bin 2                    946\n",
      "debitcard_consume_count_3_Bin\n",
      "                               total\n",
      "debitcard_consume_count_3_Bin       \n",
      "Bin 0                           3984\n",
      "Bin 1                           3833\n",
      "Bin 2                           1496\n",
      "Bin 3                           1419\n",
      "                               bad\n",
      "debitcard_consume_count_3_Bin     \n",
      "Bin 0                          657\n",
      "Bin 1                          635\n",
      "Bin 2                          267\n",
      "Bin 3                          263\n",
      "org_180_cnt_14_recent_Bin\n",
      "                           total\n",
      "org_180_cnt_14_recent_Bin       \n",
      "Bin 0                       5502\n",
      "Bin 1                       4861\n",
      "Bin 2                        356\n",
      "Bin 3                         13\n",
      "                           bad\n",
      "org_180_cnt_14_recent_Bin     \n",
      "Bin 0                      744\n",
      "Bin 1                      956\n",
      "Bin 2                      111\n",
      "Bin 3                       11\n",
      "debitcard_income_6_Bin\n",
      "                        total\n",
      "debitcard_income_6_Bin       \n",
      "Bin 0                    5993\n",
      "Bin 1                    4739\n",
      "                        bad\n",
      "debitcard_income_6_Bin     \n",
      "Bin 0                   976\n",
      "Bin 1                   846\n",
      "local_cnt_3m_Bin\n",
      "                  total\n",
      "local_cnt_3m_Bin       \n",
      "Bin 0              5780\n",
      "Bin 1              2033\n",
      "Bin 2              2033\n",
      "Bin 3               886\n",
      "                   bad\n",
      "local_cnt_3m_Bin      \n",
      "Bin 0             1003\n",
      "Bin 1              350\n",
      "Bin 2              339\n",
      "Bin 3              130\n",
      "no_calling_day_one_eighty_Bin\n",
      "                               total\n",
      "no_calling_day_one_eighty_Bin       \n",
      "Bin 0                           3388\n",
      "Bin 1                           7344\n",
      "                                bad\n",
      "no_calling_day_one_eighty_Bin      \n",
      "Bin 0                           489\n",
      "Bin 1                          1333\n",
      "calls_count_ninety_Bin\n",
      "                        total\n",
      "calls_count_ninety_Bin       \n",
      "Bin 0                    6637\n",
      "Bin 1                    4095\n",
      "                         bad\n",
      "calls_count_ninety_Bin      \n",
      "Bin 0                   1146\n",
      "Bin 1                    676\n",
      "other_fee_3_Bin\n",
      "                 total\n",
      "other_fee_3_Bin       \n",
      "Bin 0             7777\n",
      "Bin 1             2955\n",
      "                  bad\n",
      "other_fee_3_Bin      \n",
      "Bin 0            1314\n",
      "Bin 1             508\n",
      "credit_card_cnt_1m_Bin\n",
      "                        total\n",
      "credit_card_cnt_1m_Bin       \n",
      "Bin 0                    9654\n",
      "Bin 1                     895\n",
      "Bin 2                     183\n",
      "                         bad\n",
      "credit_card_cnt_1m_Bin      \n",
      "Bin 0                   1581\n",
      "Bin 1                    193\n",
      "Bin 2                     48\n",
      "total_fee_3m_Bin\n",
      "                  total\n",
      "total_fee_3m_Bin       \n",
      "Bin 0              1500\n",
      "Bin 1              1390\n",
      "Bin 2              2675\n",
      "Bin 3              2354\n",
      "Bin 4              2813\n",
      "                  bad\n",
      "total_fee_3m_Bin     \n",
      "Bin 0             273\n",
      "Bin 1             252\n",
      "Bin 2             475\n",
      "Bin 3             399\n",
      "Bin 4             423\n",
      "called_avg_duration_thirty_Bin\n",
      "                                total\n",
      "called_avg_duration_thirty_Bin       \n",
      "Bin 0                            5609\n",
      "Bin 1                            5123\n",
      "                                bad\n",
      "called_avg_duration_thirty_Bin     \n",
      "Bin 0                           885\n",
      "Bin 1                           937\n",
      "calls_num_ninety_Bin\n",
      "                      total\n",
      "calls_num_ninety_Bin       \n",
      "Bin 0                  3762\n",
      "Bin 1                  3850\n",
      "Bin 2                  3120\n",
      "                      bad\n",
      "calls_num_ninety_Bin     \n",
      "Bin 0                 620\n",
      "Bin 1                 641\n",
      "Bin 2                 561\n",
      "friend_num_3m_Bin\n",
      "                   total\n",
      "friend_num_3m_Bin       \n",
      "Bin 0               7495\n",
      "Bin 1               3237\n",
      "                    bad\n",
      "friend_num_3m_Bin      \n",
      "Bin 0              1237\n",
      "Bin 1               585\n",
      "calling_duration_ninety_Bin\n",
      "                             total\n",
      "calling_duration_ninety_Bin       \n",
      "Bin 0                         3532\n",
      "Bin 1                         7200\n",
      "                              bad\n",
      "calling_duration_ninety_Bin      \n",
      "Bin 0                         588\n",
      "Bin 1                        1234\n",
      "search_cnt_14_recent_Bin\n",
      "                          total\n",
      "search_cnt_14_recent_Bin       \n",
      "Bin 0                       219\n",
      "Bin 1                      5756\n",
      "Bin 2                      4757\n",
      "                          bad\n",
      "search_cnt_14_recent_Bin     \n",
      "Bin 0                      64\n",
      "Bin 1                     877\n",
      "Bin 2                     881\n",
      "calling_duration_one_eighty_Bin\n",
      "                                 total\n",
      "calling_duration_one_eighty_Bin       \n",
      "Bin 0                             5886\n",
      "Bin 1                             4846\n",
      "                                  bad\n",
      "calling_duration_one_eighty_Bin      \n",
      "Bin 0                            1013\n",
      "Bin 1                             809\n",
      "called_num_thirty_Bin\n",
      "                       total\n",
      "called_num_thirty_Bin       \n",
      "Bin 0                   8791\n",
      "Bin 1                   1941\n",
      "                        bad\n",
      "called_num_thirty_Bin      \n",
      "Bin 0                  1418\n",
      "Bin 1                   404\n",
      "cnt_1min_5min_3m_Bin\n",
      "                      total\n",
      "cnt_1min_5min_3m_Bin       \n",
      "Bin 0                  7920\n",
      "Bin 1                  2812\n",
      "                       bad\n",
      "cnt_1min_5min_3m_Bin      \n",
      "Bin 0                 1376\n",
      "Bin 1                  446\n",
      "debitcard_outcome_6_avg_Bin\n",
      "                             total\n",
      "debitcard_outcome_6_avg_Bin       \n",
      "Bin 0                         5137\n",
      "Bin 1                         3317\n",
      "Bin 2                         2278\n",
      "                             bad\n",
      "debitcard_outcome_6_avg_Bin     \n",
      "Bin 0                        813\n",
      "Bin 1                        595\n",
      "Bin 2                        414\n",
      "debitcard_consume_amount_12m_Bin\n",
      "                                  total\n",
      "debitcard_consume_amount_12m_Bin       \n",
      "Bin 0                              5779\n",
      "Bin 1                              2889\n",
      "Bin 2                              2064\n",
      "                                  bad\n",
      "debitcard_consume_amount_12m_Bin     \n",
      "Bin 0                             943\n",
      "Bin 1                             479\n",
      "Bin 2                             400\n",
      "debitcard_consume_amount_6_avg_Bin\n",
      "                                    total\n",
      "debitcard_consume_amount_6_avg_Bin       \n",
      "Bin 0                                3960\n",
      "Bin 1                                6772\n",
      "                                     bad\n",
      "debitcard_consume_amount_6_avg_Bin      \n",
      "Bin 0                                657\n",
      "Bin 1                               1165\n",
      "power_off_day_pct_3m_Bin\n",
      "                          total\n",
      "power_off_day_pct_3m_Bin       \n",
      "Bin 0                     10425\n",
      "Bin 1                       307\n",
      "                           bad\n",
      "power_off_day_pct_3m_Bin      \n",
      "Bin 0                     1773\n",
      "Bin 1                       49\n",
      "daytime_time_3m_Bin\n",
      "                     total\n",
      "daytime_time_3m_Bin       \n",
      "Bin 0                 4923\n",
      "Bin 1                 5809\n",
      "                      bad\n",
      "daytime_time_3m_Bin      \n",
      "Bin 0                 819\n",
      "Bin 1                1003\n",
      "search_30_cnt_7_recent_Bin\n",
      "                            total\n",
      "search_30_cnt_7_recent_Bin       \n",
      "Bin 0                        3779\n",
      "Bin 1                        5958\n",
      "Bin 2                         589\n",
      "Bin 3                         378\n",
      "Bin 4                          28\n",
      "                            bad\n",
      "search_30_cnt_7_recent_Bin     \n",
      "Bin 0                       591\n",
      "Bin 1                       976\n",
      "Bin 2                       146\n",
      "Bin 3                        97\n",
      "Bin 4                        12\n",
      "proportion2_Bin\n",
      "                 total\n",
      "proportion2_Bin       \n",
      "Bin 0            10688\n",
      "Bin 1               44\n",
      "                  bad\n",
      "proportion2_Bin      \n",
      "Bin 0            1812\n",
      "Bin 1              10\n",
      "call_duration_thirty_Bin\n",
      "                          total\n",
      "call_duration_thirty_Bin       \n",
      "Bin 0                      5886\n",
      "Bin 1                      4846\n",
      "                           bad\n",
      "call_duration_thirty_Bin      \n",
      "Bin 0                     1000\n",
      "Bin 1                      822\n",
      "cnt_1min_5min_1m_Bin\n",
      "                      total\n",
      "cnt_1min_5min_1m_Bin       \n",
      "Bin 0                  5267\n",
      "Bin 1                  5465\n",
      "                      bad\n",
      "cnt_1min_5min_1m_Bin     \n",
      "Bin 0                 869\n",
      "Bin 1                 953\n",
      "proportion6_Bin\n",
      "                 total\n",
      "proportion6_Bin       \n",
      "Bin 0            10717\n",
      "Bin 1               15\n",
      "                  bad\n",
      "proportion6_Bin      \n",
      "Bin 0            1817\n",
      "Bin 1               5\n",
      "query_times_Bin\n",
      "                 total\n",
      "query_times_Bin       \n",
      "Bin 0              625\n",
      "Bin 1              720\n",
      "Bin 2             4918\n",
      "Bin 3             3829\n",
      "Bin 4              640\n",
      "                 bad\n",
      "query_times_Bin     \n",
      "Bin 0             56\n",
      "Bin 1             65\n",
      "Bin 2            781\n",
      "Bin 3            778\n",
      "Bin 4            142\n",
      "search_cnt_recent_7_days_Bin\n",
      "                              total\n",
      "search_cnt_recent_7_days_Bin       \n",
      "Bin 0                          4763\n",
      "Bin 1                          5076\n",
      "Bin 2                           707\n",
      "Bin 3                           149\n",
      "Bin 4                            37\n",
      "                              bad\n",
      "search_cnt_recent_7_days_Bin     \n",
      "Bin 0                         656\n",
      "Bin 1                         928\n",
      "Bin 2                         179\n",
      "Bin 3                          44\n",
      "Bin 4                          15\n",
      "invalid_size_Bin\n",
      "                  total\n",
      "invalid_size_Bin       \n",
      "Bin 0              8318\n",
      "Bin 1              2414\n",
      "                   bad\n",
      "invalid_size_Bin      \n",
      "Bin 0             1354\n",
      "Bin 1              468\n",
      "salary_income_month_num_6_Bin\n",
      "                               total\n",
      "salary_income_month_num_6_Bin       \n",
      "Bin 0                           8933\n",
      "Bin 1                           1799\n",
      "                                bad\n",
      "salary_income_month_num_6_Bin      \n",
      "Bin 0                          1599\n",
      "Bin 1                           223\n",
      "debitcard_outcome_6_Bin\n",
      "                         total\n",
      "debitcard_outcome_6_Bin       \n",
      "Bin 0                     5137\n",
      "Bin 1                     3317\n",
      "Bin 2                     2278\n",
      "                         bad\n",
      "debitcard_outcome_6_Bin     \n",
      "Bin 0                    813\n",
      "Bin 1                    595\n",
      "Bin 2                    414\n",
      "debitcard_max_continue_consume_month_6_Bin\n",
      "                                            total\n",
      "debitcard_max_continue_consume_month_6_Bin       \n",
      "Bin 0                                        1660\n",
      "Bin 1                                        9072\n",
      "                                             bad\n",
      "debitcard_max_continue_consume_month_6_Bin      \n",
      "Bin 0                                        294\n",
      "Bin 1                                       1528\n",
      "sms_day_1m_Bin\n",
      "                total\n",
      "sms_day_1m_Bin       \n",
      "Bin 0            8001\n",
      "Bin 1            2731\n",
      "                 bad\n",
      "sms_day_1m_Bin      \n",
      "Bin 0           1359\n",
      "Bin 1            463\n",
      "call_match_num_one_eighty_Bin\n",
      "                               total\n",
      "call_match_num_one_eighty_Bin       \n",
      "Bin 0                           5940\n",
      "Bin 1                           3073\n",
      "Bin 2                           1719\n",
      "                                bad\n",
      "call_match_num_one_eighty_Bin      \n",
      "Bin 0                          1061\n",
      "Bin 1                           538\n",
      "Bin 2                           223\n",
      "others_cnt_Bin\n",
      "                total\n",
      "others_cnt_Bin       \n",
      "Bin 0             955\n",
      "Bin 1            7409\n",
      "Bin 2            1494\n",
      "Bin 3             874\n",
      "                 bad\n",
      "others_cnt_Bin      \n",
      "Bin 0            128\n",
      "Bin 1           1144\n",
      "Bin 2            343\n",
      "Bin 3            207\n",
      "live_month_cnt_3m_Bin\n",
      "                       total\n",
      "live_month_cnt_3m_Bin       \n",
      "Bin 0                   3480\n",
      "Bin 1                   7252\n",
      "                        bad\n",
      "live_month_cnt_3m_Bin      \n",
      "Bin 0                   632\n",
      "Bin 1                  1190\n",
      "credit_card_cnt_3m_Bin\n",
      "                        total\n",
      "credit_card_cnt_3m_Bin       \n",
      "Bin 0                    2383\n",
      "Bin 1                    7621\n",
      "Bin 2                     615\n",
      "Bin 3                     113\n",
      "                         bad\n",
      "credit_card_cnt_3m_Bin      \n",
      "Bin 0                    304\n",
      "Bin 1                   1345\n",
      "Bin 2                    142\n",
      "Bin 3                     31\n",
      "debitcard_cash_withdrawal_amount_12m_Bin\n",
      "                                          total\n",
      "debitcard_cash_withdrawal_amount_12m_Bin       \n",
      "Bin 0                                      7491\n",
      "Bin 1                                      1713\n",
      "Bin 2                                      1528\n",
      "                                           bad\n",
      "debitcard_cash_withdrawal_amount_12m_Bin      \n",
      "Bin 0                                     1280\n",
      "Bin 1                                      287\n",
      "Bin 2                                      255\n",
      "search_cnt_recent_30_days_Bin\n",
      "                               total\n",
      "search_cnt_recent_30_days_Bin       \n",
      "Bin 0                           8322\n",
      "Bin 1                           1035\n",
      "Bin 2                            877\n",
      "Bin 3                            445\n",
      "Bin 4                             53\n",
      "                                bad\n",
      "search_cnt_recent_30_days_Bin      \n",
      "Bin 0                          1227\n",
      "Bin 1                           236\n",
      "Bin 2                           217\n",
      "Bin 3                           121\n",
      "Bin 4                            21\n",
      "apply_3m_Bin\n",
      "              total\n",
      "apply_3m_Bin       \n",
      "Bin 0          1730\n",
      "Bin 1          6876\n",
      "Bin 2          1462\n",
      "Bin 3           531\n",
      "Bin 4           133\n",
      "               bad\n",
      "apply_3m_Bin      \n",
      "Bin 0          140\n",
      "Bin 1         1028\n",
      "Bin 2          389\n",
      "Bin 3          200\n",
      "Bin 4           65\n",
      "payday_loan_cnt_Bin\n",
      "                     total\n",
      "payday_loan_cnt_Bin       \n",
      "Bin 0                 3303\n",
      "Bin 1                 5619\n",
      "Bin 2                 1810\n",
      "                      bad\n",
      "payday_loan_cnt_Bin      \n",
      "Bin 0                 403\n",
      "Bin 1                1002\n",
      "Bin 2                 417\n",
      "expense_1y_Bin\n",
      "                total\n",
      "expense_1y_Bin       \n",
      "Bin 0            5244\n",
      "Bin 1            2568\n",
      "Bin 2            2140\n",
      "Bin 3             780\n",
      "                bad\n",
      "expense_1y_Bin     \n",
      "Bin 0           864\n",
      "Bin 1           431\n",
      "Bin 2           380\n",
      "Bin 3           147\n",
      "salary_income_amount_3m_Bin\n",
      "                             total\n",
      "salary_income_amount_3m_Bin       \n",
      "Bin 0                         8882\n",
      "Bin 1                          963\n",
      "Bin 2                          887\n",
      "                              bad\n",
      "salary_income_amount_3m_Bin      \n",
      "Bin 0                        1617\n",
      "Bin 1                         114\n",
      "Bin 2                          91\n",
      "agency_cnt_3m_Bin\n",
      "                   total\n",
      "agency_cnt_3m_Bin       \n",
      "Bin 0               8576\n",
      "Bin 1               2156\n",
      "                    bad\n",
      "agency_cnt_3m_Bin      \n",
      "Bin 0              1466\n",
      "Bin 1               356\n",
      "local_time_3m_Bin\n",
      "                   total\n",
      "local_time_3m_Bin       \n",
      "Bin 0               7170\n",
      "Bin 1               3562\n",
      "                    bad\n",
      "local_time_3m_Bin      \n",
      "Bin 0              1238\n",
      "Bin 1               584\n",
      "repany_loan_amount_6_Bin\n",
      "                          total\n",
      "repany_loan_amount_6_Bin       \n",
      "Bin 0                      5458\n",
      "Bin 1                      2568\n",
      "Bin 2                      2706\n",
      "                          bad\n",
      "repany_loan_amount_6_Bin     \n",
      "Bin 0                     945\n",
      "Bin 1                     432\n",
      "Bin 2                     445\n",
      "no_call_day_one_eighty_Bin\n",
      "                            total\n",
      "no_call_day_one_eighty_Bin       \n",
      "Bin 0                        2297\n",
      "Bin 1                        5343\n",
      "Bin 2                        3092\n",
      "                            bad\n",
      "no_call_day_one_eighty_Bin     \n",
      "Bin 0                       343\n",
      "Bin 1                       916\n",
      "Bin 2                       563\n",
      "debitcard_consume_amount_3_Bin\n",
      "                                total\n",
      "debitcard_consume_amount_3_Bin       \n",
      "Bin 0                            6100\n",
      "Bin 1                            3959\n",
      "Bin 2                             673\n",
      "                                bad\n",
      "debitcard_consume_amount_3_Bin     \n",
      "Bin 0                           963\n",
      "Bin 1                           708\n",
      "Bin 2                           151\n",
      "org_count_Bin\n",
      "               total\n",
      "org_count_Bin       \n",
      "Bin 0           1623\n",
      "Bin 1           2127\n",
      "Bin 2           5921\n",
      "Bin 3            528\n",
      "Bin 4            533\n",
      "                bad\n",
      "org_count_Bin      \n",
      "Bin 0           143\n",
      "Bin 1           241\n",
      "Bin 2          1130\n",
      "Bin 3           151\n",
      "Bin 4           157\n",
      "proportion8_Bin\n",
      "                 total\n",
      "proportion8_Bin       \n",
      "Bin 0            10560\n",
      "Bin 1              172\n",
      "                  bad\n",
      "proportion8_Bin      \n",
      "Bin 0            1794\n",
      "Bin 1              28\n",
      "max_single_recharge_1m_Bin\n",
      "                            total\n",
      "max_single_recharge_1m_Bin       \n",
      "Bin 0                        3154\n",
      "Bin 1                        7578\n",
      "                             bad\n",
      "max_single_recharge_1m_Bin      \n",
      "Bin 0                        529\n",
      "Bin 1                       1293\n",
      "repany_loan_amount_12_Bin\n",
      "                           total\n",
      "repany_loan_amount_12_Bin       \n",
      "Bin 0                       7598\n",
      "Bin 1                       3134\n",
      "                            bad\n",
      "repany_loan_amount_12_Bin      \n",
      "Bin 0                      1307\n",
      "Bin 1                       515\n",
      "called_match_num_ninety_Bin\n",
      "                             total\n",
      "called_match_num_ninety_Bin       \n",
      "Bin 0                         5091\n",
      "Bin 1                         4650\n",
      "Bin 2                          991\n",
      "                             bad\n",
      "called_match_num_ninety_Bin     \n",
      "Bin 0                        910\n",
      "Bin 1                        802\n",
      "Bin 2                        110\n",
      "debitcard_consume_count_12_Bin\n",
      "                                total\n",
      "debitcard_consume_count_12_Bin       \n",
      "Bin 0                            4390\n",
      "Bin 1                            2033\n",
      "Bin 2                            4309\n",
      "                                bad\n",
      "debitcard_consume_count_12_Bin     \n",
      "Bin 0                           725\n",
      "Bin 1                           347\n",
      "Bin 2                           750\n",
      "agency_cnt_1m_Bin\n",
      "                   total\n",
      "agency_cnt_1m_Bin       \n",
      "Bin 0              10699\n",
      "Bin 1                 33\n",
      "                    bad\n",
      "agency_cnt_1m_Bin      \n",
      "Bin 0              1817\n",
      "Bin 1                 5\n",
      "call_duration_ninety_Bin\n",
      "                          total\n",
      "call_duration_ninety_Bin       \n",
      "Bin 0                      4816\n",
      "Bin 1                      5916\n",
      "                           bad\n",
      "call_duration_ninety_Bin      \n",
      "Bin 0                      793\n",
      "Bin 1                     1029\n",
      "peer_loc_cnt_1m_Bin\n",
      "                     total\n",
      "peer_loc_cnt_1m_Bin       \n",
      "Bin 0                 7637\n",
      "Bin 1                 2255\n",
      "Bin 2                  399\n",
      "Bin 3                  312\n",
      "Bin 4                  129\n",
      "                      bad\n",
      "peer_loc_cnt_1m_Bin      \n",
      "Bin 0                1139\n",
      "Bin 1                 438\n",
      "Bin 2                 108\n",
      "Bin 3                  85\n",
      "Bin 4                  52\n",
      "debitcard_withdraw_count_12_Bin\n",
      "                                 total\n",
      "debitcard_withdraw_count_12_Bin       \n",
      "Bin 0                             8644\n",
      "Bin 1                             2088\n",
      "                                  bad\n",
      "debitcard_withdraw_count_12_Bin      \n",
      "Bin 0                            1456\n",
      "Bin 1                             366\n",
      "call_day_1m_Bin\n",
      "                 total\n",
      "call_day_1m_Bin       \n",
      "Bin 0             1556\n",
      "Bin 1             9176\n",
      "                  bad\n",
      "call_day_1m_Bin      \n",
      "Bin 0             252\n",
      "Bin 1            1570\n",
      "debitcard_outcome_3_Bin\n",
      "                         total\n",
      "debitcard_outcome_3_Bin       \n",
      "Bin 0                     3318\n",
      "Bin 1                     4708\n",
      "Bin 2                     2706\n",
      "                         bad\n",
      "debitcard_outcome_3_Bin     \n",
      "Bin 0                    518\n",
      "Bin 1                    816\n",
      "Bin 2                    488\n",
      "os_type\n",
      "         total\n",
      "os_type       \n",
      "android   4846\n",
      "iOS       5859\n",
      "null        27\n",
      "         bad\n",
      "os_type     \n",
      "android  943\n",
      "iOS      870\n",
      "null       9\n",
      "real_valid\n",
      "            total\n",
      "real_valid       \n",
      "N            5761\n",
      "Y            4971\n",
      "            bad\n",
      "real_valid     \n",
      "N           930\n",
      "Y           892\n",
      "idcard_valid\n",
      "              total\n",
      "idcard_valid       \n",
      "N                54\n",
      "W              5700\n",
      "Y              4978\n",
      "              bad\n",
      "idcard_valid     \n",
      "N               9\n",
      "W             919\n",
      "Y             894\n",
      "phone_valid\n",
      "             total\n",
      "phone_valid       \n",
      "N             2396\n",
      "W             2014\n",
      "Y             6322\n",
      "              bad\n",
      "phone_valid      \n",
      "N             358\n",
      "W             316\n",
      "Y            1148\n",
      "is_address_match_attribution_1m\n",
      "                                 total\n",
      "is_address_match_attribution_1m       \n",
      "否                                 2246\n",
      "是                                 8403\n",
      "未知                                  83\n",
      "                                  bad\n",
      "is_address_match_attribution_1m      \n",
      "否                                 396\n",
      "是                                1415\n",
      "未知                                 11\n",
      "is_address_match_attribution_3m\n",
      "                                 total\n",
      "is_address_match_attribution_3m       \n",
      "否                                 2117\n",
      "是                                 8605\n",
      "未知                                  10\n",
      "                                  bad\n",
      "is_address_match_attribution_3m      \n",
      "否                                 368\n",
      "是                                1453\n",
      "未知                                  1\n",
      "call_cnt_more_1m\n",
      "                  total\n",
      "call_cnt_more_1m       \n",
      "否                  6558\n",
      "是                  4174\n",
      "                   bad\n",
      "call_cnt_more_1m      \n",
      "否                 1120\n",
      "是                  702\n",
      "call_cnt_more_3m\n",
      "                  total\n",
      "call_cnt_more_3m       \n",
      "否                  6443\n",
      "是                  4289\n",
      "                   bad\n",
      "call_cnt_more_3m      \n",
      "否                 1124\n",
      "是                  698\n"
     ]
    }
   ],
   "source": [
    "##WOE编码\n",
    "WOE_dict = {}\n",
    "IV_dict = {}\n",
    "# 分箱后的变量进行编码，包括：\n",
    "# 1，初始取值个数小于5，且不需要合并的类别型变量。存放在less_value_features中\n",
    "# 2，初始取值个数小于5，需要合并的类别型变量。合并后新的变量存放在var_bin_list中\n",
    "# 3，初始取值个数超过5，需要合并的类别型变量。合并后新的变量存放在var_bin_list中\n",
    "# 4，连续变量。分箱后新的变量存放在var_bin_list中\n",
    "\n",
    "\n",
    "all_var = var_bin_list  + less_value_features\n",
    "all_var.remove('company_num_1y_Bin')\n",
    "# all_var.remove('credit_card_repayment_cnt')\n",
    "#all_var.remove('state_Bin')\n",
    "for var in all_var:\n",
    "    woe_iv = CalcWOE(trainData, var, 'y')\n",
    "    WOE_dict[var] = woe_iv['WOE']\n",
    "    IV_dict[var] = woe_iv['IV']\n"
   ]
  },
  {
   "cell_type": "code",
   "execution_count": 240,
   "metadata": {
    "scrolled": true
   },
   "outputs": [
    {
     "data": {
      "image/png": "[encoded data removed]",
      "text/plain": [
       "<matplotlib.figure.Figure at 0x20915ae9ba8>"
      ]
     },
     "metadata": {},
     "output_type": "display_data"
    }
   ],
   "source": [
    "#将变量IV值进行降序排列，方便后续挑选变量\n",
    "IV_dict_sorted = sorted(IV_dict.items(), key=lambda x: x[1], reverse=True)\n",
    "IV_values = [i[1] for i in IV_dict_sorted]\n",
    "IV_name = [i[0] for i in IV_dict_sorted]\n",
    "plt.title('feature IV')\n",
    "plt.bar(range(len(IV_values)),IV_values)\n",
    "plt.show()"
   ]
  },
  {
   "cell_type": "code",
   "execution_count": 81,
   "metadata": {},
   "outputs": [
    {
     "name": "stderr",
     "output_type": "stream",
     "text": [
      "E:\\360Downloads\\Python\\lib\\site-packages\\sklearn\\linear_model\\coordinate_descent.py:484: ConvergenceWarning: Objective did not converge. You might want to increase the number of iterations. Fitting data with very small alpha may cause precision problems.\n",
      "  ConvergenceWarning)\n"
     ]
    },
    {
     "name": "stdout",
     "output_type": "stream",
     "text": [
      "[0]\ttrain-error:0.160799\ttrain-auc:0.714638\tvalid-error:0.184358\tvalid-auc:0.637494\n",
      "Multiple eval metrics have been passed: 'valid-auc' will be used for early stopping.\n",
      "\n",
      "Will train until valid-auc hasn't improved in 200 rounds.\n",
      "[100]\ttrain-error:0.154483\ttrain-auc:0.847507\tvalid-error:0.179702\tvalid-auc:0.751017\n",
      "[200]\ttrain-error:0.139573\ttrain-auc:0.90343\tvalid-error:0.168529\tvalid-auc:0.777027\n",
      "[300]\ttrain-error:0.122903\ttrain-auc:0.933155\tvalid-error:0.164804\tvalid-auc:0.786667\n",
      "[400]\ttrain-error:0.107372\ttrain-auc:0.952809\tvalid-error:0.165736\tvalid-auc:0.790357\n",
      "[500]\ttrain-error:0.095258\ttrain-auc:0.966906\tvalid-error:0.16108\tvalid-auc:0.791862\n",
      "[600]\ttrain-error:0.082833\ttrain-auc:0.977165\tvalid-error:0.162011\tvalid-auc:0.792426\n",
      "[700]\ttrain-error:0.07134\ttrain-auc:0.983949\tvalid-error:0.162011\tvalid-auc:0.790322\n",
      "Stopping. Best iteration:\n",
      "[592]\ttrain-error:0.084179\ttrain-auc:0.97652\tvalid-error:0.16108\tvalid-auc:0.79256\n",
      "\n"
     ]
    },
    {
     "ename": "NameError",
     "evalue": "name 'importance' is not defined",
     "output_type": "error",
     "traceback": [
      "\u001b[0;31m---------------------------------------------------------------------------\u001b[0m",
      "\u001b[0;31mNameError\u001b[0m                                 Traceback (most recent call last)",
      "\u001b[0;32m<ipython-input-81-5964e701b0dd>\u001b[0m in \u001b[0;36m<module>\u001b[0;34m()\u001b[0m\n\u001b[1;32m     54\u001b[0m     \u001b[1;32mreturn\u001b[0m\u001b[1;33m(\u001b[0m\u001b[0mfeature\u001b[0m\u001b[1;33m)\u001b[0m\u001b[1;33m\u001b[0m\u001b[0m\n\u001b[1;32m     55\u001b[0m \u001b[1;33m\u001b[0m\u001b[0m\n\u001b[0;32m---> 56\u001b[0;31m \u001b[0mprint\u001b[0m\u001b[1;33m(\u001b[0m\u001b[0mimportance\u001b[0m\u001b[1;33m)\u001b[0m\u001b[1;31m##查看随机森林变量重要性\u001b[0m\u001b[1;33m\u001b[0m\u001b[0m\n\u001b[0m\u001b[1;32m     57\u001b[0m \u001b[0mprint\u001b[0m\u001b[1;33m(\u001b[0m\u001b[0mscore_sorted\u001b[0m\u001b[1;33m)\u001b[0m\u001b[1;31m##查看 xgboost\u001b[0m\u001b[1;33m\u001b[0m\u001b[0m\n",
      "\u001b[0;31mNameError\u001b[0m: name 'importance' is not defined"
     ]
    }
   ],
   "source": [
    "'''\n",
    "2、其他模型筛选变量\n",
    "1）、随机森林筛选变量 \n",
    "'''\n",
    "X_train, X_valid, y_train, y_valid = train_test_split(\n",
    "    mydata1[num_features], mydata1['target'], train_size=0.9, random_state=233)\n",
    "clf=RandomForestClassifier(random_state=10,bootstrap=True, criterion='entropy',n_estimators=500)\n",
    "clf.fit(X_train, y_train)\n",
    "\n",
    "####变量重要性\n",
    "importances = pd.DataFrame({'feature':X_train.columns,'importance':np.round(clf.feature_importances_,3)})\n",
    "importances = importances.sort_values('importance',ascending=False).set_index('feature')\n",
    "importances.reset_index(inplace=True)\n",
    "\n",
    "\n",
    "'''\n",
    "2）、Losso 筛选变量\n",
    "确定最优超参数 alpha\n",
    "提取系数不为零的变量\n",
    "'''\n",
    "lassocv = LassoCV()\n",
    "lassocv.fit(X_train, y_train)\n",
    "mask =lassocv.coef_ != 0\n",
    "new_reg_data = X_train.loc[:,mask]\n",
    "\n",
    "\n",
    "'''\n",
    "3）、xgboost 查看变量\n",
    "'''\n",
    "nrounds=2000 # need to change to 2000\n",
    "kfold = 5  # need to change to 5\n",
    "skf = StratifiedKFold(n_splits=kfold, random_state=29)\n",
    "params = {'eta': 0.03, 'max_depth': 4, 'subsample': 0.9, 'colsample_bytree': 0.9, \n",
    "          'objective': 'binary:logistic', 'eval_metric': ['error','auc'], 'silent': True}\n",
    "d_train = xgb.DMatrix(X_train, y_train) \n",
    "d_valid = xgb.DMatrix(X_valid, y_valid) \n",
    "watchlist = [(d_train, 'train'), (d_valid, 'valid')]\n",
    "xgb_model = xgb.train(params, d_train, nrounds, watchlist,\n",
    "                      maximize=True, verbose_eval=100,early_stopping_rounds=200)\n",
    "gc.collect()\n",
    "\n",
    "###查看变量重要性,取重要性排名前20个变量\n",
    "score = xgb_model.get_fscore()\n",
    "score_sorted= sorted(score.items(), key=lambda d: d[1],reverse=True)\n",
    "    \n",
    "def To_Bin(list):\n",
    "    feature=[]\n",
    "    for var in list:\n",
    "        newname=var+'_Bin'\n",
    "        feature.append(newname)\n",
    "    return(feature)\n",
    "\n"
   ]
  },
  {
   "cell_type": "code",
   "execution_count": 82,
   "metadata": {},
   "outputs": [
    {
     "name": "stdout",
     "output_type": "stream",
     "text": [
      "                                    feature  importance\n",
      "0                               final_score       0.020\n",
      "1                                  apply_1m       0.017\n",
      "2                                  apply_3m       0.016\n",
      "3           blacklist_indirect_contacts_cnt       0.012\n",
      "4                         debitcard_balance       0.010\n",
      "5                                  zm_score       0.010\n",
      "6                   org_cnt_recent_180_days       0.009\n",
      "7                                  apply_7d       0.008\n",
      "8                     blacklist_routers_pct       0.008\n",
      "9                          extend_phone_age       0.007\n",
      "10             debitcard_recently_balance_3       0.007\n",
      "11                    org_180_cnt_14_recent       0.007\n",
      "12                          peer_loc_cnt_3m       0.006\n",
      "13                     search_cnt_14_recent       0.006\n",
      "14                               search_cnt       0.006\n",
      "15            debitcard_recently_balance_12       0.006\n",
      "16             debitcard_recently_balance_6       0.006\n",
      "17                                org_count       0.006\n",
      "18                    blacklist_routers_cnt       0.006\n",
      "19                      duration_div_thirty       0.005\n",
      "20                               sms_cnt_3m       0.005\n",
      "21                       max_single_time_1m       0.005\n",
      "22                                    size1       0.005\n",
      "23                         phone_long_count       0.005\n",
      "24                search_cnt_recent_90_days       0.005\n",
      "25                               valid_size       0.005\n",
      "26                          avg_loan_amount       0.005\n",
      "27                              proportion3       0.005\n",
      "28                        available_balance       0.005\n",
      "29                              net_used_3m       0.005\n",
      "..                                      ...         ...\n",
      "267                       live_month_cnt_3m       0.001\n",
      "268                             proportion8       0.001\n",
      "269              salary_income_month_num_12       0.001\n",
      "270  debitcard_max_continue_consume_month_6       0.001\n",
      "271        debitcard_cash_withdrawal_num_1m       0.001\n",
      "272                      min_single_time_3m       0.001\n",
      "273  debitcard_max_continue_consume_month_3       0.001\n",
      "274                    power_off_day_pct_1m       0.001\n",
      "275                                loan_12m       0.001\n",
      "276               salary_income_month_num_3       0.001\n",
      "277             continue_recharge_month_cnt       0.001\n",
      "278                 offline_installment_cnt       0.001\n",
      "279                   repany_loan_mon_num_3       0.001\n",
      "280                       loan_in_amount_12       0.001\n",
      "281                  blacklist_contacts_cnt       0.001\n",
      "282                             proportion1       0.001\n",
      "283                        avg_install_days       0.001\n",
      "284                        power_off_day_1m       0.001\n",
      "285                    scale_no_call_thirty       0.001\n",
      "286                      no_call_day_thirty       0.001\n",
      "287     debitcard_other_consumption_num_12m       0.001\n",
      "288               credit_card_repayment_cnt       0.001\n",
      "289  debitcard_other_consumption_amount_12m       0.001\n",
      "290                    loan_in_month_num_12       0.001\n",
      "291                   loan_in_amount_avg_12       0.001\n",
      "292                    online_cash_loan_cnt       0.001\n",
      "293                             proportion6       0.001\n",
      "294               salary_income_month_num_6       0.001\n",
      "295                       live_month_cnt_1m       0.000\n",
      "296                          company_num_1y       0.000\n",
      "\n",
      "[297 rows x 2 columns]\n",
      "[('zm_score', 268), ('final_score', 266), ('blacklist_indirect_contacts_cnt', 235), ('debitcard_balance', 199), ('extend_phone_age', 163), ('apply_1m', 161), ('apply_3m', 160), ('org_cnt_recent_180_days', 158), ('search_cnt_14_recent', 154), ('credit_card_time_3m', 138), ('search_cnt_recent_90_days', 131), ('proportion3', 129), ('org_180_cnt_14_recent', 127), ('calls_percent', 127), ('debitcard_recently_balance_3', 122), ('blacklist_routers_pct', 119), ('available_balance', 109), ('search_cnt', 106), ('peer_loc_cnt_3m', 103), ('loan_ratio', 97), ('peer_loc_cnt_1m', 94), ('net_used_3m', 93), ('max_single_time_3m', 91), ('avg_loan_amount', 90), ('called_avg_duration_ninety', 89), ('loan_success_ratio', 85), ('nearest_unpass_org', 84), ('debitcard_income_3', 81), ('debitcard_consume_amount_12_avg', 79), ('loan_time_3m', 77), ('duration_div_ninety', 75), ('debitcard_max_balance_3', 72), ('blacklist_routers_cnt', 72), ('org_count', 71), ('phone_long_count', 71), ('sms_day_3m', 70), ('score', 68), ('family_size', 67), ('total_fee_1m', 66), ('net_used_1m', 65), ('org_cnt', 64), ('invalid_percent', 64), ('called_num_thirty', 64), ('duration_div_thirty', 63), ('org_cnt_14_recent', 63), ('salary_income_amount_3m', 62), ('debitcard_max_balance_12', 62), ('fake_percent', 61), ('risk_count', 60), ('calling_avg_duration_thirty', 60), ('count_div_thirty', 59), ('recharge_cnt_3m', 57), ('sms_fee_3m', 57), ('calling_duration_ninety', 56), ('max_single_time_1m', 56), ('repany_loan_amount_3', 56), ('count_div_one_eighty', 55), ('nearest_loan', 54), ('others_cnt', 53), ('debitcard_shopping_num_1m', 53), ('real_amt_one_eighty', 53), ('loan_out_1y', 53), ('called_duration_thirty', 52), ('apply_7d', 52), ('debitcard_max_balance_6', 52), ('called_avg_duration_thirty', 52), ('duration_div_one_eighty', 51), ('real_amt_ninety', 51), ('debitcard_income_6_avg', 51), ('code_size', 50), ('debitcard_outcome_6_avg', 50), ('calls_num_one_eighty', 49), ('his_overdue_times', 49), ('sms_cnt_3m', 48), ('debitcard_consume_count_12_avg', 47), ('debitcard_shopping_amount_1m', 47), ('income_amt_1y', 47), ('remote_time_3m', 47), ('debitcard_consume_amount_6', 46), ('called_num_one_eighty', 46), ('age', 45), ('offline_cash_loan_cnt', 44), ('debitcard_consume_count_3', 44), ('debitcard_withdraw_amount_12', 44), ('debitcard_in_num_trans_num_ratio_12', 43), ('called_match_num_one_eighty', 43), ('sms_cnt_1m', 42), ('remote_cnt_3m', 42), ('query_times', 41), ('payday_loan_cnt', 41), ('agency_time_3m', 41), ('calling_avg_duration_ninety', 41), ('debitcard_withdraw_amount_3', 40), ('salary_income_amount_average_12m', 39), ('recharge_amount_1m', 39), ('recharge_amount_3m', 39), ('invalid_size', 39), ('other_fee_avg_12', 38), ('debitcard_cash_withdrawal_count_12m', 37), ('calling_match_num_one_eighty', 36), ('avg_loan_days', 35), ('net_fee_3m', 35), ('loan_time_1m', 34), ('vas_fee_3m', 34), ('calling_avg_duration_one_eighty', 34), ('calling_num_one_eighty', 33), ('remote_cnt_1m', 33), ('org_cnt_recent_14_days', 33), ('proportion4', 33), ('repany_loan_amount_avg_12', 33), ('proportion9', 32), ('credit_card_time_1m', 32), ('debitcard_outcome_3', 32), ('debitcard_consume_amount_3', 31), ('salary_income_amount_6m', 31), ('call_avg_duration_one_eighty', 31), ('count_div_ninety', 31), ('avg_loan_success_days', 31), ('sms_fee_1m', 31), ('call_avg_duration_thirty', 30), ('calling_num_thirty', 30), ('avg_loan_success_amount', 30), ('call_match_num_one_eighty', 30), ('contacts_cnt', 29), ('called_avg_duration_one_eighty', 29), ('search_cnt_recent_180_days', 29), ('debitcard_cash_withdrawal_amount_1m', 29), ('debitcard_outcome_12_avg', 27), ('proportion5', 27), ('cnt_1min_within_1m', 27), ('proportion7', 27), ('loan_in_month_num_12', 27), ('good_friend_num_3m', 27), ('max_loan_amount', 27), ('other_fee_3', 27), ('search_30_cnt_7_recent', 26), ('debitcard_recently_balance_12', 26), ('credit_card_cnt_3m', 26), ('credit_card_cnt_1m', 26), ('called_match_num_ninety', 26), ('call_duration_one_eighty', 26), ('called_count_ninety', 26), ('called_match_num_thirty', 26), ('loan_cnt_3m', 25), ('other_fee_avg_6', 25), ('no_calling_day_ninety', 25), ('calling_match_num_ninety', 25), ('debitcard_max_continue_consume_month_12', 24), ('calls_num_ninety', 24), ('org_30_cnt_7_recent', 24), ('repany_loan_mon_num_12', 24), ('min_single_time_1m', 24), ('repany_loan_amount_avg_6', 24), ('calling_match_num_thirty', 24), ('local_time_1m', 23), ('debitcard_withdraw_count_6', 23), ('max_single_recharge_3m', 23), ('debitcard_cash_withdrawal_num_1m', 23), ('call_avg_duration_ninety', 23), ('scale_no_calling_thirty', 23), ('called_duration_ninety', 23), ('size1', 23), ('local_cnt_1m', 23), ('calling_count_thirty', 23), ('search_cnt_recent_60_days', 22), ('calling_duration_thirty', 22), ('debitcard_withdraw_amount_6_avg', 22), ('called_count_one_eighty', 22), ('vas_fee_1m', 22), ('cnt_1min_within_3m', 21), ('sms_day_1m', 21), ('local_time_3m', 21), ('cnt_1min_5min_1m', 21), ('called_duration_one_eighty', 20), ('call_duration_thirty', 20), ('calls_num_thirty', 20), ('calling_count_one_eighty', 20), ('max_power_on_day_3m', 20), ('calls_count_one_eighty', 20), ('called_count_thirty', 20), ('org_cnt_recent_30_days', 19), ('scale_no_calling_one_eighty', 19), ('org_cnt_recent_90_days', 19), ('no_call_day_one_eighty', 19), ('remote_time_1m', 19), ('org_cnt_recent_60_days', 19), ('cnt_1min_5min_3m', 19), ('agency_cnt_3m', 19), ('inter_peer_num_3m', 19), ('call_day_3m', 19), ('call_duration_ninety', 18), ('debitcard_consume_count_6_avg', 18), ('local_cnt_3m', 18), ('debitcard_other_consumption_amount_12m', 18), ('calling_count_ninety', 18), ('called_num_ninety', 18), ('loan_18m', 17), ('org_cnt_recent_7_days', 17), ('valid_size', 17), ('call_match_num_ninety', 17), ('daytime_time_3m', 17), ('credit_card_repayment_cnt', 17), ('fake_size', 17), ('search_cnt_recent_30_days', 16), ('calling_num_ninety', 16), ('daytime_time_1m', 16), ('debitcard_withdraw_count_3', 16), ('proportion2', 16), ('scale_no_call_one_eighty', 15), ('call_match_num_thirty', 15), ('loan_24m', 15), ('loan_12m', 14), ('no_calling_day_one_eighty', 14), ('nearest_loan_success', 14), ('min_single_time_3m', 13), ('proportion8', 13), ('debitcard_recently_balance_6', 12), ('proportion1', 12), ('company_num_1y', 12), ('loan_60m', 11), ('max_power_on_day_1m', 11), ('friend_num_3m', 11), ('loan_in_amount_avg_12', 11), ('calling_duration_one_eighty', 11), ('salary_income_month_num_12', 10), ('debitcard_income_6', 10), ('offline_installment_cnt', 10), ('repany_loan_mon_num_6', 10), ('power_off_day_avg_3m', 9), ('debitcard_other_consumption_num_12m', 9), ('max_single_recharge_1m', 9), ('search_cnt_recent_14_days', 9), ('max_loan_success_amount', 8), ('recharge_avg_cnt_3m', 8), ('agency_time_1m', 8), ('daytime_cnt_3m', 8), ('agency_cnt_1m', 8), ('continue_recharge_month_cnt', 7), ('salary_income_month_num_3', 7), ('salary_income_amount_average_6m', 7), ('online_cash_loan_cnt', 7), ('linkman_count', 7), ('no_call_day_thirty', 7), ('search_cnt_recent_7_days', 7), ('daytime_cnt_1m', 7), ('total_fee_avg_3m', 7), ('debitcard_outcome_6', 6), ('debitcard_outcome_12', 6), ('calls_count_ninety', 6), ('debitcard_consume_count_12m', 6), ('blacklist_contacts_cnt', 5), ('salary_income_1y', 5), ('debitcard_income_12_avg', 5), ('scale_no_calling_ninety', 5), ('power_off_day_1m', 5), ('debitcard_consume_amount_12', 5), ('real_amt_thirty', 5), ('debitcard_max_continue_consume_month_3', 4), ('other_fee_12', 4), ('no_call_day_ninety', 4), ('salary_income_month_num_6', 4), ('repany_loan_amount_6', 4), ('calls_count_thirty', 4), ('avg_install_days', 4), ('repany_loan_amount_12', 3), ('call_day_1m', 3), ('repany_loan_mon_num_3', 3), ('debitcard_withdraw_count_12', 3), ('debitcard_withdraw_amount_6', 3), ('debitcard_withdraw_amount_12_avg', 3), ('debitcard_withdraw_count_6_avg', 3), ('debitcard_consume_amount_6_avg', 2), ('debitcard_withdraw_count_12_avg', 2), ('no_calling_day_thirty', 2), ('debitcard_consume_count_6', 2), ('recharge_amount_avg_3m', 2), ('loan_cnt_1m', 2), ('loan_in_1y', 2), ('debitcard_max_continue_consume_month_6', 2), ('proportion6', 2), ('live_month_cnt_3m', 1), ('scale_no_call_ninety', 1), ('live_month_cnt_1m', 1), ('loan_in_amount_12', 1)]\n"
     ]
    }
   ],
   "source": [
    "\n",
    "print(importances)##查看随机森林变量重要性\n",
    "print(score_sorted)##查看 xgboost"
   ]
  },
  {
   "cell_type": "code",
   "execution_count": 270,
   "metadata": {},
   "outputs": [],
   "source": []
  },
  {
   "cell_type": "code",
   "execution_count": 271,
   "metadata": {},
   "outputs": [
    {
     "name": "stdout",
     "output_type": "stream",
     "text": [
      "高IV值筛选出来的变量有： 70\n",
      "其他模型筛选变量个数： 68\n",
      "最终变量总个数： 105\n"
     ]
    },
    {
     "data": {
      "image/png": "[encoded data removed]",
      "text/plain": [
       "<matplotlib.figure.Figure at 0x209212d4ac8>"
      ]
     },
     "metadata": {},
     "output_type": "display_data"
    }
   ],
   "source": [
    "\n",
    "'''\n",
    "3、变量筛选\n",
    "1)结合woe、随机森林和xgboost 筛选变量\n",
    "'''\n",
    "##IV值筛选出来的变量\n",
    "high_IV = {k:v for k, v in IV_dict.items() if v >= 0.02}##选取IV值大于0.04的变量（0.2+的变量就有高预测性，0.02以下的变量不具预测性）\n",
    "high_IV_sorted = sorted(high_IV.items(),key=lambda x:x[1],reverse=True)\n",
    "\n",
    "looso_features=list(new_reg_data.columns.values)\n",
    "RF_features=list(importances[:30]['feature']) ##取重要性排名前30的 变量\n",
    "xgboost_features=[]\n",
    "for item in score_sorted[:30]:  ##可以选取前20个重要性变量\n",
    "    xgboost_features.append(item[0])\n",
    "\n",
    "short_list1 = list(high_IV.keys())\n",
    "print(\"高IV值筛选出来的变量有：\",len(short_list1))\n",
    "#high_IV_sorted\n",
    "\n",
    "RF_feature=To_Bin(RF_features)\n",
    "xgb_feature=To_Bin(xgboost_features)\n",
    "#looso_feature=To_Bin(looso_features)\n",
    "other_future=list(set(RF_feature+xgb_feature))\n",
    "print('其他模型筛选变量个数：',len(other_future))\n",
    "\n",
    "short_list = list(set(short_list1 + other_future))\n",
    "print('最终变量总个数：',len(short_list))\n",
    "short_list_2 = []\n",
    "for var in short_list:\n",
    "    newVar = var + '_WOE'\n",
    "    trainData[newVar] = trainData[var].map(WOE_dict[var])\n",
    "    short_list_2.append(newVar)\n",
    "#对于上一步的结果，计算相关系数矩阵，并画出热力图进行数据可视化\n",
    "trainDataWOE = trainData[short_list_2]\n",
    "f, ax = plt.subplots(figsize=(10, 8))\n",
    "corr = trainDataWOE.corr()\n",
    "sns.heatmap(corr, mask=np.zeros_like(corr, dtype=np.bool), cmap=sns.diverging_palette(220, 10, as_cmap=True),square=True, ax=ax)\n",
    "plt.show()\n",
    "corr.to_csv(\"F:/onbank_model/相关性矩阵.csv\",sep=\",\", index=False)\n"
   ]
  },
  {
   "cell_type": "code",
   "execution_count": 272,
   "metadata": {},
   "outputs": [
    {
     "name": "stdout",
     "output_type": "stream",
     "text": [
      "删除相关性变量剩余： 75\n",
      "3.90559410595\n"
     ]
    },
    {
     "name": "stderr",
     "output_type": "stream",
     "text": [
      "E:\\360Downloads\\Python\\lib\\site-packages\\ipykernel\\__main__.py:71: SettingWithCopyWarning: \n",
      "A value is trying to be set on a copy of a slice from a DataFrame\n",
      "\n",
      "See the caveats in the documentation: http://pandas.pydata.org/pandas-docs/stable/indexing.html#indexing-view-versus-copy\n"
     ]
    },
    {
     "name": "stdout",
     "output_type": "stream",
     "text": [
      "删除一个箱中样本数超过80% 的变量剩余： 68\n"
     ]
    }
   ],
   "source": [
    "'''\n",
    "2）变量相关性处理\n",
    "删除相关性大于0.7的变量\n",
    "'''\n",
    "short_list_IV = {k:v for k, v in IV_dict.items() if k in short_list}    \n",
    "IV_short_list=sorted(short_list_IV.items(), key=lambda x: x[1], reverse=True) \n",
    "\n",
    "\n",
    "deleted_index = []\n",
    "cnt_vars = len(short_list_2)\n",
    "for i in range(cnt_vars):\n",
    "    if i in deleted_index:\n",
    "        continue\n",
    "    x1 = IV_short_list[i][0]+\"_WOE\"  ##short_list_2[i]代替\n",
    "    for j in range(cnt_vars):\n",
    "        if i == j or j in deleted_index:\n",
    "            continue\n",
    "        y1 = IV_short_list[j][0]+\"_WOE\" ##short_list_2[j]代替\n",
    "        roh = np.corrcoef(trainData[x1],trainData[y1])[0,1]\n",
    "        if abs(roh)>0.7:\n",
    "            x1_IV = IV_short_list[i][1]  ##表示变量iv值\n",
    "            y1_IV = IV_short_list[j][1]\n",
    "            if x1_IV > y1_IV:\n",
    "                deleted_index.append(j)\n",
    "            else:\n",
    "                deleted_index.append(i)\n",
    "\n",
    "multi_analysis_vars_1 = [IV_short_list[i][0]+\"_WOE\"  for i in range(cnt_vars) if i not in deleted_index]\n",
    "print('删除相关性变量剩余：',len(multi_analysis_vars_1))\n",
    "\n",
    "'''\n",
    "这里可以进行相关性变量替换\n",
    "'''\n",
    "corr_to_move = [IV_short_list[i][0]+\"_WOE\"  for i in range(cnt_vars) if i in deleted_index]\n",
    "corr_to_move  ###要删除的 相关性的变量\n",
    "\n",
    "# corr_to_move.append('query_times_Bin_WOE')                    \n",
    "# corr_to_move.remove('org_cnt_Bin_WOE')\n",
    "multi_analysis_vars_1=[]\n",
    "for item in short_list:\n",
    "    new=item+'_WOE'\n",
    "    if new not in corr_to_move:\n",
    "        multi_analysis_vars_1.append(new)\n",
    "        \n",
    "len(multi_analysis_vars_1)\n",
    "pd.DataFrame(multi_analysis_vars_1).to_csv(\"F:/onbank_model/Var.csv\", sep=\",\")\n",
    "\n",
    "'''\n",
    "3）多变量分析：VIF\n",
    "多重共线性判断\n",
    "'''\n",
    "X = np.matrix(trainData[multi_analysis_vars_1])\n",
    "VIF_list = [variance_inflation_factor(X, i) for i in range(X.shape[1])]\n",
    "max_VIF = max(VIF_list)\n",
    "print (max_VIF)\n",
    "# 最大的VIF<5，因此这一步认为多重共线性影响不大\n",
    "multi_analysis = multi_analysis_vars_1 \n",
    "\n",
    "y = trainData['y']\n",
    "X = trainData[multi_analysis]\n",
    "#X['intercept'] = [1]*X.shape[0]\n",
    "\n",
    "'''\n",
    "4) 删除箱中样本数大于一定比率的 变量\n",
    "'''\n",
    "dropVar=[]\n",
    "for name in multi_analysis:\n",
    "    if X[name].value_counts().iloc[0] / X.shape[0] >=0.8:\n",
    "        dropVar.append(name)\n",
    "#dropVar.remove('org_count_Bin_WOE')        \n",
    "X.drop(dropVar,axis=1,inplace=True)\n",
    "\n",
    "print('删除一个箱中样本数超过80% 的变量剩余：',len(list(X.columns.values)))"
   ]
  },
  {
   "cell_type": "code",
   "execution_count": 273,
   "metadata": {},
   "outputs": [
    {
     "data": {
      "text/plain": [
       "[('apply_1m_Bin', 0.33905381693441494),\n",
       " ('final_score_Bin', 0.33062031937555508),\n",
       " ('apply_3m_Bin', 0.27477389472436969),\n",
       " ('final_dicision_Bin', 0.21167744178063358),\n",
       " ('apply_7d_Bin', 0.19186228568947863),\n",
       " ('org_count_Bin', 0.17345417943925751),\n",
       " ('org_cnt_recent_180_days_Bin', 0.16504238270820387),\n",
       " ('org_cnt_recent_60_days_Bin', 0.13937867951665117),\n",
       " ('org_180_cnt_14_recent_Bin', 0.094997126206968749),\n",
       " ('debitcard_balance_Bin', 0.089864115818452411),\n",
       " ('loan_ratio_Bin', 0.084562078706266697),\n",
       " ('peer_loc_cnt_1m_Bin', 0.074495860919267798),\n",
       " ('risk_count_Bin', 0.073836171065598366),\n",
       " ('payday_loan_cnt_Bin', 0.069817695854845929),\n",
       " ('org_cnt_Bin', 0.06804776068460415),\n",
       " ('search_cnt_recent_7_days_Bin', 0.06438262774761308),\n",
       " ('zm_score_Bin', 0.058753272728628694),\n",
       " ('search_cnt_recent_90_days_Bin', 0.056077069722084899),\n",
       " ('max_loan_success_amount_Bin', 0.055390115450341608),\n",
       " ('nearest_loan_Bin', 0.054700941349195703),\n",
       " ('blacklist_indirect_contacts_cnt_Bin', 0.051056523650662294),\n",
       " ('loan_time_3m_Bin', 0.050826798281281282),\n",
       " ('credit_card_time_3m_Bin', 0.04752009135212916),\n",
       " ('valid_size_Bin', 0.037932457869752266),\n",
       " ('debitcard_recently_balance_3_Bin', 0.037869289400756803),\n",
       " ('extend_phone_age_Bin', 0.037509081379761736),\n",
       " ('avg_loan_success_amount_Bin', 0.036406820841690592),\n",
       " ('search_30_cnt_7_recent_Bin', 0.036388851765214919),\n",
       " ('blacklist_routers_pct_Bin', 0.034461738950894799),\n",
       " ('avg_loan_amount_Bin', 0.032993043093711566),\n",
       " ('loan_time_1m_Bin', 0.030732534650672202),\n",
       " ('offline_installment_cnt_Bin', 0.030495574213187136),\n",
       " ('credit_card_time_1m_Bin', 0.030351206988911923),\n",
       " ('os_type', 0.02900240166303629),\n",
       " ('his_overdue_times_Bin', 0.028864968175576669),\n",
       " ('search_cnt_14_recent_Bin', 0.026131629425428335),\n",
       " ('org_30_cnt_7_recent_Bin', 0.023238838738827469),\n",
       " ('called_match_num_thirty_Bin', 0.022965092110636506),\n",
       " ('called_avg_duration_ninety_Bin', 0.016876716889964203),\n",
       " ('max_single_time_3m_Bin', 0.015369005998435353),\n",
       " ('blacklist_routers_cnt_Bin', 0.013106079119290001),\n",
       " ('proportion3_Bin', 0.012533765054882309),\n",
       " ('calling_avg_duration_thirty_Bin', 0.0105658331507614),\n",
       " ('net_used_3m_Bin', 0.010470493905066672),\n",
       " ('family_size_Bin', 0.010097067378553624),\n",
       " ('calls_percent_Bin', 0.0095926224026867332),\n",
       " ('total_fee_1m_Bin', 0.00899400018515557),\n",
       " ('sms_fee_3m_Bin', 0.0082993534150729957),\n",
       " ('available_balance_Bin', 0.0075686301890292599),\n",
       " ('max_single_time_1m_Bin', 0.0067880069081135627),\n",
       " ('debitcard_consume_amount_12_avg_Bin', 0.006715296403865036),\n",
       " ('nearest_unpass_org_Bin', 0.0061634891751704054),\n",
       " ('duration_div_ninety_Bin', 0.0060331331008528126),\n",
       " ('debitcard_income_3_Bin', 0.0040947720381126554),\n",
       " ('called_duration_thirty_Bin', 0.0036982662215623973),\n",
       " ('org_cnt_14_recent_Bin', 0.0034129508908183159),\n",
       " ('debitcard_max_balance_3_Bin', 0.003225409474807487),\n",
       " ('duration_div_thirty_Bin', 0.0026650661359587588),\n",
       " ('fake_percent_Bin', 0.0017009159557325954),\n",
       " ('contacts_cnt_Bin', 0.0010288389914532234),\n",
       " ('debitcard_max_balance_12_Bin', 0.00099993664936779141),\n",
       " ('sms_cnt_3m_Bin', 0.00075075558947003429),\n",
       " ('sms_cnt_1m_Bin', 0.00038240746009708052),\n",
       " ('remote_time_3m_Bin', 0.00032879193430690045),\n",
       " ('called_num_one_eighty_Bin', 0.00018221921118074031),\n",
       " ('loan_success_ratio_Bin', 0.00011187640483081369),\n",
       " ('net_used_1m_Bin', 6.5754401879864193e-05),\n",
       " ('calling_num_one_eighty_Bin', 7.0144051366950942e-07)]"
      ]
     },
     "execution_count": 273,
     "metadata": {},
     "output_type": "execute_result"
    }
   ],
   "source": [
    "##查看剩余变量的IV值\n",
    "IV_list=[]\n",
    "for item in list(X.columns.values):\n",
    "    new=item[:-4]\n",
    "    IV_list.append(new)\n",
    "    \n",
    "IV = {k:v for k, v in IV_dict.items() if k in IV_list}\n",
    "IV_sorted = sorted(IV.items(),key=lambda x:x[1],reverse=True)\n",
    "IV_sorted"
   ]
  },
  {
   "cell_type": "code",
   "execution_count": 275,
   "metadata": {},
   "outputs": [],
   "source": [
    "'''\n",
    "这一步 第一次可以跳过，先看自动筛选出来的结果\n",
    "作为手动调节变量步骤\n",
    "'''\n",
    "keep=['blacklist_indirect_contacts_cnt_Bin_WOE',\n",
    " 'final_score_Bin_WOE',\n",
    " 'extend_phone_age_Bin_WOE',\n",
    " 'zm_score_Bin_WOE',\n",
    " 'apply_1m_Bin_WOE',\n",
    " 'org_180_cnt_14_recent_Bin_WOE',\n",
    " 'org_count_Bin_WOE',\n",
    " 'peer_loc_cnt_1m_Bin_WOE',\n",
    " 'credit_card_time_3m_Bin_WOE',\n",
    " 'debitcard_balance_Bin_WOE',\n",
    " 'loan_ratio_Bin_WOE',\n",
    " 'blacklist_routers_pct_Bin_WOE',\n",
    "'debitcard_recently_balance_3_Bin_WOE',\n",
    "'debitcard_income_3_Bin_WOE'\n",
    "     ]\n",
    "X=trainData[keep]"
   ]
  },
  {
   "cell_type": "code",
   "execution_count": 276,
   "metadata": {},
   "outputs": [
    {
     "name": "stdout",
     "output_type": "stream",
     "text": [
      "Optimization terminated successfully.\n",
      "         Current function value: 0.591844\n",
      "         Iterations 5\n"
     ]
    }
   ],
   "source": [
    "'''\n",
    "五、逻辑回归模型。\n",
    "要求：\n",
    "1，变量显著\n",
    "2，符号为负\n",
    "'''\n",
    "### (1)将多变量分析的后变量带入LR模型中\n",
    "LR = sm.Logit(y, X).fit()\n",
    "summary = LR.summary()\n",
    "pvals = LR.pvalues\n",
    "pvals = pvals.to_dict()\n",
    "\n",
    "# ### 有些变量不显著，需要逐步剔除\n",
    "multi_analysis=list(X.columns.values)\n",
    "varLargeP = {k: v for k,v in pvals.items() if v >= 0.1}\n",
    "varLargeP = sorted(varLargeP.items(), key=lambda d:d[1], reverse = True)\n",
    "\n",
    "while(len(varLargeP) > 0 and len(multi_analysis) > 0):\n",
    "    # 每次迭代中，剔除最不显著的变量，直到\n",
    "    # (1) 剩余所有变量均显著\n",
    "    # (2) 没有特征可选\n",
    "    varMaxP = varLargeP[0][0]\n",
    "    print(varMaxP)\n",
    "    if varMaxP == 'intercept':\n",
    "        print ('the intercept is not significant!')\n",
    "        break\n",
    "    multi_analysis.remove(varMaxP)\n",
    "    \n",
    "    y = trainData['y']\n",
    "    X = trainData[multi_analysis]\n",
    "    #X['intercept'] = [1] * X.shape[0]\n",
    "\n",
    "    LR = sm.Logit(y, X).fit()\n",
    "    #summary = LR.summary()\n",
    "    pvals = LR.pvalues\n",
    "    pvals = pvals.to_dict()\n",
    "    varLargeP = {k: v for k, v in pvals.items() if v >= 0.01}\n",
    "    varLargeP = sorted(varLargeP.items(), key=lambda d: d[1], reverse=True)"
   ]
  },
  {
   "cell_type": "code",
   "execution_count": 277,
   "metadata": {},
   "outputs": [
    {
     "name": "stdout",
     "output_type": "stream",
     "text": [
      "逻辑回归AUC面积为： 0.74960210102\n"
     ]
    }
   ],
   "source": [
    "from sklearn.metrics import roc_auc_score\n",
    "trainData['prob'] = LR.predict(X)\n",
    "auc = roc_auc_score(trainData['y'],trainData['prob']) \n",
    "print('逻辑回归AUC面积为：',auc)"
   ]
  },
  {
   "cell_type": "code",
   "execution_count": 279,
   "metadata": {},
   "outputs": [
    {
     "name": "stdout",
     "output_type": "stream",
     "text": [
      "blacklist_indirect_contacts_cnt\n",
      "[85.0, 930.0, 1716.0]\n",
      "Bin 0 -7.285377599\n",
      "Bin 1 -6.45958034465\n",
      "Bin 2 24.8385480812\n",
      "Bin 3 32.7301953113\n",
      "[85.0, 930.0, 1716.0]\n",
      "final_score\n",
      "[44.0, 109.0, 143.0, 177.0]\n",
      "Bin 0 27.2303275038\n",
      "Bin 1 6.51806431978\n",
      "Bin 2 -13.508207003\n",
      "Bin 3 -20.6629768361\n",
      "Bin 4 -31.6278950041\n",
      "[44.0, 109.0, 143.0, 177.0]\n",
      "extend_phone_age\n",
      "[987.0, 1420.0, 2301.0, 3717.0]\n",
      "Bin 0 -9.39855932985\n",
      "Bin 1 -7.57011064055\n",
      "Bin 2 -0.95903580834\n",
      "Bin 3 5.9984930282\n",
      "Bin 4 21.0841172733\n",
      "[987.0, 1420.0, 2301.0, 3717.0]\n",
      "zm_score\n",
      "[577.0, 605.0, 655.0, 692.0]\n",
      "Bin 0 -25.0366736175\n",
      "Bin 1 -19.5272693077\n",
      "Bin 2 -4.45625573547\n",
      "Bin 3 5.87251309183\n",
      "Bin 4 16.8195753952\n",
      "[577.0, 605.0, 655.0, 692.0]\n",
      "apply_1m\n",
      "[13.0, 34.0, 41.0, 56.0]\n",
      "Bin 0 16.0095692051\n",
      "Bin 1 -7.5542608581\n",
      "Bin 2 -29.3312531519\n",
      "Bin 3 -39.6240309021\n",
      "Bin 4 -69.1715833979\n",
      "[13.0, 34.0, 41.0, 56.0]\n",
      "org_180_cnt_14_recent\n",
      "[5, 21, 37]\n",
      "Bin 0 4.56167629526\n",
      "Bin 1 -3.06009434088\n",
      "Bin 2 -13.5252915085\n",
      "Bin 3 -55.970397384\n",
      "[5, 21, 37]\n",
      "org_count\n",
      "[1.0, 3.0, 15.0, 19.0]\n",
      "Bin 0 4.96065545709\n",
      "Bin 1 3.1110379819\n",
      "Bin 2 -0.94432688058\n",
      "Bin 3 -4.44826064916\n",
      "Bin 4 -4.72366254691\n",
      "[1.0, 3.0, 15.0, 19.0]\n",
      "peer_loc_cnt_1m\n",
      "[21.0, 35.0, 43.0, 61.0]\n",
      "Bin 0 3.62278171454\n",
      "Bin 1 -3.86755300455\n",
      "Bin 2 -14.0122598077\n",
      "Bin 3 -14.2213286438\n",
      "Bin 4 -28.0852408678\n",
      "[21.0, 35.0, 43.0, 61.0]\n",
      "credit_card_time_3m\n",
      "[0.0, 219.0, 726.0, 2032.0]\n",
      "Bin 0 13.926920049\n",
      "Bin 1 0.903288309548\n",
      "Bin 2 -2.36052295283\n",
      "Bin 3 -9.14156586888\n",
      "Bin 4 -30.9966145602\n",
      "[0.0, 219.0, 726.0, 2032.0]\n",
      "debitcard_balance\n",
      "[0.17999999999999999, 9.4499999999999993, 160.69999999999999, 3615.9200000000001]\n",
      "Bin 0 -18.2751131614\n",
      "Bin 1 -9.66296545453\n",
      "Bin 2 -3.56313974577\n",
      "Bin 3 11.0119123826\n",
      "Bin 4 28.7266365273\n",
      "[0.17999999999999999, 9.4499999999999993, 160.69999999999999, 3615.9200000000001]\n",
      "loan_ratio\n",
      "[0.28999999999999998, 0.58440431443046459]\n",
      "Bin 0 6.7704027407\n",
      "Bin 1 1.30968238166\n",
      "Bin 2 -2.99658018398\n",
      "[0.28999999999999998, 0.58440431443046459]\n",
      "blacklist_routers_pct\n",
      "[0.0, 0.10000000000000001, 0.34999999999999998, 0.59999999999999998]\n",
      "Bin 0 -25.1771416489\n",
      "Bin 1 -17.0679741968\n",
      "Bin 2 -2.32715218862\n",
      "Bin 3 6.57169223957\n",
      "Bin 4 6.92469490183\n",
      "[0.0, 0.10000000000000001, 0.34999999999999998, 0.59999999999999998]\n",
      "debitcard_recently_balance_3\n",
      "[2.5499999999999998, 157.25, 2564.8899999999999]\n",
      "Bin 0 -11.2496678576\n",
      "Bin 1 -3.65239493672\n",
      "Bin 2 2.26273307503\n",
      "Bin 3 7.96209402924\n",
      "[2.5499999999999998, 157.25, 2564.8899999999999]\n",
      "debitcard_income_3\n",
      "[40423.879999999997, 144678.78, 370429.5]\n",
      "Bin 0 9.49058280595\n",
      "Bin 1 -0.476083020785\n",
      "Bin 2 -0.87968485507\n",
      "Bin 3 -9.13282291858\n",
      "[40423.879999999997, 144678.78, 370429.5]\n"
     ]
    }
   ],
   "source": [
    "'''\n",
    "六、确定最终变量及其分箱得分\n",
    "'''\n",
    "used_feature = []\n",
    "\n",
    "last_features=list(LR.params.index.values)\n",
    "#last_features.remove('os_type_WOE')\n",
    "\n",
    "\n",
    "for item in last_features:\n",
    "    if(LR.params[item] < 0 and item != 'intercept'):\n",
    "        used_feature.append(item[:-8])\n",
    "        \n",
    "#used_feature.append('os_type')\n",
    "\n",
    "def to_df(interval, values,name):\n",
    "    if -float(\"inf\") in interval:\n",
    "        interval.remove(-float(\"inf\"))\n",
    "    if float(\"inf\") in interval:\n",
    "        interval.remove(float(\"inf\"))\n",
    "    print(interval)\n",
    "    interval = interval.copy()\n",
    "    interval.insert(0, -float(\"inf\"))\n",
    "    interval.append(float(\"inf\"))\n",
    "    ninterval = []\n",
    "    for i in range(0,len(interval) - 1):\n",
    "        tempstr = str(interval[i]) + ',' + str(interval[i + 1])\n",
    "        ninterval.append(tempstr)\n",
    "    ninterval.insert(0, name)\n",
    "    values.insert(0, '   ')\n",
    "    result = pd.DataFrame(ninterval,columns = ['interval'])\n",
    "    result['value'] = values\n",
    "    return result\n",
    "        \n",
    "result = pd.DataFrame()\n",
    "for name in used_feature:\n",
    "    values = []\n",
    "    if name in continous_merged_dict.keys():\n",
    "        print(name)\n",
    "        print(continous_merged_dict[name])\n",
    "        interval = continous_merged_dict[name]\n",
    "        new = name + \"_Bin\" \n",
    "        coef = LR.params[new + \"_WOE\"]\n",
    "        for key, value in WOE_dict[new].items():\n",
    "            print(key,value *43.28085 * -1 * coef)\n",
    "            values.append(value *43.28085 * -1 * coef)\n",
    "        result = result.append(to_df(interval,values,name))\n",
    "    else:\n",
    "        print(name)\n",
    "        for key, value in WOE_dict[name].items():\n",
    "            print(key,value *43.28085 * -1 * coef)\n",
    "            values.append(value *43.28085 * -1 * coef)            \n",
    "        result = result.append(to_df(interval,values,name))\n",
    "        \n",
    "result.to_csv('F:/onbank_model/myPython/interval_814_rank.csv',index = False)\n"
   ]
  },
  {
   "cell_type": "code",
   "execution_count": 280,
   "metadata": {},
   "outputs": [
    {
     "data": {
      "text/plain": [
       "['blacklist_indirect_contacts_cnt',\n",
       " 'final_score',\n",
       " 'extend_phone_age',\n",
       " 'zm_score',\n",
       " 'apply_1m',\n",
       " 'org_180_cnt_14_recent',\n",
       " 'org_count',\n",
       " 'peer_loc_cnt_1m',\n",
       " 'credit_card_time_3m',\n",
       " 'debitcard_balance',\n",
       " 'loan_ratio',\n",
       " 'blacklist_routers_pct',\n",
       " 'debitcard_recently_balance_3',\n",
       " 'debitcard_income_3']"
      ]
     },
     "execution_count": 280,
     "metadata": {},
     "output_type": "execute_result"
    }
   ],
   "source": [
    "used_feature"
   ]
  },
  {
   "cell_type": "code",
   "execution_count": 281,
   "metadata": {},
   "outputs": [
    {
     "name": "stderr",
     "output_type": "stream",
     "text": [
      "E:\\360Downloads\\Python\\lib\\site-packages\\ipykernel\\__main__.py:9: SettingWithCopyWarning: \n",
      "A value is trying to be set on a copy of a slice from a DataFrame.\n",
      "Try using .loc[row_indexer,col_indexer] = value instead\n",
      "\n",
      "See the caveats in the documentation: http://pandas.pydata.org/pandas-docs/stable/indexing.html#indexing-view-versus-copy\n",
      "E:\\360Downloads\\Python\\lib\\site-packages\\ipykernel\\__main__.py:10: SettingWithCopyWarning: \n",
      "A value is trying to be set on a copy of a slice from a DataFrame\n",
      "\n",
      "See the caveats in the documentation: http://pandas.pydata.org/pandas-docs/stable/indexing.html#indexing-view-versus-copy\n",
      "E:\\360Downloads\\Python\\lib\\site-packages\\ipykernel\\__main__.py:15: SettingWithCopyWarning: \n",
      "A value is trying to be set on a copy of a slice from a DataFrame.\n",
      "Try using .loc[row_indexer,col_indexer] = value instead\n",
      "\n",
      "See the caveats in the documentation: http://pandas.pydata.org/pandas-docs/stable/indexing.html#indexing-view-versus-copy\n",
      "E:\\360Downloads\\Python\\lib\\site-packages\\ipykernel\\__main__.py:16: SettingWithCopyWarning: \n",
      "A value is trying to be set on a copy of a slice from a DataFrame\n",
      "\n",
      "See the caveats in the documentation: http://pandas.pydata.org/pandas-docs/stable/indexing.html#indexing-view-versus-copy\n",
      "E:\\360Downloads\\Python\\lib\\site-packages\\ipykernel\\__main__.py:21: SettingWithCopyWarning: \n",
      "A value is trying to be set on a copy of a slice from a DataFrame.\n",
      "Try using .loc[row_indexer,col_indexer] = value instead\n",
      "\n",
      "See the caveats in the documentation: http://pandas.pydata.org/pandas-docs/stable/indexing.html#indexing-view-versus-copy\n",
      "E:\\360Downloads\\Python\\lib\\site-packages\\ipykernel\\__main__.py:23: SettingWithCopyWarning: \n",
      "A value is trying to be set on a copy of a slice from a DataFrame.\n",
      "Try using .loc[row_indexer,col_indexer] = value instead\n",
      "\n",
      "See the caveats in the documentation: http://pandas.pydata.org/pandas-docs/stable/indexing.html#indexing-view-versus-copy\n",
      "E:\\360Downloads\\Python\\lib\\site-packages\\ipykernel\\__main__.py:34: SettingWithCopyWarning: \n",
      "A value is trying to be set on a copy of a slice from a DataFrame.\n",
      "Try using .loc[row_indexer,col_indexer] = value instead\n",
      "\n",
      "See the caveats in the documentation: http://pandas.pydata.org/pandas-docs/stable/indexing.html#indexing-view-versus-copy\n",
      "E:\\360Downloads\\Python\\lib\\site-packages\\ipykernel\\__main__.py:35: SettingWithCopyWarning: \n",
      "A value is trying to be set on a copy of a slice from a DataFrame\n",
      "\n",
      "See the caveats in the documentation: http://pandas.pydata.org/pandas-docs/stable/indexing.html#indexing-view-versus-copy\n",
      "E:\\360Downloads\\Python\\lib\\site-packages\\ipykernel\\__main__.py:40: SettingWithCopyWarning: \n",
      "A value is trying to be set on a copy of a slice from a DataFrame.\n",
      "Try using .loc[row_indexer,col_indexer] = value instead\n",
      "\n",
      "See the caveats in the documentation: http://pandas.pydata.org/pandas-docs/stable/indexing.html#indexing-view-versus-copy\n",
      "E:\\360Downloads\\Python\\lib\\site-packages\\ipykernel\\__main__.py:41: SettingWithCopyWarning: \n",
      "A value is trying to be set on a copy of a slice from a DataFrame\n",
      "\n",
      "See the caveats in the documentation: http://pandas.pydata.org/pandas-docs/stable/indexing.html#indexing-view-versus-copy\n",
      "E:\\360Downloads\\Python\\lib\\site-packages\\ipykernel\\__main__.py:45: SettingWithCopyWarning: \n",
      "A value is trying to be set on a copy of a slice from a DataFrame.\n",
      "Try using .loc[row_indexer,col_indexer] = value instead\n",
      "\n",
      "See the caveats in the documentation: http://pandas.pydata.org/pandas-docs/stable/indexing.html#indexing-view-versus-copy\n",
      "E:\\360Downloads\\Python\\lib\\site-packages\\ipykernel\\__main__.py:47: SettingWithCopyWarning: \n",
      "A value is trying to be set on a copy of a slice from a DataFrame.\n",
      "Try using .loc[row_indexer,col_indexer] = value instead\n",
      "\n",
      "See the caveats in the documentation: http://pandas.pydata.org/pandas-docs/stable/indexing.html#indexing-view-versus-copy\n"
     ]
    }
   ],
   "source": [
    "'''\n",
    "七、计算得分\n",
    "'''\n",
    "##计算训练集上得分\n",
    "train_score=train[used_feature]\n",
    "for name in train_score.columns.values:\n",
    "    if name in continous_merged_dict.keys():\n",
    "        new_name = name + \"_Bin\"\n",
    "        temp_cutoff = continous_merged_dict[name]\n",
    "        train_score[new_name] = train_score[name].map(lambda x: AssignBin(x, temp_cutoff))##对测试集原始数据 根据区间段进行 分箱\n",
    "        train_score.drop([name],axis = 1, inplace = True)\n",
    "        \n",
    "for name in train_score.columns.values:\n",
    "    new_name = name + \"_WOE\"\n",
    "    woe = WOE_dict[name] \n",
    "    train_score[new_name] = train_score[name].map(lambda x: woe[x])\n",
    "    train_score.drop([name],axis = 1, inplace = True)\n",
    "    \n",
    "    \n",
    "for name in train_score.columns.values:\n",
    "    coef = LR.params[name]\n",
    "    train_score[name] = coef * train_score[name]  * 43.28085 * -1\n",
    "\n",
    "train_score['score']=train_score.sum(axis = 1)\n",
    "pd.concat([train_score['score'], mydata1['target']], axis=1).to_csv('F:/811train_rank.csv',index = False)\n",
    "\n",
    "'''\n",
    "计算测试集上的评分\n",
    "'''\n",
    "test1=test[used_feature]\n",
    "for name in test1.columns.values:\n",
    "    if name in continous_merged_dict.keys():\n",
    "        new_name = name + \"_Bin\"\n",
    "        temp_cutoff = continous_merged_dict[name]\n",
    "        test1[new_name] = test1[name].map(lambda x: AssignBin(x, temp_cutoff))##对测试集原始数据 根据区间段进行 分箱\n",
    "        test1.drop([name],axis = 1, inplace = True)\n",
    "        \n",
    "for name in test1.columns.values:\n",
    "    new_name = name + \"_WOE\"\n",
    "    woe = WOE_dict[name] \n",
    "    test1[new_name] = test1[name].map(lambda x: woe[x])\n",
    "    test1.drop([name],axis = 1, inplace = True)\n",
    "    \n",
    "for name in test1.columns.values:\n",
    "    coef = LR.params[name]\n",
    "    test1[name] = coef * test1[name]  * 43.28085 * -1\n",
    "\n",
    "test1['score']=test1.sum(axis = 1)\n",
    "#result=pd.concat([test1['score'], test['target']], axis=1)\n",
    "pd.concat([test1['score'], test['target']], axis=1).to_csv('F:/808test_rank.csv',index = False)"
   ]
  },
  {
   "cell_type": "code",
   "execution_count": 1465,
   "metadata": {},
   "outputs": [],
   "source": []
  },
  {
   "cell_type": "code",
   "execution_count": null,
   "metadata": {
    "collapsed": true
   },
   "outputs": [],
   "source": []
  }
 ],
 "metadata": {
  "kernelspec": {
   "display_name": "Python 3",
   "language": "python",
   "name": "python3"
  },
  "language_info": {
   "codemirror_mode": {
    "name": "ipython",
    "version": 3
   },
   "file_extension": ".py",
   "mimetype": "text/x-python",
   "name": "python",
   "nbconvert_exporter": "python",
   "pygments_lexer": "ipython3",
   "version": "3.7.3"
  }
 },
 "nbformat": 4,
 "nbformat_minor": 2
}
